{
 "cells": [
  {
   "cell_type": "code",
   "execution_count": 31,
   "metadata": {},
   "outputs": [],
   "source": [
    "import numpy as np\n",
    "import re\n",
    "from itertools import product, permutations, combinations, cycle, zip_longest, chain\n",
    "from collections import Counter, deque, defaultdict, OrderedDict\n",
    "import networkx as nx\n",
    "import string\n",
    "import matplotlib.pyplot as plt\n",
    "from functools import cmp_to_key\n",
    "from sympy.solvers import solve\n",
    "from sympy import Symbol\n",
    "from sympy import sympify\n",
    "\n",
    "%matplotlib inline"
   ]
  },
  {
   "cell_type": "code",
   "execution_count": 104,
   "metadata": {},
   "outputs": [],
   "source": []
  },
  {
   "cell_type": "code",
   "execution_count": null,
   "metadata": {},
   "outputs": [],
   "source": []
  },
  {
   "cell_type": "code",
   "execution_count": 105,
   "metadata": {},
   "outputs": [],
   "source": [
    "def move1(loc, rots, m, locs):\n",
    "    if m == 'R':\n",
    "        rots.rotate(-1)\n",
    "        return loc, rots\n",
    "    elif m == 'L':\n",
    "        rots.rotate(1)\n",
    "        return loc, rots\n",
    "    else:\n",
    "        for _ in range(m):\n",
    "            d = rots[0]\n",
    "            new_loc = tuple([sum(z) for z in zip(loc, d)])\n",
    "            \n",
    "            if new_loc not in locs:\n",
    "                if d == (1, 0):\n",
    "                    new_loc = (min([x for x, y in locs.keys() if y==loc[1]]), loc[1])\n",
    "                if d == (-1, 0):\n",
    "                    new_loc = (max([x for x, y in locs.keys() if y==loc[1]]), loc[1])\n",
    "                if d == (0, 1):\n",
    "                    new_loc = (loc[0], min([y for x, y in locs.keys() if x==loc[0]]))\n",
    "                if d == (0, -1):\n",
    "                    new_loc = (loc[0], max([y for x, y in locs.keys() if x==loc[0]]))\n",
    "            \n",
    "            if locs[new_loc] == '.':\n",
    "                loc = new_loc\n",
    "            elif locs[new_loc] == '#':\n",
    "                return loc, rots\n",
    "            \n",
    "        return loc, rots\n",
    "    "
   ]
  },
  {
   "cell_type": "code",
   "execution_count": 106,
   "metadata": {},
   "outputs": [],
   "source": [
    "# input\n",
    "problemnumber = '22'\n",
    "fn = f'../{problemnumber}/{problemnumber}.txt'\n",
    "# fn = f'../{problemnumber}/{problemnumber}t.txt'\n",
    "\n",
    "\n",
    "with open(fn) as fh:\n",
    "    m, instr = fh.read().split('\\n\\n')\n",
    "\n",
    "locs = {}\n",
    "for y, row in enumerate(m.split('\\n')):\n",
    "    for x, t in enumerate(row):\n",
    "        if t in ['#', '.']:\n",
    "            locs[(x, y)] = t\n",
    "            \n",
    "instr = re.findall(r'(\\d+)([A-Z]?)', instr)\n",
    "\n",
    "moves = []\n",
    "for x in instr:\n",
    "    for y in x:\n",
    "        if y in 'RL':\n",
    "            moves.append(y)\n",
    "        else:\n",
    "            moves.append(int(y))\n",
    "moves = moves[:-1]\n",
    "\n",
    "starty = min([y for x, y in locs.keys()])\n",
    "startx = min([x for x, y in locs.keys() if y==starty])\n",
    "loc = (startx, starty)\n",
    "f = 'R'\n",
    "\n",
    "rots = [(1, 0), (0, 1), (-1, 0), (0, -1)]  # rot 1 for L, -1 for R\n",
    "rots = deque(rots)"
   ]
  },
  {
   "cell_type": "code",
   "execution_count": 107,
   "metadata": {},
   "outputs": [],
   "source": [
    "# print(loc)\n",
    "for m in moves:\n",
    "#     print(m)\n",
    "    loc, rots = move1(loc, rots, m, locs)"
   ]
  },
  {
   "cell_type": "code",
   "execution_count": 108,
   "metadata": {},
   "outputs": [
    {
     "name": "stdout",
     "output_type": "stream",
     "text": [
      "[79, 77] (-1, 0)\n"
     ]
    }
   ],
   "source": [
    "print([x+1 for x in loc], rots[0])"
   ]
  },
  {
   "cell_type": "code",
   "execution_count": 109,
   "metadata": {},
   "outputs": [
    {
     "data": {
      "text/plain": [
       "77318"
      ]
     },
     "execution_count": 109,
     "metadata": {},
     "output_type": "execute_result"
    }
   ],
   "source": [
    "1000*77 + 4* 79 + 2"
   ]
  },
  {
   "cell_type": "code",
   "execution_count": 205,
   "metadata": {},
   "outputs": [],
   "source": [
    "# input\n",
    "problemnumber = '22'\n",
    "fn = f'../{problemnumber}/{problemnumber}.txt'\n",
    "pad = 200\n",
    "\n",
    "# fn = f'../{problemnumber}/{problemnumber}t.txt'\n",
    "# pad = 16\n",
    "\n",
    "with open(fn) as fh:\n",
    "    m, instr = fh.read().split('\\n\\n')\n",
    "\n",
    "locs = []\n",
    "for row in m.split('\\n'):\n",
    "    y = np.zeros(pad, dtype=str)\n",
    "    line = [x for x in row]\n",
    "    y[:len(line)] = line\n",
    "    locs.append(y)\n",
    "    \n",
    "locs_raw = np.array(locs)\n",
    "locs = np.zeros((6, 50, 50), dtype=str)\n",
    "locs[0] = locs_raw[0:50, 50:100]\n",
    "locs[1] = locs_raw[0:50, 100:150]\n",
    "locs[2] = locs_raw[50:100, 100:150]\n",
    "locs[3] = locs_raw[100:150, 0:50]\n",
    "locs[4] = locs_raw[100:150, 50:100]\n",
    "locs[5] = locs_raw[150:,0:50]\n",
    "       \n",
    "            \n",
    "instr = re.findall(r'(\\d+)([A-Z]?)', instr)\n",
    "\n",
    "moves = []\n",
    "for x in instr:\n",
    "    for y in x:\n",
    "        if y in 'RL':\n",
    "            moves.append(y)\n",
    "        else:\n",
    "            moves.append(int(y))\n",
    "moves = moves[:-1]"
   ]
  },
  {
   "cell_type": "code",
   "execution_count": 206,
   "metadata": {},
   "outputs": [
    {
     "data": {
      "text/plain": [
       "array(['.', '.', '.', '.', '.', '#', '.', '.', '.', '.', '.', '.', '.',\n",
       "       '.', '.', '.', '#', '.', '.', '.', '.', '.', '.', '.', '#', '.',\n",
       "       '.', '.', '.', '.', '.', '#', '.', '.', '.', '.', '.', '.', '.',\n",
       "       '.', '.', '.', '.', '#', '.', '.', '.', '.', '.', '.'], dtype='<U1')"
      ]
     },
     "execution_count": 206,
     "metadata": {},
     "output_type": "execute_result"
    }
   ],
   "source": [
    "'''\n",
    "  0 1\n",
    "  2\n",
    "3 4  \n",
    "5\n",
    "'''\n",
    "\n",
    "wraps = {0: [(1, 0), (2, 0), ()]}  # from: [R, bot, L, top] ; (dim, how many rotate rots)"
   ]
  },
  {
   "cell_type": "code",
   "execution_count": null,
   "metadata": {},
   "outputs": [],
   "source": [
    "def move2(loc, rots, m, locs):\n",
    "    if m == 'R':\n",
    "        rots.rotate(-1)\n",
    "        return loc, rots\n",
    "    elif m == 'L':\n",
    "        rots.rotate(1)\n",
    "        return loc, rots\n",
    "    else:\n",
    "        for _ in range(m):\n",
    "            d = rots[0]\n",
    "            new_loc = tuple([sum(z) for z in zip(loc, d)])\n",
    "            \n",
    "            if new_loc not in locs:\n",
    "                if d == (1, 0):\n",
    "                    new_loc = (min([x for x, y in locs.keys() if y==loc[1]]), loc[1])\n",
    "                if d == (-1, 0):\n",
    "                    new_loc = (max([x for x, y in locs.keys() if y==loc[1]]), loc[1])\n",
    "                if d == (0, 1):\n",
    "                    new_loc = (loc[0], min([y for x, y in locs.keys() if x==loc[0]]))\n",
    "                if d == (0, -1):\n",
    "                    new_loc = (loc[0], max([y for x, y in locs.keys() if x==loc[0]]))\n",
    "            \n",
    "            if locs[new_loc] == '.':\n",
    "                loc = new_loc\n",
    "            elif locs[new_loc] == '#':\n",
    "                return loc, rots\n",
    "            \n",
    "        return loc, rots\n",
    "    "
   ]
  },
  {
   "cell_type": "code",
   "execution_count": 207,
   "metadata": {},
   "outputs": [],
   "source": [
    "loc = (0, 0, 0)\n",
    "rots = [(1, 0), (0, 1), (-1, 0), (0, -1)]  # rot 1 for L, -1 for R\n",
    "rots = deque(rots)"
   ]
  },
  {
   "cell_type": "code",
   "execution_count": 208,
   "metadata": {},
   "outputs": [
    {
     "data": {
      "text/plain": [
       "'.'"
      ]
     },
     "execution_count": 208,
     "metadata": {},
     "output_type": "execute_result"
    }
   ],
   "source": [
    "locs[loc]"
   ]
  },
  {
   "cell_type": "code",
   "execution_count": null,
   "metadata": {},
   "outputs": [],
   "source": []
  }
 ],
 "metadata": {
  "kernelspec": {
   "display_name": "Python 3",
   "language": "python",
   "name": "python3"
  },
  "language_info": {
   "codemirror_mode": {
    "name": "ipython",
    "version": 3
   },
   "file_extension": ".py",
   "mimetype": "text/x-python",
   "name": "python",
   "nbconvert_exporter": "python",
   "pygments_lexer": "ipython3",
   "version": "3.8.5"
  }
 },
 "nbformat": 4,
 "nbformat_minor": 4
}
