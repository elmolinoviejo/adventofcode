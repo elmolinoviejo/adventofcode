{
 "cells": [
  {
   "cell_type": "code",
   "execution_count": 6,
   "metadata": {},
   "outputs": [],
   "source": [
    "import numpy as np\n",
    "import re\n",
    "from itertools import product, permutations, combinations, cycle, zip_longest\n",
    "from collections import Counter, deque, defaultdict, OrderedDict\n",
    "import networkx as nx\n",
    "import string\n",
    "import matplotlib.pyplot as plt\n",
    "from functools import cmp_to_key\n",
    "\n",
    "%matplotlib inline"
   ]
  },
  {
   "cell_type": "code",
   "execution_count": 13,
   "metadata": {},
   "outputs": [],
   "source": [
    "# input\n",
    "problemnumber = '19'\n",
    "fn = f'../{problemnumber}/{problemnumber}.txt'\n",
    "# fn = f'../{problemnumber}/{problemnumber}t.txt'\n",
    "\n",
    "bps = {}\n",
    "with open(fn) as fh:\n",
    "    for bp in fh.readlines():\n",
    "        nums = [int(x) for  x in re.findall(r'\\d+', bp)]\n",
    "        bpn, o_cost, c_cost, or_cost1, or_cost2, g_cost1, g_cost2 = nums\n",
    "        bps[bpn] = {}\n",
    "        bps[bpn]['ore'] = o_cost\n",
    "        bps[bpn]['clay'] = c_cost\n",
    "        bps[bpn]['obs'] = (or_cost1, or_cost2)\n",
    "        bps[bpn]['geo'] = (g_cost1, g_cost2)"
   ]
  },
  {
   "cell_type": "code",
   "execution_count": 24,
   "metadata": {},
   "outputs": [
    {
     "data": {
      "text/plain": [
       "{'ore': 4, 'clay': 4, 'obs': (4, 5), 'geo': (3, 15)}"
      ]
     },
     "execution_count": 24,
     "metadata": {},
     "output_type": "execute_result"
    }
   ],
   "source": [
    "bps[1]"
   ]
  },
  {
   "cell_type": "code",
   "execution_count": null,
   "metadata": {},
   "outputs": [],
   "source": [
    "'''\n",
    "g: 3o, 15obs\n",
    "g: 3o+60o 75cl\n",
    "g\n",
    "'''"
   ]
  },
  {
   "cell_type": "code",
   "execution_count": 32,
   "metadata": {},
   "outputs": [],
   "source": [
    "bp = bps[1]\n",
    "\n",
    "\n",
    "\n",
    "inv = Counter()\n",
    "robots = Counter()\n",
    "robots['ore'] = 1\n",
    "t = 0\n",
    "\n",
    "while t < 24:\n",
    "    # build robots if possible\n",
    "    build_robots = Counter()\n",
    "    # geo\n",
    "    if inv['ore'] >= bp['geo'][0] and inv['obs'] >= bp['geo'][1]:\n",
    "        inv['geo'] -= bp['geo'][0]\n",
    "        inv['obs'] -= bp['geo'][1]\n",
    "        build_robots['geo'] += 1\n",
    "        \n",
    "    # obs\n",
    "    if inv['ore'] >= bp['obs'][0] and inv['clay'] >= bp['obs'][1]:\n",
    "        inv['obs'] -= bp['obs'][0]\n",
    "        inv['clay'] -= bp['obs'][1]\n",
    "        build_robots['obs'] += 1\n",
    "    \n",
    "    # clay\n",
    "    if \n",
    "        \n",
    "    # collect items\n",
    "    for rtype, rnum in robots.items():\n",
    "        inv[rtype] += rnum\n",
    "    t +=1"
   ]
  },
  {
   "cell_type": "code",
   "execution_count": null,
   "metadata": {},
   "outputs": [],
   "source": []
  },
  {
   "cell_type": "code",
   "execution_count": null,
   "metadata": {},
   "outputs": [],
   "source": []
  }
 ],
 "metadata": {
  "kernelspec": {
   "display_name": "Python 3",
   "language": "python",
   "name": "python3"
  },
  "language_info": {
   "codemirror_mode": {
    "name": "ipython",
    "version": 3
   },
   "file_extension": ".py",
   "mimetype": "text/x-python",
   "name": "python",
   "nbconvert_exporter": "python",
   "pygments_lexer": "ipython3",
   "version": "3.8.5"
  }
 },
 "nbformat": 4,
 "nbformat_minor": 4
}
