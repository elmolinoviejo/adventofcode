{
 "cells": [
  {
   "cell_type": "code",
   "execution_count": 38,
   "metadata": {},
   "outputs": [],
   "source": [
    "import numpy as np\n",
    "from itertools import product, permutations, combinations, cycle\n",
    "from collections import Counter, deque, defaultdict, OrderedDict\n",
    "import networkx as nx"
   ]
  },
  {
   "cell_type": "code",
   "execution_count": 25,
   "metadata": {},
   "outputs": [],
   "source": [
    "# input\n",
    "problemnumber = '02'\n",
    "fn = f'../{problemnumber}/{problemnumber}.txt'\n",
    "\n",
    "moves = []\n",
    "with open(fn) as fh:\n",
    "    games = fh.read().split('\\n')\n",
    "    for g in games:\n",
    "        moves.append(tuple(g.split(' ')))\n"
   ]
  },
  {
   "cell_type": "code",
   "execution_count": 22,
   "metadata": {},
   "outputs": [
    {
     "data": {
      "text/plain": [
       "'test'"
      ]
     },
     "execution_count": 22,
     "metadata": {},
     "output_type": "execute_result"
    }
   ],
   "source": [
    "# A rock B paper C scic\n",
    "# X rock Y Z"
   ]
  },
  {
   "cell_type": "code",
   "execution_count": 28,
   "metadata": {},
   "outputs": [],
   "source": [
    "def score(g):\n",
    "    x, y = g\n",
    "    choicesc = {'X': 1, 'Y': 2, 'Z': 3}\n",
    "    s = choicesc[y]\n",
    "    convert = {'X': 'A', 'Y':'B', 'Z':'C'}\n",
    "    yc = convert[y]\n",
    "    \n",
    "    if x == yc:\n",
    "        return s+3\n",
    "    if x=='A':\n",
    "        if yc=='B':\n",
    "            return s+6\n",
    "        else:\n",
    "            return s\n",
    "    elif x=='B':\n",
    "        if yc=='C':\n",
    "            return s+6\n",
    "        else:\n",
    "            return s\n",
    "    elif x=='C':\n",
    "        if yc=='A':\n",
    "            return s+6\n",
    "        else:\n",
    "            return s"
   ]
  },
  {
   "cell_type": "code",
   "execution_count": 30,
   "metadata": {},
   "outputs": [
    {
     "data": {
      "text/plain": [
       "('C', 'Z')"
      ]
     },
     "execution_count": 30,
     "metadata": {},
     "output_type": "execute_result"
    }
   ],
   "source": [
    "moves[0]"
   ]
  },
  {
   "cell_type": "code",
   "execution_count": 34,
   "metadata": {},
   "outputs": [],
   "source": [
    "sumsc = 0\n",
    "for g in moves:\n",
    "    sumsc+=score(g)"
   ]
  },
  {
   "cell_type": "code",
   "execution_count": 35,
   "metadata": {},
   "outputs": [
    {
     "data": {
      "text/plain": [
       "15572"
      ]
     },
     "execution_count": 35,
     "metadata": {},
     "output_type": "execute_result"
    }
   ],
   "source": [
    "sumsc"
   ]
  },
  {
   "cell_type": "code",
   "execution_count": 36,
   "metadata": {},
   "outputs": [],
   "source": [
    "# A rock B paper C scic\n",
    "# X lose, Y draw, Z win"
   ]
  },
  {
   "cell_type": "code",
   "execution_count": 56,
   "metadata": {},
   "outputs": [],
   "source": [
    "def move_choice(g):\n",
    "    x, y = g\n",
    "    if x=='A':\n",
    "        cyc = 'XYZ'\n",
    "    elif x=='B':\n",
    "        cyc = 'YZX'\n",
    "    else:\n",
    "        cyc = 'ZXY'\n",
    "    \n",
    "    if y=='X':\n",
    "        ind = 2\n",
    "    elif y=='Y':\n",
    "        ind = 0\n",
    "    else:\n",
    "        ind = 1\n",
    "    \n",
    "    choice = cyc[ind]\n",
    "    return choice\n",
    "        "
   ]
  },
  {
   "cell_type": "code",
   "execution_count": 57,
   "metadata": {},
   "outputs": [
    {
     "data": {
      "text/plain": [
       "('C', 'Z')"
      ]
     },
     "execution_count": 57,
     "metadata": {},
     "output_type": "execute_result"
    }
   ],
   "source": [
    "moves[0]"
   ]
  },
  {
   "cell_type": "code",
   "execution_count": 58,
   "metadata": {},
   "outputs": [],
   "source": [
    "sumsc = 0\n",
    "for g in moves:\n",
    "    choice = move_choice(g)\n",
    "    sumsc += score(tuple([g[0], choice]))"
   ]
  },
  {
   "cell_type": "code",
   "execution_count": 59,
   "metadata": {},
   "outputs": [
    {
     "name": "stdout",
     "output_type": "stream",
     "text": [
      "('B', 'X')\n",
      "X\n",
      "1\n"
     ]
    }
   ],
   "source": [
    "testg = tuple(['B', 'X'])\n",
    "print(testg)\n",
    "print(move_choice(testg))\n",
    "print(score(tuple([testg[0], move_choice(testg)])))"
   ]
  },
  {
   "cell_type": "code",
   "execution_count": 60,
   "metadata": {},
   "outputs": [
    {
     "data": {
      "text/plain": [
       "16098"
      ]
     },
     "execution_count": 60,
     "metadata": {},
     "output_type": "execute_result"
    }
   ],
   "source": [
    "sumsc"
   ]
  },
  {
   "cell_type": "code",
   "execution_count": null,
   "metadata": {},
   "outputs": [],
   "source": [
    "# wrong 10746"
   ]
  }
 ],
 "metadata": {
  "kernelspec": {
   "display_name": "Python 3",
   "language": "python",
   "name": "python3"
  },
  "language_info": {
   "codemirror_mode": {
    "name": "ipython",
    "version": 3
   },
   "file_extension": ".py",
   "mimetype": "text/x-python",
   "name": "python",
   "nbconvert_exporter": "python",
   "pygments_lexer": "ipython3",
   "version": "3.8.5"
  }
 },
 "nbformat": 4,
 "nbformat_minor": 4
}
