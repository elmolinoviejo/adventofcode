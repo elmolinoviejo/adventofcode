{
 "cells": [
  {
   "cell_type": "code",
   "execution_count": 2,
   "metadata": {},
   "outputs": [],
   "source": [
    "import numpy as np\n",
    "import re\n",
    "from itertools import product, permutations, combinations, cycle, zip_longest\n",
    "from collections import Counter, deque, defaultdict, OrderedDict\n",
    "import networkx as nx\n",
    "import string\n",
    "import matplotlib.pyplot as plt\n",
    "from functools import cmp_to_key\n",
    "\n",
    "%matplotlib inline"
   ]
  },
  {
   "cell_type": "code",
   "execution_count": 93,
   "metadata": {},
   "outputs": [],
   "source": [
    "# input\n",
    "problemnumber = '16'\n",
    "fn = f'../{problemnumber}/{problemnumber}.txt'\n",
    "fn = f'../{problemnumber}/{problemnumber}t.txt'\n",
    "\n",
    "G = nx.Graph()\n",
    "frs = {}\n",
    "with open(fn) as fh:\n",
    "    for l in fh.readlines():\n",
    "        v = l[6:8]\n",
    "        fr = re.findall(r'flow rate=(\\d+)', l)[0]\n",
    "        frs[v] = int(fr)\n",
    "        adj = re.findall(r'valve[s]* ([A-Z\\,?\\s?]*)', l.rstrip())[0]\n",
    "#         adj = re.findall(r'valves ([A-Z]*)', l.rstrip())\n",
    "        adj = adj.replace(',', '').split()\n",
    "#         print(adj)\n",
    "        for a in adj:\n",
    "            G.add_edge(v, a)\n",
    "\n",
    "frs = {fr:frs[fr] for fr in sorted(frs, key=frs.get)[-1::-1]}"
   ]
  },
  {
   "cell_type": "code",
   "execution_count": 94,
   "metadata": {},
   "outputs": [],
   "source": [
    "fr_nonz = {k:v for k, v in frs.items() if v>0}"
   ]
  },
  {
   "cell_type": "code",
   "execution_count": 101,
   "metadata": {},
   "outputs": [
    {
     "ename": "AttributeError",
     "evalue": "module 'networkx' has no attribute 'all_paths'",
     "output_type": "error",
     "traceback": [
      "\u001b[0;31m---------------------------------------------------------------------------\u001b[0m",
      "\u001b[0;31mAttributeError\u001b[0m                            Traceback (most recent call last)",
      "\u001b[0;32m<ipython-input-101-beb64116f45f>\u001b[0m in \u001b[0;36m<module>\u001b[0;34m\u001b[0m\n\u001b[1;32m      4\u001b[0m     \u001b[0mans\u001b[0m \u001b[0;34m=\u001b[0m \u001b[0;36m1\u001b[0m\u001b[0;34m\u001b[0m\u001b[0;34m\u001b[0m\u001b[0m\n\u001b[1;32m      5\u001b[0m     \u001b[0mt\u001b[0m \u001b[0;34m=\u001b[0m \u001b[0;36m0\u001b[0m\u001b[0;34m\u001b[0m\u001b[0;34m\u001b[0m\u001b[0m\n\u001b[0;32m----> 6\u001b[0;31m     \u001b[0;32mfor\u001b[0m \u001b[0mp\u001b[0m \u001b[0;32min\u001b[0m \u001b[0mnx\u001b[0m\u001b[0;34m.\u001b[0m\u001b[0mall_paths\u001b[0m\u001b[0;34m(\u001b[0m\u001b[0mG\u001b[0m\u001b[0;34m,\u001b[0m \u001b[0;34m'AA'\u001b[0m\u001b[0;34m,\u001b[0m \u001b[0mtarget\u001b[0m\u001b[0;34m)\u001b[0m\u001b[0;34m:\u001b[0m\u001b[0;34m\u001b[0m\u001b[0;34m\u001b[0m\u001b[0m\n\u001b[0m\u001b[1;32m      7\u001b[0m \u001b[0;31m#     for p in nx.dfs_edges(G, 'AA'):\u001b[0m\u001b[0;34m\u001b[0m\u001b[0;34m\u001b[0m\u001b[0;34m\u001b[0m\u001b[0m\n\u001b[1;32m      8\u001b[0m         \u001b[0mprint\u001b[0m\u001b[0;34m(\u001b[0m\u001b[0mp\u001b[0m\u001b[0;34m)\u001b[0m\u001b[0;34m\u001b[0m\u001b[0;34m\u001b[0m\u001b[0m\n",
      "\u001b[0;31mAttributeError\u001b[0m: module 'networkx' has no attribute 'all_paths'"
     ]
    }
   ],
   "source": [
    "maxans = 0\n",
    "\n",
    "for target in fr_nonz:\n",
    "    ans = 1\n",
    "    t = 0\n",
    "    for p in nx.all_paths(G, 'AA', target):\n",
    "#     for p in nx.dfs_edges(G, 'AA'):\n",
    "        print(p)\n",
    "        for v in p[1:]:\n",
    "            t += 1\n",
    "            if t == 30:\n",
    "                if ans > maxans:\n",
    "                    maxans = ans\n",
    "                break\n",
    "            if v in fr_nonz:\n",
    "                t += 1\n",
    "                ans *= frs[v]\n",
    "            if t==30:\n",
    "                if ans > maxans:\n",
    "                    maxans = ans"
   ]
  },
  {
   "cell_type": "code",
   "execution_count": 98,
   "metadata": {},
   "outputs": [
    {
     "data": {
      "text/plain": [
       "{'HH': 22, 'JJ': 21, 'DD': 20, 'BB': 13, 'EE': 3, 'CC': 2}"
      ]
     },
     "execution_count": 98,
     "metadata": {},
     "output_type": "execute_result"
    }
   ],
   "source": [
    "fr_nonz"
   ]
  },
  {
   "cell_type": "code",
   "execution_count": 96,
   "metadata": {},
   "outputs": [
    {
     "data": {
      "text/plain": [
       "0"
      ]
     },
     "execution_count": 96,
     "metadata": {},
     "output_type": "execute_result"
    }
   ],
   "source": [
    "maxans"
   ]
  },
  {
   "cell_type": "code",
   "execution_count": 87,
   "metadata": {},
   "outputs": [
    {
     "data": {
      "text/plain": [
       "{'PM': 25,\n",
       " 'XO': 23,\n",
       " 'VI': 22,\n",
       " 'II': 20,\n",
       " 'KQ': 18,\n",
       " 'TV': 17,\n",
       " 'AS': 16,\n",
       " 'HR': 14,\n",
       " 'FQ': 12,\n",
       " 'RU': 11,\n",
       " 'MA': 10,\n",
       " 'ED': 9,\n",
       " 'MW': 7,\n",
       " 'LF': 5,\n",
       " 'DW': 4,\n",
       " 'OX': 0,\n",
       " 'GL': 0,\n",
       " 'PQ': 0,\n",
       " 'IR': 0,\n",
       " 'QN': 0,\n",
       " 'BP': 0,\n",
       " 'ZY': 0,\n",
       " 'CB': 0,\n",
       " 'FR': 0,\n",
       " 'IU': 0,\n",
       " 'AA': 0,\n",
       " 'CY': 0,\n",
       " 'MT': 0,\n",
       " 'GA': 0,\n",
       " 'RR': 0,\n",
       " 'AU': 0,\n",
       " 'QP': 0,\n",
       " 'CD': 0,\n",
       " 'BD': 0,\n",
       " 'HG': 0,\n",
       " 'QD': 0,\n",
       " 'LS': 0,\n",
       " 'BT': 0,\n",
       " 'QS': 0,\n",
       " 'QM': 0,\n",
       " 'MJ': 0,\n",
       " 'AW': 0,\n",
       " 'WJ': 0,\n",
       " 'YZ': 0,\n",
       " 'MO': 0,\n",
       " 'BN': 0,\n",
       " 'SA': 0,\n",
       " 'EE': 0,\n",
       " 'YC': 0,\n",
       " 'KF': 0,\n",
       " 'HY': 0,\n",
       " 'YB': 0,\n",
       " 'KP': 0,\n",
       " 'FF': 0,\n",
       " 'BL': 0,\n",
       " 'RQ': 0,\n",
       " 'FL': 0,\n",
       " 'RH': 0,\n",
       " 'FN': 0,\n",
       " 'UG': 0,\n",
       " 'WT': 0}"
      ]
     },
     "execution_count": 87,
     "metadata": {},
     "output_type": "execute_result"
    }
   ],
   "source": [
    "# 8060774400 wrong"
   ]
  },
  {
   "cell_type": "code",
   "execution_count": null,
   "metadata": {},
   "outputs": [],
   "source": []
  }
 ],
 "metadata": {
  "kernelspec": {
   "display_name": "Python 3",
   "language": "python",
   "name": "python3"
  },
  "language_info": {
   "codemirror_mode": {
    "name": "ipython",
    "version": 3
   },
   "file_extension": ".py",
   "mimetype": "text/x-python",
   "name": "python",
   "nbconvert_exporter": "python",
   "pygments_lexer": "ipython3",
   "version": "3.8.5"
  }
 },
 "nbformat": 4,
 "nbformat_minor": 4
}
