{
 "cells": [
  {
   "cell_type": "code",
   "execution_count": 12,
   "metadata": {},
   "outputs": [],
   "source": [
    "import numpy as np\n",
    "from itertools import product, permutations, combinations\n",
    "from collections import Counter, deque, defaultdict, OrderedDict\n",
    "import networkx as nx"
   ]
  },
  {
   "cell_type": "code",
   "execution_count": 14,
   "metadata": {},
   "outputs": [],
   "source": [
    "# input\n",
    "problemnumber = '02'\n",
    "fn = f'../{problemnumber}/{problemnumber}.txt'\n",
    "\n",
    "elves = {}\n",
    "eln = 0\n",
    "elves[0] = []\n",
    "with open(fn) as fh:\n",
    "    for line in fh.readlines():\n",
    "        line = line.rstrip()\n",
    "        if line=='':\n",
    "            eln += 1\n",
    "            elves[eln] = []\n",
    "            continue\n",
    "        elves[eln].append(int(line))\n",
    "#         inputs.append(line.rstrip())"
   ]
  },
  {
   "cell_type": "code",
   "execution_count": null,
   "metadata": {},
   "outputs": [],
   "source": []
  }
 ],
 "metadata": {
  "kernelspec": {
   "display_name": "Python 3",
   "language": "python",
   "name": "python3"
  },
  "language_info": {
   "codemirror_mode": {
    "name": "ipython",
    "version": 3
   },
   "file_extension": ".py",
   "mimetype": "text/x-python",
   "name": "python",
   "nbconvert_exporter": "python",
   "pygments_lexer": "ipython3",
   "version": "3.8.5"
  }
 },
 "nbformat": 4,
 "nbformat_minor": 4
}
