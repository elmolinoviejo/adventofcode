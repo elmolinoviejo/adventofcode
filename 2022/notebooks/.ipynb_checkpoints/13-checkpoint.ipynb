{
 "cells": [
  {
   "cell_type": "code",
   "execution_count": 1,
   "metadata": {},
   "outputs": [],
   "source": [
    "import numpy as np\n",
    "import re\n",
    "from itertools import product, permutations, combinations, cycle\n",
    "from collections import Counter, deque, defaultdict, OrderedDict\n",
    "import networkx as nx\n",
    "import string\n",
    "import matplotlib.pyplot as plt\n",
    "\n",
    "%matplotlib inline"
   ]
  },
  {
   "cell_type": "code",
   "execution_count": 22,
   "metadata": {},
   "outputs": [],
   "source": [
    "# input\n",
    "problemnumber = '13'\n",
    "fn = f'../{problemnumber}/{problemnumber}.txt'\n",
    "fn = f'../{problemnumber}/{problemnumber}t.txt'\n",
    "\n",
    "\n",
    "packets = []\n",
    "with open(fn) as fh:\n",
    "    pps = fh.read().split('\\n\\n')\n",
    "    for pp in pps:\n",
    "        packets.append(tuple([eval(x) for x in pp.split('\\n')]))"
   ]
  },
  {
   "cell_type": "code",
   "execution_count": 23,
   "metadata": {},
   "outputs": [
    {
     "data": {
      "text/plain": [
       "[1, [1, 2]]"
      ]
     },
     "execution_count": 23,
     "metadata": {},
     "output_type": "execute_result"
    }
   ],
   "source": [
    "eval('[1, [1, 2]]')"
   ]
  },
  {
   "cell_type": "code",
   "execution_count": 24,
   "metadata": {},
   "outputs": [
    {
     "data": {
      "text/plain": [
       "1"
      ]
     },
     "execution_count": 24,
     "metadata": {},
     "output_type": "execute_result"
    }
   ],
   "source": [
    "packets[0][0][0]"
   ]
  },
  {
   "cell_type": "code",
   "execution_count": 57,
   "metadata": {},
   "outputs": [
    {
     "ename": "IndentationError",
     "evalue": "unexpected indent (<ipython-input-57-b83ad9bea1b8>, line 9)",
     "output_type": "error",
     "traceback": [
      "\u001b[0;36m  File \u001b[0;32m\"<ipython-input-57-b83ad9bea1b8>\"\u001b[0;36m, line \u001b[0;32m9\u001b[0m\n\u001b[0;31m    print(l, r, d)\u001b[0m\n\u001b[0m    ^\u001b[0m\n\u001b[0;31mIndentationError\u001b[0m\u001b[0;31m:\u001b[0m unexpected indent\n"
     ]
    }
   ],
   "source": [
    "# for ps in packets[:1]:\n",
    "    \n",
    "    \n",
    "    \n",
    "def compare_packets(l, r, d=0):\n",
    "#     l, r = ps\n",
    "    print(l, r, d)\n",
    "\n",
    "    if isinstance(l, int) and isinstance(r, int):\n",
    "        if l > r:\n",
    "            return False\n",
    "        elif l < r:\n",
    "            return True\n",
    "        else:\n",
    "            return d\n",
    "\n",
    "    elif isinstance(l, list) and isinstance(r,list):\n",
    "        val =  compare_packets(l, r, d)\n",
    "        if val:\n",
    "            return val\n",
    "        else:\n",
    "            return d += 1\n",
    "\n",
    "#             if len(l) < len(r):\n",
    "#                 return True\n",
    "#             elif len(l) > len(r):\n",
    "#                 return False\n",
    "#             else:\n",
    "#                 d += 1\n",
    "\n",
    "    else:\n",
    "        if isinstance(l, int):\n",
    "            l = [l]\n",
    "        elif isinstance(r, int):\n",
    "            r = [r]\n",
    "        return compare_packets(tuple((l, r)))\n",
    "            \n",
    "            \n",
    "            "
   ]
  },
  {
   "cell_type": "raw",
   "metadata": {},
   "source": [
    "packets[3]\n",
    "\n",
    "compare_packets(packets[3])"
   ]
  },
  {
   "cell_type": "code",
   "execution_count": 49,
   "metadata": {},
   "outputs": [
    {
     "data": {
      "text/plain": [
       "[[4, 4], 4, 4]"
      ]
     },
     "execution_count": 49,
     "metadata": {},
     "output_type": "execute_result"
    }
   ],
   "source": [
    "packets[3][0]"
   ]
  },
  {
   "cell_type": "code",
   "execution_count": 48,
   "metadata": {},
   "outputs": [
    {
     "data": {
      "text/plain": [
       "[[4, 4], 4, 4, 4]"
      ]
     },
     "execution_count": 48,
     "metadata": {},
     "output_type": "execute_result"
    }
   ],
   "source": [
    "packets[3][1]"
   ]
  },
  {
   "cell_type": "code",
   "execution_count": null,
   "metadata": {},
   "outputs": [],
   "source": []
  }
 ],
 "metadata": {
  "kernelspec": {
   "display_name": "Python 3",
   "language": "python",
   "name": "python3"
  },
  "language_info": {
   "codemirror_mode": {
    "name": "ipython",
    "version": 3
   },
   "file_extension": ".py",
   "mimetype": "text/x-python",
   "name": "python",
   "nbconvert_exporter": "python",
   "pygments_lexer": "ipython3",
   "version": "3.8.5"
  }
 },
 "nbformat": 4,
 "nbformat_minor": 4
}
