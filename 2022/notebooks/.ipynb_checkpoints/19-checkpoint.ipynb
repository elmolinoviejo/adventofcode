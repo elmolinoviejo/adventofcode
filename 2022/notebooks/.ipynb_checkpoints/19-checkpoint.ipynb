{
 "cells": [
  {
   "cell_type": "code",
   "execution_count": 1,
   "metadata": {},
   "outputs": [],
   "source": [
    "import numpy as np\n",
    "import re\n",
    "from itertools import product, permutations, combinations, cycle, zip_longest\n",
    "from collections import Counter, deque, defaultdict, OrderedDict\n",
    "import networkx as nx\n",
    "import string\n",
    "import matplotlib.pyplot as plt\n",
    "from functools import cmp_to_key\n",
    "\n",
    "%matplotlib inline"
   ]
  },
  {
   "cell_type": "code",
   "execution_count": 24,
   "metadata": {},
   "outputs": [],
   "source": [
    "# # input\n",
    "# problemnumber = '18'\n",
    "# fn = f'../{problemnumber}/{problemnumber}.txt'\n",
    "# # fn = f'../{problemnumber}/{problemnumber}t.txt'\n",
    "\n",
    "# cubes = []\n",
    "# with open(fn) as fh:\n",
    "#     for c in fh.readlines():\n",
    "#         cubes.append(tuple([int(x) for x in c.rstrip().split(',')]))\n",
    "\n",
    "# cube_sides = {c: 6 for c in cubes}"
   ]
  },
  {
   "cell_type": "code",
   "execution_count": 25,
   "metadata": {},
   "outputs": [],
   "source": [
    "def get_adj(c):\n",
    "    x, y, z = c\n",
    "    adj = []\n",
    "    for d in [-1, 1]:\n",
    "        adj.extend([(x + d, y, z),\n",
    "                    (x, y + d, z),\n",
    "                    (x, y, z + d)])\n",
    "    return adj"
   ]
  },
  {
   "cell_type": "code",
   "execution_count": 28,
   "metadata": {},
   "outputs": [
    {
     "name": "stdout",
     "output_type": "stream",
     "text": [
      "3586\n"
     ]
    }
   ],
   "source": [
    "# input\n",
    "problemnumber = '18'\n",
    "fn = f'../{problemnumber}/{problemnumber}.txt'\n",
    "# fn = f'../{problemnumber}/{problemnumber}t.txt'\n",
    "\n",
    "cubes = []\n",
    "with open(fn) as fh:\n",
    "    for c in fh.readlines():\n",
    "        cubes.append(tuple([int(x) for x in c.rstrip().split(',')]))\n",
    "\n",
    "cube_sides = {c: 6 for c in cubes}\n",
    "\n",
    "while cubes:\n",
    "    c = cubes.pop()\n",
    "    adj = get_adj(c)\n",
    "    for a in adj:\n",
    "#         print(a)\n",
    "        if a in cubes:\n",
    "            cube_sides[c] -= 1\n",
    "            cube_sides[a] -= 1\n",
    "    \n",
    "print(sum(cube_sides.values()))"
   ]
  },
  {
   "cell_type": "code",
   "execution_count": 22,
   "metadata": {},
   "outputs": [
    {
     "name": "stdout",
     "output_type": "stream",
     "text": [
      "7814\n"
     ]
    }
   ],
   "source": [
    "# 7814 wrong\n"
   ]
  },
  {
   "cell_type": "code",
   "execution_count": 75,
   "metadata": {},
   "outputs": [],
   "source": [
    "# input\n",
    "problemnumber = '18'\n",
    "fn = f'../{problemnumber}/{problemnumber}.txt'\n",
    "# fn = f'../{problemnumber}/{problemnumber}t.txt'\n",
    "\n",
    "cubes = []\n",
    "with open(fn) as fh:\n",
    "    for c in fh.readlines():\n",
    "        cubes.append(tuple([int(x) for x in c.rstrip().split(',')]))\n",
    "\n",
    "mind = []\n",
    "maxd = []\n",
    "for dim in range(3):\n",
    "    mind.append(min([x[dim] for x in cubes]))\n",
    "    maxd.append(max([x[dim] for x in cubes]))\n",
    "    \n",
    "G = nx.Graph()\n",
    "for x in range(-1, maxd[0] + 2):\n",
    "    for y in range(-1, maxd[1] + 2):\n",
    "        for z in range(-1, maxd[2] + 2):\n",
    "            n = (x, y, z)\n",
    "            for a in get_adj(n):\n",
    "                G.add_edge(n, a)\n",
    "                \n",
    "for c in cubes:\n",
    "    G.remove_node(c)\n",
    "\n",
    "cube_sides = {c: 6 for c in cubes}\n",
    "\n",
    "blocked = set()\n",
    "for n in G:\n",
    "    if n in blocked:\n",
    "        continue\n",
    "    if not nx.has_path(G, n, tuple([x+1 for x in maxd])):\n",
    "        blocked.add(n)\n"
   ]
  },
  {
   "cell_type": "code",
   "execution_count": 76,
   "metadata": {},
   "outputs": [
    {
     "name": "stdout",
     "output_type": "stream",
     "text": [
      "2072\n"
     ]
    }
   ],
   "source": [
    "while cubes:\n",
    "    c = cubes.pop()\n",
    "    adj = get_adj(c)\n",
    "    for a in adj:\n",
    "        if a in cubes:\n",
    "            cube_sides[c] -= 1\n",
    "            cube_sides[a] -= 1\n",
    "        elif a in blocked:\n",
    "            cube_sides[c] -= 1\n",
    "    \n",
    "print(sum(cube_sides.values()))"
   ]
  },
  {
   "cell_type": "code",
   "execution_count": 65,
   "metadata": {},
   "outputs": [
    {
     "data": {
      "text/plain": [
       "{(2, 2, 5)}"
      ]
     },
     "execution_count": 65,
     "metadata": {},
     "output_type": "execute_result"
    }
   ],
   "source": [
    "blocked"
   ]
  },
  {
   "cell_type": "code",
   "execution_count": null,
   "metadata": {},
   "outputs": [],
   "source": [
    "# 2069 wrong"
   ]
  }
 ],
 "metadata": {
  "kernelspec": {
   "display_name": "Python 3",
   "language": "python",
   "name": "python3"
  },
  "language_info": {
   "codemirror_mode": {
    "name": "ipython",
    "version": 3
   },
   "file_extension": ".py",
   "mimetype": "text/x-python",
   "name": "python",
   "nbconvert_exporter": "python",
   "pygments_lexer": "ipython3",
   "version": "3.8.5"
  }
 },
 "nbformat": 4,
 "nbformat_minor": 4
}
