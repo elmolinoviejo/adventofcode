{
 "cells": [
  {
   "cell_type": "code",
   "execution_count": 1,
   "metadata": {},
   "outputs": [],
   "source": [
    "import numpy as np\n",
    "import re\n",
    "from itertools import product, permutations, combinations, cycle, zip_longest\n",
    "from collections import Counter, deque, defaultdict, OrderedDict\n",
    "import networkx as nx\n",
    "import string\n",
    "import matplotlib.pyplot as plt\n",
    "from functools import cmp_to_key\n",
    "\n",
    "%matplotlib inline"
   ]
  },
  {
   "cell_type": "code",
   "execution_count": 106,
   "metadata": {},
   "outputs": [],
   "source": [
    "# input\n",
    "problemnumber = '15'\n",
    "fn = f'../{problemnumber}/{problemnumber}.txt'\n",
    "# fn = f'../{problemnumber}/{problemnumber}t.txt'\n",
    "\n",
    "minx, maxx, miny, maxy = 0, 0, 0, 0\n",
    "sbs = []\n",
    "with open(fn) as fh:\n",
    "    for l in fh.readlines():\n",
    "        x1, x2 = [int(x) for x in re.findall(r'x=(\\-?[\\d]+)\\,', l.rstrip())]\n",
    "        y1, y2 = [int(x) for x in re.findall(r'y=(\\-?[\\d]+)', l.rstrip())]\n",
    "        sbs.append(tuple([\n",
    "            x1, y1, x2, y2\n",
    "        ]))\n",
    "        \n",
    "        if min([x1, x2]) < minx:\n",
    "            minx = min([x1, x2])\n",
    "        if max([x1, x2]) > maxx:\n",
    "            maxx = max([x1, x2])\n",
    "        if min([y1, y2]) < miny:\n",
    "            miny = min([y1, y2])\n",
    "        if max([y1, y2]) > maxy:\n",
    "            maxx = max([y1, y2]) \n",
    "        "
   ]
  },
  {
   "cell_type": "code",
   "execution_count": 107,
   "metadata": {},
   "outputs": [],
   "source": [
    "def dist(x1, y1, x2, y2):\n",
    "    return abs(x1-x2) + abs(y1-y2)"
   ]
  },
  {
   "cell_type": "code",
   "execution_count": 110,
   "metadata": {},
   "outputs": [],
   "source": [
    "locs = set()\n",
    "yans = 2000000\n",
    "# yans = 10\n",
    "\n",
    "\n",
    "# for x in range(minx, maxx+1):\n",
    "#     locs.add((x, yans))\n",
    "    \n",
    "    \n",
    "ans_locs = set()\n",
    "beacons = set()\n",
    "for x1, y1, x2, y2 in sbs:\n",
    "    d = dist(x1, y1, x2, y2)\n",
    "    beacons.add((x2, y2))\n",
    "    if abs(yans - y1) <= d:\n",
    "\n",
    "        os = d - abs(yans - y1)\n",
    "#         print(x1, y1, d, os)\n",
    "        for dx in range(x1 - os - 1, x1 + os + 1):\n",
    "            if dist(x1, y1, dx, yans) <= d:\n",
    "                ans_locs.add((dx, yans))\n",
    "#                 print(f\"\\t{dx, yans}\")\n",
    "ans_locs = ans_locs - beacons"
   ]
  },
  {
   "cell_type": "code",
   "execution_count": 111,
   "metadata": {},
   "outputs": [
    {
     "data": {
      "text/plain": [
       "4883971"
      ]
     },
     "execution_count": 111,
     "metadata": {},
     "output_type": "execute_result"
    }
   ],
   "source": [
    "len(ans_locs)"
   ]
  },
  {
   "cell_type": "code",
   "execution_count": 67,
   "metadata": {},
   "outputs": [
    {
     "name": "stdout",
     "output_type": "stream",
     "text": [
      "3910146\n"
     ]
    }
   ],
   "source": [
    "4883971"
   ]
  },
  {
   "cell_type": "code",
   "execution_count": null,
   "metadata": {},
   "outputs": [],
   "source": [
    "# 3910146 too low\n",
    "# 3910161 too low\n",
    "# 5587312 too high"
   ]
  }
 ],
 "metadata": {
  "kernelspec": {
   "display_name": "Python 3",
   "language": "python",
   "name": "python3"
  },
  "language_info": {
   "codemirror_mode": {
    "name": "ipython",
    "version": 3
   },
   "file_extension": ".py",
   "mimetype": "text/x-python",
   "name": "python",
   "nbconvert_exporter": "python",
   "pygments_lexer": "ipython3",
   "version": "3.8.5"
  }
 },
 "nbformat": 4,
 "nbformat_minor": 4
}
