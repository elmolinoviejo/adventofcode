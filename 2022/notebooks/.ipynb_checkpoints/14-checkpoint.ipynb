{
 "cells": [
  {
   "cell_type": "code",
   "execution_count": 210,
   "metadata": {},
   "outputs": [],
   "source": [
    "import numpy as np\n",
    "import re\n",
    "from itertools import product, permutations, combinations, cycle, zip_longest\n",
    "from collections import Counter, deque, defaultdict, OrderedDict\n",
    "import networkx as nx\n",
    "import string\n",
    "import matplotlib.pyplot as plt\n",
    "from functools import cmp_to_key\n",
    "\n",
    "%matplotlib inline"
   ]
  },
  {
   "cell_type": "code",
   "execution_count": 225,
   "metadata": {},
   "outputs": [],
   "source": [
    "# input\n",
    "problemnumber = '13'\n",
    "fn = f'../{problemnumber}/{problemnumber}.txt'\n",
    "# fn = f'../{problemnumber}/{problemnumber}t.txt'\n",
    "\n",
    "\n",
    "packets = []\n",
    "with open(fn) as fh:\n",
    "    pps = fh.read().split('\\n\\n')\n",
    "    for pp in pps:\n",
    "        packets.append(tuple([eval(x) for x in pp.split('\\n')]))\n",
    "        \n",
    "\n",
    "packetsb = []\n",
    "with open(fn) as fh:\n",
    "    pps = fh.read().split('\\n\\n')\n",
    "    for pp in pps:\n",
    "        packetsb.extend([eval(x) for x in pp.split('\\n')])\n",
    "packetsb.extend([[[2]], [[6]]])"
   ]
  },
  {
   "cell_type": "code",
   "execution_count": 229,
   "metadata": {},
   "outputs": [],
   "source": [
    "def compare_packets(l, r):\n",
    "#     if verbose:\n",
    "#     print(l, r)\n",
    "\n",
    "    if isinstance(l, int) and isinstance(r, int):\n",
    "#         print('ints')\n",
    "        if l > r or r is None:\n",
    "            return False\n",
    "        elif l < r or l is None:\n",
    "            return True\n",
    "        else:\n",
    "#             print('eq',l, r)\n",
    "            return None\n",
    "\n",
    "    elif isinstance(l, list) and isinstance(r, list): \n",
    "        for ind in range(max([len(l), len(r)])):\n",
    "            if ind + 1 > len(r):\n",
    "                return False\n",
    "            elif ind + 1 > len(l):\n",
    "                return True\n",
    "            \n",
    "            else:\n",
    "                if compare_packets(l[ind], r[ind]) is not None:\n",
    "                    return compare_packets(l[ind], r[ind])\n",
    "                else:\n",
    "                    continue\n",
    " \n",
    "    else:\n",
    "        if isinstance(l, int):\n",
    "            l = [l]\n",
    "        else:\n",
    "            r = [r]\n",
    "        return compare_packets(l, r)   "
   ]
  },
  {
   "cell_type": "code",
   "execution_count": 230,
   "metadata": {},
   "outputs": [
    {
     "data": {
      "text/plain": [
       "True"
      ]
     },
     "execution_count": 230,
     "metadata": {},
     "output_type": "execute_result"
    }
   ],
   "source": [
    "testn = 8\n",
    "compare_packets(packets[testn - 1][0], packets[testn - 1][1])\n",
    "# compare_packets([0], 1, True)"
   ]
  },
  {
   "cell_type": "code",
   "execution_count": 231,
   "metadata": {},
   "outputs": [],
   "source": [
    "ans = 0\n",
    "for ind, (l, r) in enumerate(packets):\n",
    "    if compare_packets(l, r):\n",
    "        ans += ind + 1"
   ]
  },
  {
   "cell_type": "code",
   "execution_count": 232,
   "metadata": {},
   "outputs": [
    {
     "data": {
      "text/plain": [
       "4734"
      ]
     },
     "execution_count": 232,
     "metadata": {},
     "output_type": "execute_result"
    }
   ],
   "source": [
    "ans"
   ]
  },
  {
   "cell_type": "code",
   "execution_count": 233,
   "metadata": {},
   "outputs": [],
   "source": [
    "# 4645"
   ]
  },
  {
   "cell_type": "code",
   "execution_count": 234,
   "metadata": {},
   "outputs": [],
   "source": [
    "xx = cmp_to_key(lambda a, b : 1 if compare_packets(a, b) else -1 if compare_packets(b, a) else 0)"
   ]
  },
  {
   "cell_type": "code",
   "execution_count": 235,
   "metadata": {},
   "outputs": [
    {
     "name": "stdout",
     "output_type": "stream",
     "text": [
      "21836\n"
     ]
    }
   ],
   "source": [
    "y = sorted(packetsb, key=xx, reverse=True)\n",
    "\n",
    "ans = 1\n",
    "for ind, z in enumerate(y):\n",
    "    if z==[[2]]:\n",
    "        ans *= ind + 1\n",
    "    elif z==[[6]]:\n",
    "        ans *= ind + 1\n",
    "print(ans)"
   ]
  },
  {
   "cell_type": "code",
   "execution_count": null,
   "metadata": {},
   "outputs": [],
   "source": []
  }
 ],
 "metadata": {
  "kernelspec": {
   "display_name": "Python 3",
   "language": "python",
   "name": "python3"
  },
  "language_info": {
   "codemirror_mode": {
    "name": "ipython",
    "version": 3
   },
   "file_extension": ".py",
   "mimetype": "text/x-python",
   "name": "python",
   "nbconvert_exporter": "python",
   "pygments_lexer": "ipython3",
   "version": "3.8.5"
  }
 },
 "nbformat": 4,
 "nbformat_minor": 4
}
