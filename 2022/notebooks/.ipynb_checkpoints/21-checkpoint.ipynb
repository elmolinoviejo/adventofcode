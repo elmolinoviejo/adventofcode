{
 "cells": [
  {
   "cell_type": "code",
   "execution_count": 4,
   "metadata": {},
   "outputs": [],
   "source": [
    "import numpy as np\n",
    "import re\n",
    "from itertools import product, permutations, combinations, cycle, zip_longest\n",
    "from collections import Counter, deque, defaultdict, OrderedDict\n",
    "import networkx as nx\n",
    "import string\n",
    "import matplotlib.pyplot as plt\n",
    "from functools import cmp_to_key\n",
    "\n",
    "%matplotlib inline"
   ]
  },
  {
   "cell_type": "code",
   "execution_count": 170,
   "metadata": {},
   "outputs": [],
   "source": [
    "# input\n",
    "problemnumber = '20'\n",
    "fn = f'../{problemnumber}/{problemnumber}.txt'\n",
    "fn = f'../{problemnumber}/{problemnumber}t.txt'\n",
    "\n",
    "# nums = {}\n",
    "nums0 = []\n",
    "with open(fn) as fh:\n",
    "    for ind, l in enumerate(fh.readlines()):\n",
    "#         nums[ind] = int(l.rstrip())\n",
    "#         nums0[ind] = int(l.rstrip())\n",
    "        nums0.append(int(l.rstrip()))\n",
    "\n"
   ]
  },
  {
   "cell_type": "code",
   "execution_count": 178,
   "metadata": {},
   "outputs": [],
   "source": [
    "def move_num(ind, nums0, loclist):\n",
    "    val = nums0[ind]\n",
    "    current_loc = loclist.index(ind)\n",
    "    # something wrong here\n",
    "    new_loc = (current_loc + val) % (len(nums0) + 1)\n",
    "#     if val < 0:\n",
    "#         new_loc -= 1 \n",
    "    print(f\"{val} moves from {current_loc} to {new_loc}\")\n",
    "    # remove index\n",
    "    update_ind = loclist.pop(current_loc)\n",
    "    # add in new loc\n",
    "\n",
    "    loclist.insert(new_loc, update_ind)\n",
    "\n",
    "    return loclist   "
   ]
  },
  {
   "cell_type": "code",
   "execution_count": 177,
   "metadata": {},
   "outputs": [
    {
     "name": "stdout",
     "output_type": "stream",
     "text": [
      "[1, 2, -3, 3, -2, 0, 4]\n",
      "1 moves from 0 to 1\n",
      "\n",
      "[2, 1, -3, 3, -2, 0, 4]\n",
      "2 moves from 0 to 2\n",
      "\n",
      "[1, -3, 2, 3, -2, 0, 4]\n",
      "-3 moves from 1 to 6\n",
      "\n",
      "[1, 2, 3, -2, 0, 4, -3]\n",
      "3 moves from 2 to 5\n",
      "\n",
      "[1, 2, -2, 0, 4, 3, -3]\n",
      "-2 moves from 2 to 0\n",
      "\n",
      "[-2, 1, 2, 0, 4, 3, -3]\n",
      "0 moves from 3 to 3\n",
      "\n",
      "[-2, 1, 2, 0, 4, 3, -3]\n",
      "4 moves from 4 to 0\n",
      "\n",
      "[4, -2, 1, 2, 0, 3, -3]\n"
     ]
    }
   ],
   "source": [
    "nummap = dict(zip(range(len(nums0)), range(len(nums0))))\n",
    "\n",
    "# current index of original numbers: loclist[current_ind] = original_ind\n",
    "loclist = list(range(len(nums0)))\n",
    "\n",
    "print([nums0[x] for x in loclist])\n",
    "for ind in range(len(nums0)):\n",
    "# for ind in range(1):\n",
    "    loclist = move_num(ind, nums0, loclist)\n",
    "    print()\n",
    "    print([nums0[x] for x in loclist])\n",
    "    \n",
    "    \n",
    "new_nums = [nums0[x] for x in loclist]\n",
    "# print(new_nums)"
   ]
  },
  {
   "cell_type": "code",
   "execution_count": 175,
   "metadata": {},
   "outputs": [
    {
     "data": {
      "text/plain": [
       "5"
      ]
     },
     "execution_count": 175,
     "metadata": {},
     "output_type": "execute_result"
    }
   ],
   "source": [
    "-2 % 7"
   ]
  },
  {
   "cell_type": "code",
   "execution_count": 164,
   "metadata": {},
   "outputs": [
    {
     "name": "stdout",
     "output_type": "stream",
     "text": [
      "4\n",
      "-3\n",
      "2\n",
      "3\n"
     ]
    }
   ],
   "source": [
    "new_nums = cycle(new_nums)\n",
    "\n",
    "count = -1 * len(nums0)\n",
    "ans = 0\n",
    "first = True\n",
    "while True:\n",
    "    v = next(new_nums)\n",
    "    count += 1\n",
    "    if count==1000:\n",
    "        ans += v\n",
    "        print(v)\n",
    "    if count==2000:\n",
    "        ans += v\n",
    "        print(v)\n",
    "    if count==3000:\n",
    "        ans += v\n",
    "        print(v)\n",
    "        print(ans)\n",
    "        break\n",
    "    if v == 0 and first:\n",
    "        count = 0\n",
    "        first = False\n",
    "#     break"
   ]
  },
  {
   "cell_type": "code",
   "execution_count": 98,
   "metadata": {},
   "outputs": [
    {
     "data": {
      "text/plain": [
       "1"
      ]
     },
     "execution_count": 98,
     "metadata": {},
     "output_type": "execute_result"
    }
   ],
   "source": [
    "# -3935 wrong\n",
    "# -4889 wrong"
   ]
  },
  {
   "cell_type": "code",
   "execution_count": 34,
   "metadata": {},
   "outputs": [
    {
     "name": "stdout",
     "output_type": "stream",
     "text": [
      "1 0 1\n"
     ]
    },
    {
     "data": {
      "text/plain": [
       "{0: 1, 1: 2, 2: 3, 3: 4, 4: 5, 5: 6, 6: 7}"
      ]
     },
     "execution_count": 34,
     "metadata": {},
     "output_type": "execute_result"
    }
   ],
   "source": [
    "move_num(0, nums0, nummap)"
   ]
  },
  {
   "cell_type": "code",
   "execution_count": 168,
   "metadata": {},
   "outputs": [],
   "source": [
    "x = [1, 2]\n",
    "x.insert(-0, 'x')"
   ]
  },
  {
   "cell_type": "code",
   "execution_count": 169,
   "metadata": {},
   "outputs": [
    {
     "data": {
      "text/plain": [
       "['x', 1, 2]"
      ]
     },
     "execution_count": 169,
     "metadata": {},
     "output_type": "execute_result"
    }
   ],
   "source": [
    "x"
   ]
  },
  {
   "cell_type": "code",
   "execution_count": null,
   "metadata": {},
   "outputs": [],
   "source": [
    "'''\n",
    "0 to 1\n",
    "1 to 0\n",
    "rest same\n",
    "\n",
    "\n",
    "0 to 2\n",
    "1 to 0\n",
    "2 to 1\n",
    "\n",
    "\n",
    "5 to 3\n",
    "6 same\n",
    "\n",
    "\n",
    "'''"
   ]
  }
 ],
 "metadata": {
  "kernelspec": {
   "display_name": "Python 3",
   "language": "python",
   "name": "python3"
  },
  "language_info": {
   "codemirror_mode": {
    "name": "ipython",
    "version": 3
   },
   "file_extension": ".py",
   "mimetype": "text/x-python",
   "name": "python",
   "nbconvert_exporter": "python",
   "pygments_lexer": "ipython3",
   "version": "3.8.5"
  }
 },
 "nbformat": 4,
 "nbformat_minor": 4
}
