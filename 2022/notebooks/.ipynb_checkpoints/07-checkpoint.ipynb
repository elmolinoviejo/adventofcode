{
 "cells": [
  {
   "cell_type": "code",
   "execution_count": 4,
   "metadata": {},
   "outputs": [],
   "source": [
    "import numpy as np\n",
    "import re\n",
    "from itertools import product, permutations, combinations, cycle\n",
    "from collections import Counter, deque, defaultdict, OrderedDict\n",
    "import networkx as nx\n",
    "import string"
   ]
  },
  {
   "cell_type": "code",
   "execution_count": 5,
   "metadata": {},
   "outputs": [],
   "source": [
    "# input\n",
    "problemnumber = '06'\n",
    "fn = f'../{problemnumber}/{problemnumber}.txt'\n",
    "n_cols = 9\n",
    "\n",
    "# fn = f'../{problemnumber}/{problemnumber}t.txt'\n",
    "# n_cols = 3\n",
    "\n",
    "\n",
    "with open(fn) as fh:\n",
    "    x = fh.read()\n"
   ]
  },
  {
   "cell_type": "code",
   "execution_count": 3,
   "metadata": {},
   "outputs": [
    {
     "data": {
      "text/plain": [
       "['']"
      ]
     },
     "execution_count": 3,
     "metadata": {},
     "output_type": "execute_result"
    }
   ],
   "source": [
    "# four chars all diff start of packet"
   ]
  },
  {
   "cell_type": "code",
   "execution_count": 14,
   "metadata": {},
   "outputs": [
    {
     "name": "stdout",
     "output_type": "stream",
     "text": [
      "1282\n"
     ]
    }
   ],
   "source": [
    "for ind in range(4, len(x)):\n",
    "    subset = x[ind-4:ind]\n",
    "    if len(set(subset)) == 4:\n",
    "        print(ind)\n",
    "        break"
   ]
  },
  {
   "cell_type": "code",
   "execution_count": 16,
   "metadata": {},
   "outputs": [
    {
     "name": "stdout",
     "output_type": "stream",
     "text": [
      "3513\n"
     ]
    }
   ],
   "source": [
    "for ind in range(14, len(x)):\n",
    "    subset = x[ind-14:ind]\n",
    "    if len(set(subset)) == 14:\n",
    "        print(ind)\n",
    "        break"
   ]
  },
  {
   "cell_type": "code",
   "execution_count": null,
   "metadata": {},
   "outputs": [],
   "source": [
    "# 108 wrong"
   ]
  }
 ],
 "metadata": {
  "kernelspec": {
   "display_name": "Python 3",
   "language": "python",
   "name": "python3"
  },
  "language_info": {
   "codemirror_mode": {
    "name": "ipython",
    "version": 3
   },
   "file_extension": ".py",
   "mimetype": "text/x-python",
   "name": "python",
   "nbconvert_exporter": "python",
   "pygments_lexer": "ipython3",
   "version": "3.8.5"
  }
 },
 "nbformat": 4,
 "nbformat_minor": 4
}
