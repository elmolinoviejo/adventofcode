{
 "cells": [
  {
   "cell_type": "code",
   "execution_count": 31,
   "metadata": {},
   "outputs": [],
   "source": [
    "import numpy as np\n",
    "import re\n",
    "from itertools import product, permutations, combinations, cycle, zip_longest, chain\n",
    "from collections import Counter, deque, defaultdict, OrderedDict\n",
    "import networkx as nx\n",
    "import string\n",
    "import matplotlib.pyplot as plt\n",
    "from functools import cmp_to_key\n",
    "from sympy.solvers import solve\n",
    "from sympy import Symbol\n",
    "from sympy import sympify\n",
    "\n",
    "%matplotlib inline"
   ]
  },
  {
   "cell_type": "code",
   "execution_count": 72,
   "metadata": {},
   "outputs": [],
   "source": [
    "# input\n",
    "problemnumber = '22'\n",
    "fn = f'../{problemnumber}/{problemnumber}.txt'\n",
    "# fn = f'../{problemnumber}/{problemnumber}t.txt'\n",
    "\n",
    "\n",
    "with open(fn) as fh:\n",
    "    m, instr = fh.read().split('\\n\\n')\n",
    "\n",
    "locs = {}\n",
    "for y, row in enumerate(m.split('\\n')):\n",
    "    for x, t in enumerate(row):\n",
    "        if t in ['#', '.']:\n",
    "            locs[(x, y)] = t\n",
    "            \n",
    "instr = re.findall(r'(\\d+)([A-Z]?)', instr)\n",
    "\n",
    "moves = []\n",
    "for x in instr:\n",
    "    for y in x:\n",
    "        if y in 'RL':\n",
    "            moves.append(y)\n",
    "        else:\n",
    "            moves.append(int(y))"
   ]
  },
  {
   "cell_type": "code",
   "execution_count": 63,
   "metadata": {},
   "outputs": [],
   "source": [
    "def move(loc, rots, m, locs):\n",
    "    if m == 'R':\n",
    "        rots.rotate(-1)\n",
    "        return loc, rots\n",
    "    elif m == 'L':\n",
    "        rots.rotate(1)\n",
    "        return loc, rots\n",
    "    else:\n",
    "        for _ in range(m):\n",
    "            d = rots[0]\n",
    "            new_loc = tuple([sum(z) for z in zip(loc, d)])\n",
    "            \n",
    "            if new_loc not in locs:\n",
    "                if d == (1, 0):\n",
    "                    new_loc = (min([x for x, y in locs.keys() if y==loc[1]]), loc[1])\n",
    "                if d == (-1, 0):\n",
    "                    new_loc = (max([x for x, y in locs.keys() if y==loc[1]]), loc[1])\n",
    "                if d == (0, 1):\n",
    "                    new_loc = (loc[0], min([y for x, y in locs.keys() if x==loc[0]]))\n",
    "                if d == (0, -1):\n",
    "                    new_loc = (loc[0], max([y for x, y in locs.keys() if x==loc[0]]))\n",
    "            if locs[new_loc] == '.':\n",
    "                loc = new_loc\n",
    "            elif locs[new_loc] == '#':\n",
    "                return loc, rots\n",
    "            \n",
    "        return loc, rots\n",
    "            "
   ]
  },
  {
   "cell_type": "code",
   "execution_count": 56,
   "metadata": {},
   "outputs": [],
   "source": [
    "starty = min([y for x, y in locs.keys()])\n",
    "startx = min([x for x, y in locs.keys() if y==starty])\n",
    "loc = (startx, starty)\n",
    "f = 'R'\n",
    "\n",
    "rots = [(1, 0), (0, 1), (-1, 0), (0, -1)]  # rot 1 for L, -1 for R\n",
    "rots = deque(rots)\n",
    "f = rots[0]\n",
    "# rots.rotate(-1)\n",
    "# rots[0]\n"
   ]
  },
  {
   "cell_type": "code",
   "execution_count": 65,
   "metadata": {},
   "outputs": [
    {
     "name": "stdout",
     "output_type": "stream",
     "text": [
      "turn!\n"
     ]
    }
   ],
   "source": [
    "move(loc, f, 'R', locs)"
   ]
  },
  {
   "cell_type": "code",
   "execution_count": 74,
   "metadata": {},
   "outputs": [],
   "source": [
    "z = rots[0]"
   ]
  },
  {
   "cell_type": "code",
   "execution_count": 75,
   "metadata": {},
   "outputs": [
    {
     "data": {
      "text/plain": [
       "(1, 0)"
      ]
     },
     "execution_count": 75,
     "metadata": {},
     "output_type": "execute_result"
    }
   ],
   "source": [
    "z"
   ]
  },
  {
   "cell_type": "code",
   "execution_count": 76,
   "metadata": {},
   "outputs": [
    {
     "data": {
      "text/plain": [
       "1"
      ]
     },
     "execution_count": 76,
     "metadata": {},
     "output_type": "execute_result"
    }
   ],
   "source": [
    "sum(z)"
   ]
  },
  {
   "cell_type": "code",
   "execution_count": null,
   "metadata": {},
   "outputs": [],
   "source": []
  }
 ],
 "metadata": {
  "kernelspec": {
   "display_name": "Python 3",
   "language": "python",
   "name": "python3"
  },
  "language_info": {
   "codemirror_mode": {
    "name": "ipython",
    "version": 3
   },
   "file_extension": ".py",
   "mimetype": "text/x-python",
   "name": "python",
   "nbconvert_exporter": "python",
   "pygments_lexer": "ipython3",
   "version": "3.8.5"
  }
 },
 "nbformat": 4,
 "nbformat_minor": 4
}
