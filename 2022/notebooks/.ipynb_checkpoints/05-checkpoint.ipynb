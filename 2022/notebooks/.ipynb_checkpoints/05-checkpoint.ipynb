{
 "cells": [
  {
   "cell_type": "code",
   "execution_count": 12,
   "metadata": {},
   "outputs": [],
   "source": [
    "import numpy as np\n",
    "import re\n",
    "from itertools import product, permutations, combinations, cycle\n",
    "from collections import Counter, deque, defaultdict, OrderedDict\n",
    "import networkx as nx\n",
    "import string"
   ]
  },
  {
   "cell_type": "code",
   "execution_count": 24,
   "metadata": {},
   "outputs": [],
   "source": [
    "# input\n",
    "problemnumber = '05'\n",
    "fn = f'../{problemnumber}/{problemnumber}.txt'\n",
    "n_cols = 9\n",
    "\n",
    "fn = f'../{problemnumber}/{problemnumber}t.txt'\n",
    "n_cols = 3\n",
    "\n",
    "\n",
    "with open(fn) as fh:\n",
    "    crates, steps = fh.read().split('\\n\\n')\n",
    "\n",
    "crates = crates.split('\\n')\n",
    "steps = steps.split('\\n')\n",
    "\n",
    "stacks = [deque() for x in range(n_cols)]\n",
    "for cr_line in crates:\n",
    "    for c in range(n_cols):\n",
    "        ind = (c * 4) + 1\n",
    "        lett = cr_line[ind]\n",
    "        if lett = ' ':\n",
    "            continue\n",
    "        else:\n",
    "            stacks[c].append(lett)\n",
    "            \n",
    "    \n",
    "\n",
    "\n",
    "moves = []\n",
    "for l in steps:\n",
    "    move_nums = re.findall(r'\\d', l)\n",
    "    moves.append(tuple([int(x) for x in move_nums]))"
   ]
  },
  {
   "cell_type": "code",
   "execution_count": 25,
   "metadata": {},
   "outputs": [
    {
     "data": {
      "text/plain": [
       "['    [D]    ', '[N] [C]    ', '[Z] [M] [P]', ' 1   2   3 ']"
      ]
     },
     "execution_count": 25,
     "metadata": {},
     "output_type": "execute_result"
    }
   ],
   "source": [
    "# 1, 5, 9\n",
    "crates"
   ]
  },
  {
   "cell_type": "code",
   "execution_count": 26,
   "metadata": {},
   "outputs": [
    {
     "data": {
      "text/plain": [
       "[deque([]), deque([]), deque([])]"
      ]
     },
     "execution_count": 26,
     "metadata": {},
     "output_type": "execute_result"
    }
   ],
   "source": [
    "stacks"
   ]
  },
  {
   "cell_type": "code",
   "execution_count": null,
   "metadata": {},
   "outputs": [],
   "source": []
  }
 ],
 "metadata": {
  "kernelspec": {
   "display_name": "Python 3",
   "language": "python",
   "name": "python3"
  },
  "language_info": {
   "codemirror_mode": {
    "name": "ipython",
    "version": 3
   },
   "file_extension": ".py",
   "mimetype": "text/x-python",
   "name": "python",
   "nbconvert_exporter": "python",
   "pygments_lexer": "ipython3",
   "version": "3.8.5"
  }
 },
 "nbformat": 4,
 "nbformat_minor": 4
}
