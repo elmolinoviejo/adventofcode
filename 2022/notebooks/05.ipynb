{
 "cells": [
  {
   "cell_type": "code",
   "execution_count": 12,
   "metadata": {},
   "outputs": [],
   "source": [
    "import numpy as np\n",
    "import re\n",
    "from itertools import product, permutations, combinations, cycle\n",
    "from collections import Counter, deque, defaultdict, OrderedDict\n",
    "import networkx as nx\n",
    "import string"
   ]
  },
  {
   "cell_type": "code",
   "execution_count": 86,
   "metadata": {},
   "outputs": [],
   "source": [
    "# input\n",
    "problemnumber = '05'\n",
    "fn = f'../{problemnumber}/{problemnumber}.txt'\n",
    "n_cols = 9\n",
    "\n",
    "# fn = f'../{problemnumber}/{problemnumber}t.txt'\n",
    "# n_cols = 3\n",
    "\n",
    "\n",
    "with open(fn) as fh:\n",
    "    crates, steps = fh.read().split('\\n\\n')\n",
    "\n",
    "crates = crates.split('\\n')\n",
    "steps = steps.split('\\n')\n",
    "\n",
    "stacks = [deque() for x in range(n_cols)]\n",
    "for cr_line in crates[:-1]:\n",
    "    for c in range(n_cols):\n",
    "        ind = (c * 4) + 1\n",
    "        lett = cr_line[ind]\n",
    "        if lett==' ':\n",
    "            continue\n",
    "        else:\n",
    "            stacks[c].append(lett)\n",
    "            \n",
    "    \n",
    "moves = []\n",
    "for l in steps:\n",
    "    move_nums = re.findall(r'\\d+', l)\n",
    "    moves.append(tuple([int(x) for x in move_nums]))"
   ]
  },
  {
   "cell_type": "code",
   "execution_count": 65,
   "metadata": {},
   "outputs": [
    {
     "data": {
      "text/plain": [
       "[deque(['F', 'R', 'W']),\n",
       " deque(['P', 'W', 'V', 'D', 'C', 'M', 'H', 'T']),\n",
       " deque(['L', 'N', 'Z', 'M', 'P']),\n",
       " deque(['R', 'H', 'C', 'J']),\n",
       " deque(['B', 'T', 'Q', 'H', 'G', 'P', 'C']),\n",
       " deque(['Z', 'F', 'L', 'W', 'C', 'G']),\n",
       " deque(['C', 'G', 'J', 'Z', 'Q', 'L', 'V', 'W']),\n",
       " deque(['C', 'V', 'T', 'W', 'F', 'R', 'N', 'P']),\n",
       " deque(['V', 'S', 'R', 'G', 'H', 'W', 'J'])]"
      ]
     },
     "execution_count": 65,
     "metadata": {},
     "output_type": "execute_result"
    }
   ],
   "source": [
    "# TOP TO BOTTOM\n",
    "stacks"
   ]
  },
  {
   "cell_type": "code",
   "execution_count": 73,
   "metadata": {},
   "outputs": [],
   "source": [
    "# moves"
   ]
  },
  {
   "cell_type": "code",
   "execution_count": 67,
   "metadata": {},
   "outputs": [],
   "source": [
    "for m in moves:\n",
    "    n_moves, fr, to = m\n",
    "    for _ in range(n_moves):\n",
    "        lett = stacks[fr - 1].popleft()\n",
    "        stacks[to - 1].appendleft(lett)"
   ]
  },
  {
   "cell_type": "code",
   "execution_count": 70,
   "metadata": {},
   "outputs": [
    {
     "data": {
      "text/plain": [
       "'CVCWCRTVQ'"
      ]
     },
     "execution_count": 70,
     "metadata": {},
     "output_type": "execute_result"
    }
   ],
   "source": [
    "''.join([x[0] for x in stacks])"
   ]
  },
  {
   "cell_type": "code",
   "execution_count": 83,
   "metadata": {},
   "outputs": [
    {
     "data": {
      "text/plain": [
       "[(1, 2, 1), (3, 1, 3), (2, 2, 1), (1, 1, 2)]"
      ]
     },
     "execution_count": 83,
     "metadata": {},
     "output_type": "execute_result"
    }
   ],
   "source": [
    "moves"
   ]
  },
  {
   "cell_type": "code",
   "execution_count": 87,
   "metadata": {},
   "outputs": [],
   "source": [
    "for m in moves:\n",
    "    n_moves, fr, to = m\n",
    "    queue = deque()\n",
    "    for _ in range(n_moves):\n",
    "        lett = stacks[fr - 1].popleft()\n",
    "        queue.appendleft(lett)\n",
    "    stacks[to - 1].extendleft(queue)"
   ]
  },
  {
   "cell_type": "code",
   "execution_count": 88,
   "metadata": {},
   "outputs": [
    {
     "data": {
      "text/plain": [
       "'CNSCZWLVT'"
      ]
     },
     "execution_count": 88,
     "metadata": {},
     "output_type": "execute_result"
    }
   ],
   "source": [
    "''.join([x[0] for x in stacks])"
   ]
  },
  {
   "cell_type": "code",
   "execution_count": null,
   "metadata": {},
   "outputs": [],
   "source": [
    "# wrong\n",
    "# RRRRRRRRN"
   ]
  }
 ],
 "metadata": {
  "kernelspec": {
   "display_name": "Python 3",
   "language": "python",
   "name": "python3"
  },
  "language_info": {
   "codemirror_mode": {
    "name": "ipython",
    "version": 3
   },
   "file_extension": ".py",
   "mimetype": "text/x-python",
   "name": "python",
   "nbconvert_exporter": "python",
   "pygments_lexer": "ipython3",
   "version": "3.8.5"
  }
 },
 "nbformat": 4,
 "nbformat_minor": 4
}
