{
 "cells": [
  {
   "cell_type": "code",
   "execution_count": 126,
   "metadata": {},
   "outputs": [],
   "source": [
    "import numpy as np\n",
    "import re\n",
    "from itertools import product, permutations, combinations, cycle, zip_longest\n",
    "from collections import Counter, deque, defaultdict, OrderedDict\n",
    "from scipy.optimize import fsolve\n",
    "import networkx as nx\n",
    "import string\n",
    "import matplotlib.pyplot as plt\n",
    "from functools import cmp_to_key\n",
    "\n",
    "%matplotlib inline"
   ]
  },
  {
   "cell_type": "code",
   "execution_count": 106,
   "metadata": {},
   "outputs": [],
   "source": [
    "# input\n",
    "problemnumber = '15'\n",
    "fn = f'../{problemnumber}/{problemnumber}.txt'\n",
    "# fn = f'../{problemnumber}/{problemnumber}t.txt'\n",
    "\n",
    "minx, maxx, miny, maxy = 0, 0, 0, 0\n",
    "sbs = []\n",
    "with open(fn) as fh:\n",
    "    for l in fh.readlines():\n",
    "        x1, x2 = [int(x) for x in re.findall(r'x=(\\-?[\\d]+)\\,', l.rstrip())]\n",
    "        y1, y2 = [int(x) for x in re.findall(r'y=(\\-?[\\d]+)', l.rstrip())]\n",
    "        sbs.append(tuple([\n",
    "            x1, y1, x2, y2\n",
    "        ]))\n",
    "        \n",
    "        if min([x1, x2]) < minx:\n",
    "            minx = min([x1, x2])\n",
    "        if max([x1, x2]) > maxx:\n",
    "            maxx = max([x1, x2])\n",
    "        if min([y1, y2]) < miny:\n",
    "            miny = min([y1, y2])\n",
    "        if max([y1, y2]) > maxy:\n",
    "            maxx = max([y1, y2]) \n",
    "        "
   ]
  },
  {
   "cell_type": "code",
   "execution_count": 107,
   "metadata": {},
   "outputs": [],
   "source": [
    "def dist(x1, y1, x2, y2):\n",
    "    return abs(x1-x2) + abs(y1-y2)"
   ]
  },
  {
   "cell_type": "code",
   "execution_count": 110,
   "metadata": {},
   "outputs": [],
   "source": [
    "locs = set()\n",
    "yans = 2000000\n",
    "# yans = 10\n",
    "\n",
    "\n",
    "# for x in range(minx, maxx+1):\n",
    "#     locs.add((x, yans))\n",
    "    \n",
    "    \n",
    "ans_locs = set()\n",
    "beacons = set()\n",
    "for x1, y1, x2, y2 in sbs:\n",
    "    d = dist(x1, y1, x2, y2)\n",
    "    beacons.add((x2, y2))\n",
    "    if abs(yans - y1) <= d:\n",
    "\n",
    "        os = d - abs(yans - y1)\n",
    "#         print(x1, y1, d, os)\n",
    "        for dx in range(x1 - os - 1, x1 + os + 1):\n",
    "            if dist(x1, y1, dx, yans) <= d:\n",
    "                ans_locs.add((dx, yans))\n",
    "#                 print(f\"\\t{dx, yans}\")\n",
    "ans_locs = ans_locs - beacons"
   ]
  },
  {
   "cell_type": "code",
   "execution_count": 111,
   "metadata": {},
   "outputs": [
    {
     "data": {
      "text/plain": [
       "4883971"
      ]
     },
     "execution_count": 111,
     "metadata": {},
     "output_type": "execute_result"
    }
   ],
   "source": [
    "len(ans_locs)"
   ]
  },
  {
   "cell_type": "code",
   "execution_count": 67,
   "metadata": {},
   "outputs": [
    {
     "name": "stdout",
     "output_type": "stream",
     "text": [
      "3910146\n"
     ]
    }
   ],
   "source": [
    "4883971"
   ]
  },
  {
   "cell_type": "code",
   "execution_count": null,
   "metadata": {},
   "outputs": [],
   "source": [
    "# 3910146 too low\n",
    "# 3910161 too low\n",
    "# 5587312 too high"
   ]
  },
  {
   "cell_type": "code",
   "execution_count": 239,
   "metadata": {},
   "outputs": [],
   "source": [
    "# each sensor pair - check if in range\n",
    "# identify overlap location (math)\n",
    "#find overlaps that surround a point\n",
    "def in_range(s1, s2):\n",
    "    d1 = dist(*s1)\n",
    "    d2 = dist(*s2)\n",
    "    dmax = dist(s1[0], s1[1], s2[0], s2[1])\n",
    "    if dmax <= d1 + d2:\n",
    "        return True\n",
    "    else:\n",
    "        return False\n",
    "    \n",
    "    \n",
    "def overlap_eqs(p, ar):\n",
    "    # ar: x1, y1, d1, x2, y2, d2\n",
    "    x, y = p\n",
    "    x1, y1, d1, x2, y2, d2 = ar\n",
    "    return (abs(x - x1) + abs(y - y1) - d1, abs(x - x2) + abs( y - y2) - d2)\n",
    "\n",
    "\n",
    "def get_overlap_locs(s1, s2):\n",
    "    d1 = dist(*s1)\n",
    "    d2 = dist(*s2)\n",
    "    x1, y1, _, _  = s1\n",
    "    x2, y2, _, _ = s2\n",
    "    if in_range(s1, s2):\n",
    "        xa, ya = fsolve(overlap_eqs, [0, 0], [x1, y1, d1, x2, y2, d2])\n",
    "        xb, yb = fsolve(overlap_eqs, [4000000, 4000000], [x1, y1, d1, x2, y2, d2])\n",
    "        xa, ya, xb, yb = round(xa), round(ya), round(xb), round(yb)\n",
    "#         if (xa < 0 or ya < 0) or (xa > 4000000 or ya > 4000000):\n",
    "#             a = False\n",
    "#         if (xb < 0 or yb < 0) or (xb > 4000000 or yb > 4000000):\n",
    "#             b = False\n",
    "#         if \n",
    "        return [(xa, ya), (xb, yb)]"
   ]
  },
  {
   "cell_type": "code",
   "execution_count": 257,
   "metadata": {},
   "outputs": [],
   "source": [
    "# input\n",
    "problemnumber = '15'\n",
    "fn = f'../{problemnumber}/{problemnumber}.txt'\n",
    "fn = f'../{problemnumber}/{problemnumber}t.txt'\n",
    "\n",
    "minx, maxx, miny, maxy = 0, 0, 0, 0\n",
    "sbs = []\n",
    "with open(fn) as fh:\n",
    "    for l in fh.readlines():\n",
    "        x1, x2 = [int(x) for x in re.findall(r'x=(\\-?[\\d]+)\\,', l.rstrip())]\n",
    "        y1, y2 = [int(x) for x in re.findall(r'y=(\\-?[\\d]+)', l.rstrip())]\n",
    "        sbs.append(tuple([\n",
    "            x1, y1, x2, y2\n",
    "        ]))\n",
    "        \n",
    "        if min([x1, x2]) < minx:\n",
    "            minx = min([x1, x2])\n",
    "        if max([x1, x2]) > maxx:\n",
    "            maxx = max([x1, x2])\n",
    "        if min([y1, y2]) < miny:\n",
    "            miny = min([y1, y2])\n",
    "        if max([y1, y2]) > maxy:\n",
    "            maxx = max([y1, y2]) \n",
    "        "
   ]
  },
  {
   "cell_type": "code",
   "execution_count": 284,
   "metadata": {},
   "outputs": [
    {
     "name": "stdout",
     "output_type": "stream",
     "text": [
      "(2, 18) (9, 16) 7 1\n",
      "[ 4. 13.]\n",
      "[ 6. 21.]\n",
      "(2, 18) (14, 17) 7 5\n",
      "[ 7. 16.]\n",
      "[ 8. 19.]\n",
      "(2, 18) (8, 7) 7 9\n",
      "[ 5.80370957 13.80370957]\n",
      "[ 4.26723332 12.26723332]\n",
      "(2, 18) (2, 0) 7 10\n",
      "[2.00000418 9.49999995]\n",
      "[ 2. 18.]\n",
      "(12, 14) (17, 20) 4 6\n",
      "[15.74386935 15.25613065]\n",
      "[16.28138457 14.71861544]\n"
     ]
    }
   ],
   "source": [
    "def closest_edge(p, args):\n",
    "    dx, dy = p\n",
    "    s1, s2 = args\n",
    "    x1, y1, _, _ = s1\n",
    "    x2, y2, _, _ = s2\n",
    "    d1 = dist(*s1)\n",
    "    d2 = dist(*s2)\n",
    "    dmax = dist(x1, y1, x2, y2)\n",
    "    return dist(dx, dy, x2, y2) - (dmax - d2), abs(dx-x1) + abs(dy-y1) - d1\n",
    "\n",
    "\n",
    "# find all with edges 1 away from each other\n",
    "for ind1, ind2 in combinations(range(len(sbs)), 2):\n",
    "    s1 = sbs[ind1]\n",
    "    s2 = sbs[ind2]\n",
    "    x1, y1, _, _ = s1\n",
    "    x2, y2, _, _ = s2\n",
    "    d1 = dist(*s1)\n",
    "    d2 = dist(*s2)\n",
    "    dmax = dist(x1, y1, x2, y2)\n",
    "    if 0 < dmax - d1 - d2 < 2:\n",
    "#         slope = (y1 - y2)/(x1 - x2)\n",
    "        dx = x1 - x2\n",
    "        dy = y1 - y2\n",
    "        print((x1, y1), (x2, y2), d1, d2)\n",
    "        print(fsolve(closest_edge, [0, 0], [s1, s2]))\n",
    "        print(fsolve(closest_edge, [x1, y1], [s1, s2]))"
   ]
  },
  {
   "cell_type": "code",
   "execution_count": 241,
   "metadata": {},
   "outputs": [],
   "source": [
    "sensors_overlap = defaultdict(list)\n",
    "overlap_locs = []\n",
    "for ind1, ind2 in combinations(range(len(sbs)), 2):\n",
    "    s1 = sbs[ind1]\n",
    "    s2 = sbs[ind2]\n",
    "    if in_range(sbs[ind1], sbs[ind2]):\n",
    "        sensors_overlap[ind1].append(ind2)\n",
    "        sensors_overlap[ind2].append(ind1)\n",
    "        overlap_locs.extend(get_overlap_locs(s1, s2))\n",
    "    "
   ]
  },
  {
   "cell_type": "code",
   "execution_count": 242,
   "metadata": {},
   "outputs": [],
   "source": [
    "candidate_locs = []\n",
    "for ind1, ind2 in combinations(range(len(overlap_locs)), 2):\n",
    "    l1, l2 = overlap_locs[ind1], overlap_locs[ind2]\n",
    "    if any([z<0 or z>4000000 for z in l1]):\n",
    "        continue\n",
    "    if any([z<0 or z>4000000 for z in l2]):\n",
    "        continue\n",
    "    d =  dist(l1[0], l1[1], l2[0], l2[1])\n",
    "    if d <2:\n",
    "        if (l1, l2) not in candidate_locs:\n",
    "            candidate_locs.append((l1, l2))\n",
    "#         if l2 not in candidate_locs:\n",
    "#             candidate_locs.append(l2)\n",
    "        "
   ]
  },
  {
   "cell_type": "code",
   "execution_count": 243,
   "metadata": {},
   "outputs": [],
   "source": [
    "candidate_locs.sort()"
   ]
  },
  {
   "cell_type": "code",
   "execution_count": 244,
   "metadata": {},
   "outputs": [
    {
     "data": {
      "text/plain": [
       "[((0, 8), (0, 8)),\n",
       " ((3, 12), (3, 11)),\n",
       " ((9, 15), (9, 15)),\n",
       " ((9, 17), (9, 17)),\n",
       " ((10, 2), (10, 2)),\n",
       " ((10, 16), (10, 16)),\n",
       " ((12, 18), (12, 18)),\n",
       " ((13, 3), (13, 3)),\n",
       " ((14, 4), (14, 4)),\n",
       " ((15, 3), (15, 3)),\n",
       " ((22, 20), (22, 20)),\n",
       " ((4000000, 4000000), (4000000, 4000000))]"
      ]
     },
     "execution_count": 244,
     "metadata": {},
     "output_type": "execute_result"
    }
   ],
   "source": [
    "candidate_locs"
   ]
  },
  {
   "cell_type": "code",
   "execution_count": 196,
   "metadata": {},
   "outputs": [
    {
     "data": {
      "text/plain": [
       "10745695105909"
      ]
     },
     "execution_count": 196,
     "metadata": {},
     "output_type": "execute_result"
    }
   ],
   "source": [
    "2686423 * 4000000 + 3105909"
   ]
  },
  {
   "cell_type": "code",
   "execution_count": 197,
   "metadata": {},
   "outputs": [
    {
     "data": {
      "text/plain": [
       "10745699105910"
      ]
     },
     "execution_count": 197,
     "metadata": {},
     "output_type": "execute_result"
    }
   ],
   "source": [
    "2686424 * 4000000 + 3105910"
   ]
  },
  {
   "cell_type": "code",
   "execution_count": 187,
   "metadata": {},
   "outputs": [
    {
     "data": {
      "text/plain": [
       "[(-1, 7),\n",
       " (0, 8),\n",
       " (0, 8),\n",
       " (1, 9),\n",
       " (3, 11),\n",
       " (3, 12),\n",
       " (8, 18),\n",
       " (9, 15),\n",
       " (9, 15),\n",
       " (9, 15),\n",
       " (9, 17),\n",
       " (9, 17),\n",
       " (10, 2),\n",
       " (10, 2),\n",
       " (10, 16),\n",
       " (10, 16),\n",
       " (10, 16),\n",
       " (11, 1),\n",
       " (12, 14),\n",
       " (12, 18),\n",
       " (12, 18),\n",
       " (12, 20),\n",
       " (12, 22),\n",
       " (13, 3),\n",
       " (13, 3),\n",
       " (14, 0),\n",
       " (14, 4),\n",
       " (14, 4),\n",
       " (14, 4),\n",
       " (14, 4),\n",
       " (14, 10),\n",
       " (14, 12),\n",
       " (15, 3),\n",
       " (15, 3),\n",
       " (15, 3),\n",
       " (15, 3),\n",
       " (15, 3),\n",
       " (15, 11),\n",
       " (15, 13),\n",
       " (19, 7),\n",
       " (22, 20),\n",
       " (22, 20),\n",
       " (270253, -394211),\n",
       " (4000000, 4000000),\n",
       " (4000000, 4000000),\n",
       " (4000000, 4000000),\n",
       " (4000000, 4000000),\n",
       " (4000000, 4000000),\n",
       " (4000000, 4000000),\n",
       " (4000000, 4000000),\n",
       " (4000000, 4000000),\n",
       " (4000000, 4000000),\n",
       " (4000000, 4000000),\n",
       " (4000000, 4000000),\n",
       " (4000000, 4000000),\n",
       " (4000000, 4000000),\n",
       " (4000000, 4000000),\n",
       " (4000000, 4000000),\n",
       " (4000000, 4000000),\n",
       " (4000000, 4000000)]"
      ]
     },
     "execution_count": 187,
     "metadata": {},
     "output_type": "execute_result"
    }
   ],
   "source": [
    "'''\n",
    "[((2686424, 3105909), (2686423, 3105910))] wrong\n",
    "'''\n",
    "# 10745695105909 too low\n",
    "# 10745699105910 too low"
   ]
  },
  {
   "cell_type": "code",
   "execution_count": null,
   "metadata": {},
   "outputs": [],
   "source": []
  }
 ],
 "metadata": {
  "kernelspec": {
   "display_name": "Python 3",
   "language": "python",
   "name": "python3"
  },
  "language_info": {
   "codemirror_mode": {
    "name": "ipython",
    "version": 3
   },
   "file_extension": ".py",
   "mimetype": "text/x-python",
   "name": "python",
   "nbconvert_exporter": "python",
   "pygments_lexer": "ipython3",
   "version": "3.8.5"
  }
 },
 "nbformat": 4,
 "nbformat_minor": 4
}
