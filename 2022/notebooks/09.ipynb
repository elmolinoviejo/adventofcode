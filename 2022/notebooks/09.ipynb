{
 "cells": [
  {
   "cell_type": "code",
   "execution_count": 1,
   "metadata": {},
   "outputs": [],
   "source": [
    "import numpy as np\n",
    "import re\n",
    "from itertools import product, permutations, combinations, cycle\n",
    "from collections import Counter, deque, defaultdict, OrderedDict\n",
    "import networkx as nx\n",
    "import string"
   ]
  },
  {
   "cell_type": "code",
   "execution_count": 163,
   "metadata": {},
   "outputs": [],
   "source": [
    "# input\n",
    "problemnumber = '09'\n",
    "fn = f'../{problemnumber}/{problemnumber}.txt'\n",
    "# fn = f'../{problemnumber}/{problemnumber}t.txt'\n",
    "\n",
    "\n",
    "moves = []\n",
    "with open(fn) as fh:\n",
    "    for x in fh.readlines():\n",
    "#         print(x)\n",
    "        m1, m2 = x.rstrip().split()\n",
    "        moves.append(tuple([m1, int(m2)]))\n",
    "\n",
    "            "
   ]
  },
  {
   "cell_type": "code",
   "execution_count": 160,
   "metadata": {},
   "outputs": [],
   "source": [
    "def sign(x): \n",
    "    if x <0:\n",
    "        return -1\n",
    "    elif x > 0:\n",
    "        return 1\n",
    "    else:\n",
    "        return 0\n",
    "\n",
    "def move_tail(hloc, tloc):\n",
    "    if hloc==tloc:\n",
    "        return tloc\n",
    "    \n",
    "    x1, y1 = hloc\n",
    "    x2, y2 = tloc\n",
    "    \n",
    "    #touching\n",
    "    if abs(x1-x2)<2 and abs(y1-y2)<2:\n",
    "        return tloc\n",
    "#     if abs(x1-x2)==0 and abs(y1-y2)<2:\n",
    "#         return tloc\n",
    "    \n",
    "    # move horiz/vert\n",
    "    dy = sign(y2-y1)\n",
    "    dx = sign(x2-x1)\n",
    "    if x1==x2:\n",
    "        return tuple([x2, y2-dy])\n",
    "    \n",
    "    if y1==y2:\n",
    "        return tuple([x2-dx, y2])\n",
    "      \n",
    "    \n",
    "    else:\n",
    "#         print(dx, dy)\n",
    "#         print(x2, y2)\n",
    "        return tuple([x2-dx, y2-dy])\n",
    "    "
   ]
  },
  {
   "cell_type": "code",
   "execution_count": null,
   "metadata": {},
   "outputs": [],
   "source": []
  },
  {
   "cell_type": "code",
   "execution_count": 128,
   "metadata": {},
   "outputs": [
    {
     "data": {
      "text/plain": [
       "{1, 2}"
      ]
     },
     "execution_count": 128,
     "metadata": {},
     "output_type": "execute_result"
    }
   ],
   "source": [
    "'''\n",
    "start same loc\n",
    "'''\n",
    "\n",
    "hloc = tuple([0, 0])\n",
    "tloc = tuple([0, 0])\n",
    "hlocs = set(hloc)\n",
    "tlocs = set(tloc)\n",
    "\n",
    "set([1, 2])"
   ]
  },
  {
   "cell_type": "code",
   "execution_count": 169,
   "metadata": {},
   "outputs": [
    {
     "name": "stdout",
     "output_type": "stream",
     "text": [
      "6011\n"
     ]
    }
   ],
   "source": [
    "hloc = tuple([0, 0])\n",
    "tloc = tuple([0, 0])\n",
    "hlocs = set(hloc)\n",
    "tlocs = set(tloc)\n",
    "dms = {\n",
    "    'U': (0, -1),\n",
    "    'D': (0, 1),\n",
    "    'L': (-1, 0),\n",
    "    'R': (1, 0)\n",
    "}\n",
    "\n",
    "# move head\n",
    "for m in moves:\n",
    "    d, dist = m\n",
    "    dx, dy = dms[d]\n",
    "    for _ in range(dist):\n",
    "        hloc = tuple([hloc[0] + 1*sign(dx), hloc[1] + 1*sign(dy)])\n",
    "        tloc = move_tail(hloc, tloc)\n",
    "        hlocs.add(hloc)\n",
    "        tlocs.add(tloc)\n",
    "        \n",
    "#         print(hloc, tloc)\n",
    "    \n",
    "    \n",
    "print(len(tlocs) - 1)"
   ]
  },
  {
   "cell_type": "code",
   "execution_count": 164,
   "metadata": {},
   "outputs": [
    {
     "name": "stdout",
     "output_type": "stream",
     "text": [
      "2418\n"
     ]
    }
   ],
   "source": [
    "# hloc = tuple([0, 0])\n",
    "klocs = [tuple([0, 0]) for _ in range(10)]\n",
    "\n",
    "k9locs = set()\n",
    "dms = {\n",
    "    'U': (0, -1),\n",
    "    'D': (0, 1),\n",
    "    'L': (-1, 0),\n",
    "    'R': (1, 0)\n",
    "}\n",
    "\n",
    "# move head\n",
    "for m in moves:\n",
    "    d, dist = m\n",
    "    dx, dy = dms[d]\n",
    "    hloc = klocs[0]\n",
    "    for _ in range(dist):\n",
    "        klocs[0] = tuple([klocs[0][0] + 1*sign(dx), klocs[0][1] + 1*sign(dy)])\n",
    "        for ind, tloc in enumerate(klocs):\n",
    "            if ind==0:\n",
    "                continue\n",
    "            hloc = klocs[ind-1]\n",
    "            tloc = klocs[ind]\n",
    "#             hloc = klocs\n",
    "            tloc = move_tail(hloc, tloc)\n",
    "            klocs[ind] = tloc\n",
    "#         print(klocs)\n",
    "        \n",
    "        k9locs.add(klocs[9])\n",
    "            \n",
    "#         tloc = move_tail(hloc, tloc)\n",
    "#         hlocs.add(hloc)\n",
    "#         tlocs.add(tloc)\n",
    "        \n",
    "#         print(hloc, tloc)\n",
    "    \n",
    "    \n",
    "print(len(k9locs) - 1)"
   ]
  },
  {
   "cell_type": "code",
   "execution_count": 165,
   "metadata": {},
   "outputs": [
    {
     "data": {
      "text/plain": [
       "2419"
      ]
     },
     "execution_count": 165,
     "metadata": {},
     "output_type": "execute_result"
    }
   ],
   "source": [
    "len(k9locs)"
   ]
  },
  {
   "cell_type": "code",
   "execution_count": 146,
   "metadata": {},
   "outputs": [
    {
     "data": {
      "text/plain": [
       "{0}"
      ]
     },
     "execution_count": 146,
     "metadata": {},
     "output_type": "execute_result"
    }
   ],
   "source": [
    "set(list(tuple((0, 0))))"
   ]
  },
  {
   "cell_type": "code",
   "execution_count": 108,
   "metadata": {},
   "outputs": [
    {
     "data": {
      "text/plain": [
       "{(0, 0),\n",
       " (1, -2),\n",
       " (1, 0),\n",
       " (2, -2),\n",
       " (2, -4),\n",
       " (2, 0),\n",
       " (3, -2),\n",
       " (3, -3),\n",
       " (3, -4),\n",
       " (3, 0),\n",
       " (4, -1),\n",
       " (4, -2),\n",
       " (4, -3),\n",
       " 0}"
      ]
     },
     "execution_count": 108,
     "metadata": {},
     "output_type": "execute_result"
    }
   ],
   "source": [
    "tlocs"
   ]
  },
  {
   "cell_type": "code",
   "execution_count": null,
   "metadata": {},
   "outputs": [],
   "source": [
    "# 2418 wrong"
   ]
  },
  {
   "cell_type": "code",
   "execution_count": 168,
   "metadata": {},
   "outputs": [
    {
     "data": {
      "text/plain": [
       "0"
      ]
     },
     "execution_count": 168,
     "metadata": {},
     "output_type": "execute_result"
    }
   ],
   "source": [
    "(1 < 0)*-1"
   ]
  },
  {
   "cell_type": "code",
   "execution_count": null,
   "metadata": {},
   "outputs": [],
   "source": []
  }
 ],
 "metadata": {
  "kernelspec": {
   "display_name": "Python 3",
   "language": "python",
   "name": "python3"
  },
  "language_info": {
   "codemirror_mode": {
    "name": "ipython",
    "version": 3
   },
   "file_extension": ".py",
   "mimetype": "text/x-python",
   "name": "python",
   "nbconvert_exporter": "python",
   "pygments_lexer": "ipython3",
   "version": "3.8.5"
  }
 },
 "nbformat": 4,
 "nbformat_minor": 4
}
