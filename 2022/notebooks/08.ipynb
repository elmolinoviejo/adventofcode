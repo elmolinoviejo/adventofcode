{
 "cells": [
  {
   "cell_type": "code",
   "execution_count": 3,
   "metadata": {},
   "outputs": [],
   "source": [
    "import numpy as np\n",
    "import re\n",
    "from itertools import product, permutations, combinations, cycle\n",
    "from collections import Counter, deque, defaultdict, OrderedDict\n",
    "import networkx as nx\n",
    "import string"
   ]
  },
  {
   "cell_type": "code",
   "execution_count": 90,
   "metadata": {},
   "outputs": [],
   "source": [
    "# input\n",
    "problemnumber = '08'\n",
    "fn = f'../{problemnumber}/{problemnumber}.txt'\n",
    "# fn = f'../{problemnumber}/{problemnumber}t.txt'\n",
    "\n",
    "trees = {}\n",
    "minx, miny = 0, 0\n",
    "maxy = 0\n",
    "with open(fn) as fh:\n",
    "    for y, row in enumerate(fh.readlines()):\n",
    "        maxy+=1\n",
    "        maxx = len(row.rstrip())\n",
    "        for x, h in enumerate(row.rstrip()):\n",
    "            trees[tuple([x, y])] = int(h)\n",
    "\n",
    "            "
   ]
  },
  {
   "cell_type": "code",
   "execution_count": 71,
   "metadata": {},
   "outputs": [],
   "source": [
    "def is_vis(loc, trees):\n",
    "    x, y = loc\n",
    "    if x==minx or x==maxx - 1:\n",
    "        return True\n",
    "    if y==miny or y==maxy - 1:\n",
    "        return True\n",
    "    h = trees[tuple([x, y])]\n",
    "    \n",
    "#     print(x, y, h)\n",
    "    # check all edges\n",
    "    f_count = 0\n",
    "    for xl in range(minx, x):\n",
    "#         print(xl)\n",
    "        if trees[tuple([xl, y])] >= h:\n",
    "            f_count += 1\n",
    "#             print('xl')\n",
    "            break\n",
    "    for xr in range(x + 1, maxx):\n",
    "#         print(f\"xr{xr}\")\n",
    "        if trees[tuple([xr, y])] >= h:\n",
    "            f_count += 1\n",
    "#             print('xr')\n",
    "            break\n",
    "    for yu in range(miny, y):\n",
    "#         print(f\"yu{yu}\")\n",
    "        if trees[tuple([x, yu])] >= h:\n",
    "            f_count += 1\n",
    "#             print('yu')\n",
    "            break\n",
    "    for yd in range(y + 1, maxy):\n",
    "#         print(f\"yd{yd}\")\n",
    "        if trees[tuple([x, yd])] >= h:\n",
    "            f_count += 1\n",
    "#             print('yd')\n",
    "            break\n",
    "#     print(f_count)\n",
    "    if f_count < 4:\n",
    "        return True\n",
    "    else:\n",
    "        return False"
   ]
  },
  {
   "cell_type": "code",
   "execution_count": 87,
   "metadata": {},
   "outputs": [],
   "source": [
    "def v_dists(loc, trees):\n",
    "    # return list of [xl, xr, yu, yd]\n",
    "    x, y = loc\n",
    "    h = trees[tuple([x, y])]\n",
    "    \n",
    "    o1, o2, o3, o4 = 0, 0, 0, 0\n",
    "    \n",
    "    for xl in reversed(range(minx, x)):\n",
    "        if trees[tuple([xl, y])] >= h:\n",
    "            o1 += 1\n",
    "            break\n",
    "        o1 += 1\n",
    "    for xr in range(x + 1, maxx):\n",
    "        if trees[tuple([xr, y])] >= h:\n",
    "            o2 +=1\n",
    "            break\n",
    "        o2 += 1\n",
    "    for yu in reversed(range(miny, y)):\n",
    "        if trees[tuple([x, yu])] >= h:\n",
    "            o3 +=1\n",
    "            break\n",
    "            \n",
    "        o3 += 1\n",
    "    for yd in range(y + 1, maxy):\n",
    "        if trees[tuple([x, yd])] >= h:\n",
    "            o4 +=1\n",
    "            break\n",
    "        o4 += 1\n",
    "#     print(o1, o2, o3, o4)\n",
    "    return o1 * o2 * o3 * o4"
   ]
  },
  {
   "cell_type": "code",
   "execution_count": 79,
   "metadata": {},
   "outputs": [
    {
     "name": "stdout",
     "output_type": "stream",
     "text": [
      "21\n"
     ]
    }
   ],
   "source": [
    "ans = 0\n",
    "for y in range(miny,maxy):\n",
    "    for x in range(minx, maxx):\n",
    "        v = is_vis(tuple([x, y]), trees)\n",
    "        if v:\n",
    "            ans += 1\n",
    "#             print(x, y)\n",
    "print(ans)"
   ]
  },
  {
   "cell_type": "code",
   "execution_count": 91,
   "metadata": {},
   "outputs": [
    {
     "name": "stdout",
     "output_type": "stream",
     "text": [
      "314820\n"
     ]
    }
   ],
   "source": [
    "ans = 0\n",
    "for y in range(miny,maxy):\n",
    "    for x in range(minx, maxx):\n",
    "#         print(x, y, sc)\n",
    "        sc = v_dists(tuple([x, y]), trees)\n",
    "#         print(x, y, sc)\n",
    "        if sc > ans:\n",
    "            ans = sc\n",
    "print(ans)"
   ]
  },
  {
   "cell_type": "code",
   "execution_count": 74,
   "metadata": {},
   "outputs": [
    {
     "name": "stdout",
     "output_type": "stream",
     "text": [
      "3\n",
      "2\n",
      "1\n",
      "0\n"
     ]
    }
   ],
   "source": [
    "# 262350 wrong"
   ]
  },
  {
   "cell_type": "code",
   "execution_count": null,
   "metadata": {},
   "outputs": [],
   "source": []
  }
 ],
 "metadata": {
  "kernelspec": {
   "display_name": "Python 3",
   "language": "python",
   "name": "python3"
  },
  "language_info": {
   "codemirror_mode": {
    "name": "ipython",
    "version": 3
   },
   "file_extension": ".py",
   "mimetype": "text/x-python",
   "name": "python",
   "nbconvert_exporter": "python",
   "pygments_lexer": "ipython3",
   "version": "3.8.5"
  }
 },
 "nbformat": 4,
 "nbformat_minor": 4
}
