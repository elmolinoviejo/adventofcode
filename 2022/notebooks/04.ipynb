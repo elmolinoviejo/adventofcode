{
 "cells": [
  {
   "cell_type": "code",
   "execution_count": 1,
   "metadata": {},
   "outputs": [],
   "source": [
    "import numpy as np\n",
    "from itertools import product, permutations, combinations, cycle\n",
    "from collections import Counter, deque, defaultdict, OrderedDict\n",
    "import networkx as nx\n",
    "import string"
   ]
  },
  {
   "cell_type": "code",
   "execution_count": 36,
   "metadata": {},
   "outputs": [],
   "source": [
    "# input\n",
    "problemnumber = '04'\n",
    "fn = f'../{problemnumber}/{problemnumber}.txt'\n",
    "# fn = f'../{problemnumber}/{problemnumber}t.txt'\n",
    "\n",
    "sects = []\n",
    "with open(fn) as fh:\n",
    "    ls = fh.read().split('\\n')\n",
    "    for l in ls:\n",
    "        s1, s2 = l.split(',')\n",
    "        \n",
    "        x1 = [int(x) for x in s1.split('-')]\n",
    "        x1 = list(range(x1[0], x1[1]+1))\n",
    "        \n",
    "        x2 = [int(x) for x in s2.split('-')]\n",
    "        x2 = list(range(x2[0], x2[1]+1))\n",
    "        sects.append(tuple([set(x1), set(x2)]))\n",
    "#     for rs in rss: \n",
    "        \n"
   ]
  },
  {
   "cell_type": "code",
   "execution_count": 37,
   "metadata": {},
   "outputs": [],
   "source": [
    "# xx = [sects[0]]\n",
    "ans = 0\n",
    "for s in sects:\n",
    "    if s[0].issubset(s[1]):\n",
    "#         print('y')\n",
    "        ans += 1\n",
    "    elif s[1].issubset(s[0]):\n",
    "#         print('y2')\n",
    "        ans += 1\n",
    "    "
   ]
  },
  {
   "cell_type": "code",
   "execution_count": 38,
   "metadata": {},
   "outputs": [
    {
     "data": {
      "text/plain": [
       "657"
      ]
     },
     "execution_count": 38,
     "metadata": {},
     "output_type": "execute_result"
    }
   ],
   "source": [
    "ans"
   ]
  },
  {
   "cell_type": "code",
   "execution_count": 39,
   "metadata": {},
   "outputs": [
    {
     "data": {
      "text/plain": [
       "938"
      ]
     },
     "execution_count": 39,
     "metadata": {},
     "output_type": "execute_result"
    }
   ],
   "source": [
    "# xx = [sects[0]]\n",
    "ans = 0\n",
    "for s in sects:\n",
    "    if len(s[0].intersection(s[1])) > 0:\n",
    "        ans +=1\n",
    "        \n",
    "ans  "
   ]
  },
  {
   "cell_type": "code",
   "execution_count": null,
   "metadata": {},
   "outputs": [],
   "source": []
  }
 ],
 "metadata": {
  "kernelspec": {
   "display_name": "Python 3",
   "language": "python",
   "name": "python3"
  },
  "language_info": {
   "codemirror_mode": {
    "name": "ipython",
    "version": 3
   },
   "file_extension": ".py",
   "mimetype": "text/x-python",
   "name": "python",
   "nbconvert_exporter": "python",
   "pygments_lexer": "ipython3",
   "version": "3.8.5"
  }
 },
 "nbformat": 4,
 "nbformat_minor": 4
}
