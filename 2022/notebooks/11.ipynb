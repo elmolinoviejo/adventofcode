{
 "cells": [
  {
   "cell_type": "code",
   "execution_count": 1,
   "metadata": {},
   "outputs": [],
   "source": [
    "import numpy as np\n",
    "import re\n",
    "from itertools import product, permutations, combinations, cycle\n",
    "from collections import Counter, deque, defaultdict, OrderedDict\n",
    "import networkx as nx\n",
    "import string\n",
    "import matplotlib.pyplot as plt\n",
    "\n",
    "%matplotlib inline"
   ]
  },
  {
   "cell_type": "code",
   "execution_count": 86,
   "metadata": {},
   "outputs": [],
   "source": [
    "# input\n",
    "problemnumber = '11'\n",
    "fn = f'../{problemnumber}/{problemnumber}.txt'\n",
    "# fn = f'../{problemnumber}/{problemnumber}t.txt'\n",
    "\n",
    "\n",
    "# ms = []\n",
    "with open(fn) as fh:\n",
    "    ms = fh.read().split('\\n\\n')"
   ]
  },
  {
   "cell_type": "code",
   "execution_count": 87,
   "metadata": {},
   "outputs": [],
   "source": [
    "class Monkey():\n",
    "    def __init__(self, s):\n",
    "        self.mnum = None\n",
    "        self.items = []\n",
    "        self.op_vars = None\n",
    "        self.test_vars = None\n",
    "        self.true_m = None\n",
    "        self.false_m = None\n",
    "        self.read_input(s)\n",
    "        self.inspect_num = 0\n",
    "        \n",
    "    def read_input(self, s):\n",
    "        ss = s.split('\\n')\n",
    "        self.mnum = int(ss[0].split()[1][:-1])\n",
    "        \n",
    "        for x in ss[1].split()[2:]:\n",
    "            self.items.append(int(x.split(',')[0]))\n",
    "        \n",
    "        op = ss[2].split()[-2:]\n",
    "        self.op_vars = op\n",
    "        test_num = int(ss[3].split()[-1])\n",
    "        self.test_vars = test_num\n",
    "        self.true_m = int(ss[4].split()[-1])\n",
    "        self.false_m = int(ss[5].split()[-1])\n",
    "    \n",
    "    def op_func(self, v):\n",
    "        if self.op_vars[0] == '*':\n",
    "            if self.op_vars[1] == 'old':\n",
    "                return v * v\n",
    "            else:\n",
    "                return v * int(self.op_vars[1])\n",
    "        if self.op_vars[0] == '+':\n",
    "            return v + int(self.op_vars[1])\n",
    "    \n",
    "    def test_func(self, v):\n",
    "        return v%self.test_vars == 0\n",
    "        \n",
    "def round(mnum, monkeys):\n",
    "    m = monkeys[mnum]\n",
    "    if len(m.items)==0:\n",
    "        mnum += 1\n",
    "#         print('TRUE', mnum)\n",
    "        return mnum\n",
    "    \n",
    "    m.inspect_num += 1\n",
    "    x = m.items.pop(0)\n",
    "#     print(m.mnum, x)\n",
    "    x = m.op_func(x)\n",
    "#     x = x // 3\n",
    "#     print(x)\n",
    "    if m.test_func(x):\n",
    "        monkeys[m.true_m].items.append(x)\n",
    "    else:\n",
    "        monkeys[m.false_m].items.append(x)\n",
    "    \n",
    "    return mnum\n",
    "\n",
    "\n",
    "\n",
    "def mod_worry(v, mod_val=223092870):\n",
    "    return v % mod_val\n",
    "\n",
    "\n",
    "\n",
    "def roundB(monkeys):\n",
    "    new_lists = {x:[] for x in range(len(monkeys))}\n",
    "    for mnum, m in monkeys.items():\n",
    "        eval_num = len(m.items)\n",
    "        m.inspect_num += eval_num\n",
    "        for _ in range(eval_num):\n",
    "            v = m.items.pop(0)\n",
    "            m0 = mnum\n",
    "            m1 = mnum\n",
    "            while True:\n",
    "                m0 = m1\n",
    "                v = monkeys[m0].op_func(v)\n",
    "                if monkeys[m0].test_func(v):\n",
    "                    m1 = monkeys[m0].true_m\n",
    "                else:\n",
    "                    m1 = monkeys[m0].false_m\n",
    "                if m1 < m0:\n",
    "                    new_lists[m1].append(mod_worry(v))\n",
    "                    break\n",
    "                monkeys[m1].inspect_num += 1\n",
    "    for m, items in new_lists.items():\n",
    "        monkeys[m].items = items"
   ]
  },
  {
   "cell_type": "code",
   "execution_count": 88,
   "metadata": {},
   "outputs": [
    {
     "data": {
      "text/plain": [
       "223092870"
      ]
     },
     "execution_count": 88,
     "metadata": {},
     "output_type": "execute_result"
    }
   ],
   "source": [
    "3 * 13 * 2 * 11 * 5 * 17 * 19 * 7 * 23"
   ]
  },
  {
   "cell_type": "code",
   "execution_count": 89,
   "metadata": {},
   "outputs": [],
   "source": [
    "monkeys = {}\n",
    "for ind, m in enumerate(ms):\n",
    "    monkeys[ind] = Monkey(m)\n",
    "#     print(ind)"
   ]
  },
  {
   "cell_type": "code",
   "execution_count": 90,
   "metadata": {},
   "outputs": [],
   "source": [
    "rounds = []\n",
    "insp_ns = {x:[] for x in range(len(monkeys))}\n",
    "\n",
    "for _ in range(10000):\n",
    "    roundB(monkeys)\n",
    "    for n, m in monkeys.items():\n",
    "        insp_ns[n].append(m.inspect_num)"
   ]
  },
  {
   "cell_type": "code",
   "execution_count": 91,
   "metadata": {},
   "outputs": [
    {
     "name": "stdout",
     "output_type": "stream",
     "text": [
      "171832\n",
      "12942\n",
      "167042\n",
      "12599\n",
      "167043\n",
      "172863\n",
      "12961\n",
      "160272\n"
     ]
    }
   ],
   "source": [
    "for m in monkeys.values():\n",
    "    print(m.inspect_num)"
   ]
  },
  {
   "cell_type": "code",
   "execution_count": 92,
   "metadata": {},
   "outputs": [
    {
     "data": {
      "text/plain": [
       "29703395016"
      ]
     },
     "execution_count": 92,
     "metadata": {},
     "output_type": "execute_result"
    }
   ],
   "source": [
    "171832 * 172863"
   ]
  },
  {
   "cell_type": "code",
   "execution_count": 93,
   "metadata": {},
   "outputs": [
    {
     "data": {
      "image/png": "[encoded data removed]",
      "text/plain": [
       "<Figure size 144x1440 with 8 Axes>"
      ]
     },
     "metadata": {
      "needs_background": "light"
     },
     "output_type": "display_data"
    }
   ],
   "source": [
    "fig, axs = plt.subplots(nrows=len(monkeys), figsize=[2, 20], sharey=True)\n",
    "for ind, ax in enumerate(axs):\n",
    "    ax.plot(insp_ns[ind])\n",
    "# plt.plot(insp_ns[3])"
   ]
  },
  {
   "cell_type": "code",
   "execution_count": 238,
   "metadata": {},
   "outputs": [],
   "source": [
    "rounds = []\n",
    "insp_ns = {x:[] for x in range(len(monkeys))}\n",
    "for _ in range(30):\n",
    "    mnum = 0\n",
    "    while mnum < len(monkeys):\n",
    "        mnum = round(mnum, monkeys)\n",
    "#     print()\n",
    "#     ins_n = []\n",
    "    for n, m in monkeys.items():\n",
    "        insp_ns[n].append(m.inspect_num)"
   ]
  },
  {
   "cell_type": "code",
   "execution_count": 241,
   "metadata": {},
   "outputs": [
    {
     "name": "stdout",
     "output_type": "stream",
     "text": [
      "0: 486\n",
      "1: 99\n",
      "2: 423\n",
      "3: 95\n",
      "4: 427\n",
      "5: 501\n",
      "6: 117\n",
      "7: 413\n"
     ]
    }
   ],
   "source": [
    "for n, vals in insp_ns.items():\n",
    "    print(f\"{n}: {max(vals)}\")"
   ]
  },
  {
   "cell_type": "code",
   "execution_count": null,
   "metadata": {},
   "outputs": [],
   "source": [
    "# 0 and 4"
   ]
  },
  {
   "cell_type": "code",
   "execution_count": 246,
   "metadata": {},
   "outputs": [
    {
     "data": {
      "text/plain": [
       "[2,\n",
       " 8,\n",
       " 16,\n",
       " 20,\n",
       " 36,\n",
       " 41,\n",
       " 58,\n",
       " 70,\n",
       " 84,\n",
       " 99,\n",
       " 114,\n",
       " 130,\n",
       " 144,\n",
       " 161,\n",
       " 175,\n",
       " 193,\n",
       " 208,\n",
       " 227,\n",
       " 242,\n",
       " 259,\n",
       " 274,\n",
       " 292,\n",
       " 308,\n",
       " 327,\n",
       " 342,\n",
       " 359,\n",
       " 374,\n",
       " 392,\n",
       " 408,\n",
       " 427]"
      ]
     },
     "execution_count": 246,
     "metadata": {},
     "output_type": "execute_result"
    }
   ],
   "source": [
    "insp_ns[4]"
   ]
  },
  {
   "cell_type": "code",
   "execution_count": 243,
   "metadata": {},
   "outputs": [
    {
     "data": {
      "text/plain": [
       "19"
      ]
     },
     "execution_count": 243,
     "metadata": {},
     "output_type": "execute_result"
    }
   ],
   "source": [
    "86-67"
   ]
  },
  {
   "cell_type": "code",
   "execution_count": 244,
   "metadata": {},
   "outputs": [
    {
     "data": {
      "text/plain": [
       "16"
      ]
     },
     "execution_count": 244,
     "metadata": {},
     "output_type": "execute_result"
    }
   ],
   "source": [
    "67-51"
   ]
  },
  {
   "cell_type": "code",
   "execution_count": 245,
   "metadata": {},
   "outputs": [
    {
     "data": {
      "text/plain": [
       "20"
      ]
     },
     "execution_count": 245,
     "metadata": {},
     "output_type": "execute_result"
    }
   ],
   "source": [
    "51-31"
   ]
  },
  {
   "cell_type": "code",
   "execution_count": null,
   "metadata": {},
   "outputs": [],
   "source": []
  }
 ],
 "metadata": {
  "kernelspec": {
   "display_name": "Python 3",
   "language": "python",
   "name": "python3"
  },
  "language_info": {
   "codemirror_mode": {
    "name": "ipython",
    "version": 3
   },
   "file_extension": ".py",
   "mimetype": "text/x-python",
   "name": "python",
   "nbconvert_exporter": "python",
   "pygments_lexer": "ipython3",
   "version": "3.8.5"
  }
 },
 "nbformat": 4,
 "nbformat_minor": 4
}
