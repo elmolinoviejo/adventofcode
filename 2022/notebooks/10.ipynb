{
 "cells": [
  {
   "cell_type": "code",
   "execution_count": 27,
   "metadata": {},
   "outputs": [
    {
     "ename": "ModuleNotFoundError",
     "evalue": "No module named 'networkx'",
     "output_type": "error",
     "traceback": [
      "\u001b[0;31m---------------------------------------------------------------------------\u001b[0m",
      "\u001b[0;31mModuleNotFoundError\u001b[0m                       Traceback (most recent call last)",
      "\u001b[0;32m<ipython-input-27-9870b9986d16>\u001b[0m in \u001b[0;36m<module>\u001b[0;34m\u001b[0m\n\u001b[1;32m      3\u001b[0m \u001b[0;32mfrom\u001b[0m \u001b[0mitertools\u001b[0m \u001b[0;32mimport\u001b[0m \u001b[0mproduct\u001b[0m\u001b[0;34m,\u001b[0m \u001b[0mpermutations\u001b[0m\u001b[0;34m,\u001b[0m \u001b[0mcombinations\u001b[0m\u001b[0;34m,\u001b[0m \u001b[0mcycle\u001b[0m\u001b[0;34m\u001b[0m\u001b[0;34m\u001b[0m\u001b[0m\n\u001b[1;32m      4\u001b[0m \u001b[0;32mfrom\u001b[0m \u001b[0mcollections\u001b[0m \u001b[0;32mimport\u001b[0m \u001b[0mCounter\u001b[0m\u001b[0;34m,\u001b[0m \u001b[0mdeque\u001b[0m\u001b[0;34m,\u001b[0m \u001b[0mdefaultdict\u001b[0m\u001b[0;34m,\u001b[0m \u001b[0mOrderedDict\u001b[0m\u001b[0;34m\u001b[0m\u001b[0;34m\u001b[0m\u001b[0m\n\u001b[0;32m----> 5\u001b[0;31m \u001b[0;32mimport\u001b[0m \u001b[0mnetworkx\u001b[0m \u001b[0;32mas\u001b[0m \u001b[0mnx\u001b[0m\u001b[0;34m\u001b[0m\u001b[0;34m\u001b[0m\u001b[0m\n\u001b[0m\u001b[1;32m      6\u001b[0m \u001b[0;32mimport\u001b[0m \u001b[0mstring\u001b[0m\u001b[0;34m\u001b[0m\u001b[0;34m\u001b[0m\u001b[0m\n",
      "\u001b[0;31mModuleNotFoundError\u001b[0m: No module named 'networkx'"
     ]
    }
   ],
   "source": [
    "import numpy as np\n",
    "import re\n",
    "from itertools import product, permutations, combinations, cycle\n",
    "from collections import Counter, deque, defaultdict, OrderedDict\n",
    "import networkx as nx\n",
    "import string"
   ]
  },
  {
   "cell_type": "code",
   "execution_count": 105,
   "metadata": {},
   "outputs": [],
   "source": [
    "# input\n",
    "problemnumber = '10'\n",
    "fn = f'../{problemnumber}/{problemnumber}.txt'\n",
    "# fn = f'../{problemnumber}/{problemnumber}t.txt'\n",
    "\n",
    "\n",
    "cmds = []\n",
    "with open(fn) as fh:\n",
    "    for x in fh.readlines():\n",
    "        cmds.append(x.rstrip())\n",
    "            "
   ]
  },
  {
   "cell_type": "code",
   "execution_count": 106,
   "metadata": {},
   "outputs": [
    {
     "data": {
      "text/plain": [
       "'\\naddx V takes two cycles to complete. After two cycles, the X register is increased by the value V. (V can be negative.)\\n\\nnoop takes one cycle to complete. It has no other effect.\\n\\n'"
      ]
     },
     "execution_count": 106,
     "metadata": {},
     "output_type": "execute_result"
    }
   ],
   "source": [
    "'''\n",
    "addx V takes two cycles to complete. After two cycles, the X register is increased by the value V. (V can be negative.)\n",
    "\n",
    "noop takes one cycle to complete. It has no other effect.\n",
    "\n",
    "'''"
   ]
  },
  {
   "cell_type": "code",
   "execution_count": null,
   "metadata": {},
   "outputs": [],
   "source": []
  },
  {
   "cell_type": "code",
   "execution_count": 107,
   "metadata": {},
   "outputs": [],
   "source": [
    "reg = 1\n",
    "cyc = 0"
   ]
  },
  {
   "cell_type": "code",
   "execution_count": 108,
   "metadata": {},
   "outputs": [],
   "source": [
    "def run_cmd(cmd, cyc, reg):\n",
    "    if cmd == 'noop':\n",
    "        cyc += 1\n",
    "        cycs = [cyc]\n",
    "        regs = [reg]\n",
    "    elif 'addx' in cmd:\n",
    "        val = int(cmd.split()[1])\n",
    "        cycs = [cyc + 1, cyc + 2]\n",
    "        regs = [reg, reg + val]\n",
    "        \n",
    "    return cycs, regs\n",
    "    "
   ]
  },
  {
   "cell_type": "code",
   "execution_count": 109,
   "metadata": {},
   "outputs": [],
   "source": [
    "reg_all = [1]\n",
    "cyc_all = [0]\n",
    "\n",
    "while len(cyc_all) < 241:\n",
    "    for cmd in cmds:\n",
    "        cyc = cyc_all[-1]\n",
    "        reg = reg_all[-1]\n",
    "        cycs, regs = run_cmd(cmd, cyc, reg)\n",
    "        cyc_all.extend(cycs)\n",
    "        reg_all.extend(regs)"
   ]
  },
  {
   "cell_type": "code",
   "execution_count": 110,
   "metadata": {},
   "outputs": [],
   "source": [
    "ans = 0\n",
    "for cyc in [20, 60, 100, 140, 180, 220]:\n",
    "    ind = cyc - 1\n",
    "    ans += cyc * reg_all[ind]"
   ]
  },
  {
   "cell_type": "code",
   "execution_count": 111,
   "metadata": {},
   "outputs": [
    {
     "data": {
      "text/plain": [
       "12560"
      ]
     },
     "execution_count": 111,
     "metadata": {},
     "output_type": "execute_result"
    }
   ],
   "source": [
    "ans"
   ]
  },
  {
   "cell_type": "code",
   "execution_count": 112,
   "metadata": {},
   "outputs": [
    {
     "data": {
      "text/plain": [
       "'\\nX is middle of sprite\\n\\n'"
      ]
     },
     "execution_count": 112,
     "metadata": {},
     "output_type": "execute_result"
    }
   ],
   "source": [
    "'''\n",
    "X is middle of sprite\n",
    "\n",
    "'''"
   ]
  },
  {
   "cell_type": "code",
   "execution_count": 113,
   "metadata": {},
   "outputs": [],
   "source": [
    "ans = ''\n",
    "for cyc, reg in zip(cyc_all, reg_all):\n",
    "    c = cyc\n",
    "    reg_locs = []\n",
    "    for mult in range(7):\n",
    "        reg_locs.extend([mult*40 + reg - 1, mult*40 + reg, mult*40 + reg + 1])\n",
    "        \n",
    "      \n",
    "    if c in reg_locs:\n",
    "        ans += '#'\n",
    "    else:\n",
    "        ans += '.'\n",
    "#     print(c, reg)  \n",
    "#     print(ans)\n",
    "    "
   ]
  },
  {
   "cell_type": "code",
   "execution_count": 114,
   "metadata": {},
   "outputs": [],
   "source": [
    "ans_print = ans[:40] + '\\n' + ans[40:80] + '\\n' + ans[80:120] + '\\n' + ans[120:160] + '\\n' + ans[160:200] + '\\n' + ans[200:240]"
   ]
  },
  {
   "cell_type": "code",
   "execution_count": 115,
   "metadata": {},
   "outputs": [
    {
     "name": "stdout",
     "output_type": "stream",
     "text": [
      "###..#....###...##..####.###...##..#...#\n",
      "#..#.#....#..#.#..#.#....#..#.#..#.#....\n",
      "#..#.#....#..#.#..#.###..###..#....#....\n",
      "###..#....###..####.#....#..#.#....#....\n",
      "#....#....#....#..#.#....#..#.#..#.#....\n",
      "#....####.#....#..#.#....###...##..####.\n"
     ]
    }
   ],
   "source": [
    "print(ans_print)"
   ]
  },
  {
   "cell_type": "code",
   "execution_count": null,
   "metadata": {},
   "outputs": [],
   "source": []
  },
  {
   "cell_type": "code",
   "execution_count": null,
   "metadata": {},
   "outputs": [],
   "source": []
  }
 ],
 "metadata": {
  "kernelspec": {
   "display_name": "Python 3",
   "language": "python",
   "name": "python3"
  },
  "language_info": {
   "codemirror_mode": {
    "name": "ipython",
    "version": 3
   },
   "file_extension": ".py",
   "mimetype": "text/x-python",
   "name": "python",
   "nbconvert_exporter": "python",
   "pygments_lexer": "ipython3",
   "version": "3.9.5"
  }
 },
 "nbformat": 4,
 "nbformat_minor": 4
}
