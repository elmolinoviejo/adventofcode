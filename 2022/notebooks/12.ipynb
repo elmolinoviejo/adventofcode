{
 "cells": [
  {
   "cell_type": "code",
   "execution_count": 88,
   "metadata": {},
   "outputs": [],
   "source": [
    "import numpy as np\n",
    "import re\n",
    "from itertools import product, permutations, combinations, cycle\n",
    "from collections import Counter, deque, defaultdict, OrderedDict\n",
    "import networkx as nx\n",
    "import string\n",
    "import matplotlib.pyplot as plt\n",
    "\n",
    "%matplotlib inline"
   ]
  },
  {
   "cell_type": "code",
   "execution_count": 133,
   "metadata": {},
   "outputs": [],
   "source": [
    "# input\n",
    "problemnumber = '12'\n",
    "fn = f'../{problemnumber}/{problemnumber}.txt'\n",
    "# fn = f'../{problemnumber}/{problemnumber}t.txt'\n",
    "\n",
    "\n",
    "locs = {}\n",
    "with open(fn) as fh:\n",
    "    for y, row in enumerate(fh.readlines()):\n",
    "        for x, h in enumerate(row.rstrip()):\n",
    "            locs[tuple([x, y])] = h\n",
    "            if h=='S':\n",
    "                start = tuple([x, y])\n",
    "            elif h=='E':\n",
    "                finish = tuple([x, y])\n",
    "#     x = fh.read()"
   ]
  },
  {
   "cell_type": "code",
   "execution_count": 134,
   "metadata": {},
   "outputs": [],
   "source": [
    "map_height = dict(zip(string.ascii_lowercase, range(1, 27)))\n",
    "map_height['S'] = 1\n",
    "map_height['E'] = 26\n",
    "G = nx.DiGraph()\n",
    "\n",
    "def get_adjacent(loc):\n",
    "    x, y = loc\n",
    "    return [tuple([x - 1, y]), tuple([x + 1, y]), tuple([x, y - 1]), tuple([x, y + 1])]\n",
    "\n",
    "# G.add_edge('x', 'y')\n",
    "# G['y']['x']"
   ]
  },
  {
   "cell_type": "code",
   "execution_count": 135,
   "metadata": {},
   "outputs": [],
   "source": [
    "for loc, hlet in locs.items():\n",
    "    adj_locs = get_adjacent(loc)\n",
    "    for al in adj_locs:\n",
    "        if al not in locs:\n",
    "            continue\n",
    "            \n",
    "        if map_height[locs[al]] - map_height[hlet] > 1:\n",
    "#             print(f'large\\t{loc, al}')\n",
    "            continue\n",
    "        else:\n",
    "#             weight = 0\n",
    "            G.add_edge(loc, al)\n",
    "            \n",
    "        "
   ]
  },
  {
   "cell_type": "code",
   "execution_count": 128,
   "metadata": {},
   "outputs": [
    {
     "data": {
      "text/plain": [
       "(0, 0)"
      ]
     },
     "execution_count": 128,
     "metadata": {},
     "output_type": "execute_result"
    }
   ],
   "source": [
    "# start"
   ]
  },
  {
   "cell_type": "code",
   "execution_count": 136,
   "metadata": {},
   "outputs": [
    {
     "name": "stdout",
     "output_type": "stream",
     "text": [
      "(1, 20)\n",
      "(0, 19)\n",
      "(0, 21)\n"
     ]
    },
    {
     "data": {
      "text/plain": [
       "{}"
      ]
     },
     "execution_count": 136,
     "metadata": {},
     "output_type": "execute_result"
    }
   ],
   "source": [
    "# for e in G[start]:\n",
    "#     print(e)\n",
    "    \n",
    "# G.edges[(3, 0), (4,0)]"
   ]
  },
  {
   "cell_type": "code",
   "execution_count": 130,
   "metadata": {},
   "outputs": [
    {
     "name": "stdout",
     "output_type": "stream",
     "text": [
      "31\n"
     ]
    }
   ],
   "source": [
    "shortest_path = nx.dijkstra_path(G, start, finish, weight='weight')\n",
    "print(len(shortest_path)-1)"
   ]
  },
  {
   "cell_type": "code",
   "execution_count": 140,
   "metadata": {},
   "outputs": [
    {
     "name": "stdout",
     "output_type": "stream",
     "text": [
      "361\n"
     ]
    }
   ],
   "source": [
    "print(len(nx.shortest_path(G, start, finish)) - 1)"
   ]
  },
  {
   "cell_type": "code",
   "execution_count": 143,
   "metadata": {},
   "outputs": [
    {
     "name": "stdout",
     "output_type": "stream",
     "text": [
      "354\n",
      "(0, 27)\n"
     ]
    }
   ],
   "source": [
    "min_dist = 362\n",
    "for loc, hlet in locs.items():\n",
    "    if hlet in ['S', 'a']:\n",
    "        start = loc\n",
    "        if nx.has_path(G, start, finish):\n",
    "            shortest_path = nx.shortest_path(G, start, finish)\n",
    "            if len(shortest_path) < min_dist:\n",
    "                min_start = loc\n",
    "                min_dist = len(shortest_path)\n",
    "print(min_dist - 1)\n",
    "print(min_start)"
   ]
  },
  {
   "cell_type": "code",
   "execution_count": 86,
   "metadata": {},
   "outputs": [
    {
     "name": "stdout",
     "output_type": "stream",
     "text": [
      "177\n"
     ]
    }
   ],
   "source": [
    "print(min_dist)"
   ]
  },
  {
   "cell_type": "code",
   "execution_count": null,
   "metadata": {},
   "outputs": [],
   "source": [
    "# 176 wrong too low\n",
    "# 177 too low\n",
    "# 178 too low"
   ]
  }
 ],
 "metadata": {
  "kernelspec": {
   "display_name": "Python 3",
   "language": "python",
   "name": "python3"
  },
  "language_info": {
   "codemirror_mode": {
    "name": "ipython",
    "version": 3
   },
   "file_extension": ".py",
   "mimetype": "text/x-python",
   "name": "python",
   "nbconvert_exporter": "python",
   "pygments_lexer": "ipython3",
   "version": "3.8.5"
  }
 },
 "nbformat": 4,
 "nbformat_minor": 4
}
