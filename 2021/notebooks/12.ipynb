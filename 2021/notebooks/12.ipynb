{
 "cells": [
  {
   "cell_type": "code",
   "execution_count": 1,
   "metadata": {},
   "outputs": [],
   "source": [
    "from collections import Counter, deque\n",
    "from itertools import product\n",
    "import numpy as np\n",
    "import matplotlib.pyplot as plt\n",
    "import networkx as nx"
   ]
  },
  {
   "cell_type": "code",
   "execution_count": 29,
   "metadata": {},
   "outputs": [],
   "source": [
    "def load_input(fn):\n",
    "    pairs = []\n",
    "    with open(fn) as fh:\n",
    "        for line in fh.readlines():\n",
    "            pairs.append(tuple(line.rstrip().split('-')))\n",
    "            \n",
    "    G = nx.Graph()\n",
    "    for p1, p2 in pairs:\n",
    "        G.add_edge(p1, p2)\n",
    "     \n",
    "    small_ns = []\n",
    "    for n in G:\n",
    "        if n in ['start', 'end']:\n",
    "            continue\n",
    "        elif n.lower() == n:\n",
    "            small_ns.append(n)\n",
    "    return G, small_ns\n",
    "\n",
    "def hash_path(p):\n",
    "    return '-'.join(p)\n",
    "\n",
    "def check_p(p, small_ns):\n",
    "    c = Counter(p)\n",
    "    for n in c:\n",
    "        if n in small_ns:\n",
    "            if c[n] > 1:\n",
    "                return False\n",
    "    return True\n",
    "\n",
    "def check_p2(p, small_ns):\n",
    "    c = Counter(p)\n",
    "    double = False\n",
    "    for n in c:\n",
    "        if n in small_ns:\n",
    "            if c[n] > 2:\n",
    "                return False\n",
    "            elif c[n] == 2 and double:\n",
    "                return False\n",
    "            elif c[n] == 2:\n",
    "                double = True\n",
    "    return True\n",
    "\n",
    "def check_h(h, small_ns):\n",
    "    c = Counter(p)\n",
    "    for n in h.split('-'):\n",
    "        if n in small_ns:\n",
    "            if c[n] > 1:\n",
    "                return False\n",
    "    return True"
   ]
  },
  {
   "cell_type": "code",
   "execution_count": 37,
   "metadata": {},
   "outputs": [
    {
     "data": {
      "text/plain": [
       "['nu', 'rt', 'db', 'qh', 'sl', 'ne', 'uf']"
      ]
     },
     "execution_count": 37,
     "metadata": {},
     "output_type": "execute_result"
    }
   ],
   "source": [
    "day = '12'\n",
    "fn = f'../{day}/{day}.txt'\n",
    "# fn = f'../{day}/{day}_test.txt'\n",
    "# fn = f'../{day}/{day}_test2.txt'\n",
    "\n",
    "G, small_ns = load_input(fn)\n",
    "small_ns"
   ]
  },
  {
   "cell_type": "code",
   "execution_count": 40,
   "metadata": {},
   "outputs": [
    {
     "name": "stdout",
     "output_type": "stream",
     "text": [
      "4338\n"
     ]
    }
   ],
   "source": [
    "check = deque([['end']])\n",
    "paths = []\n",
    "# print(check)\n",
    "while len(check) > 0:\n",
    "# for _ in range(1000):\n",
    "    p = check.popleft()\n",
    "#     print(p)\n",
    "    if p[-1] == 'start':\n",
    "        paths.append(p)\n",
    "    else:\n",
    "        for adj in G.adj[p[-1]]:\n",
    "            if adj == 'end':\n",
    "                continue\n",
    "            if (adj in small_ns) and (adj in p):\n",
    "                continue\n",
    "            else:\n",
    "                p2 = [n for n in p]\n",
    "                p2.append(adj)\n",
    "#                 if p2 not in check:\n",
    "#                     check.append(p2)\n",
    "                check.append(p2)\n",
    "print(len(paths))"
   ]
  },
  {
   "cell_type": "code",
   "execution_count": 41,
   "metadata": {},
   "outputs": [
    {
     "name": "stdout",
     "output_type": "stream",
     "text": [
      "114189\n"
     ]
    }
   ],
   "source": [
    "check = deque([['end']])\n",
    "paths = []\n",
    "# print(check)\n",
    "while len(check) > 0:\n",
    "# for _ in range(1000):\n",
    "    p = check.popleft()\n",
    "#     print(p)\n",
    "    if p[-1] == 'start':\n",
    "        paths.append(p)\n",
    "    else:\n",
    "        for adj in G.adj[p[-1]]:\n",
    "            if adj == 'end':\n",
    "                continue\n",
    "            p2 = [n for n in p]\n",
    "            p2.append(adj)\n",
    "            if check_p2(p2, small_ns):\n",
    "#                 if p2 not in check:\n",
    "                check.append(p2)\n",
    "print(len(paths))"
   ]
  },
  {
   "cell_type": "code",
   "execution_count": null,
   "metadata": {},
   "outputs": [],
   "source": [
    "Y start,HN,dc,HN,end\n",
    "start,HN,dc,HN,kj,HN,end\n",
    "Y start,HN,dc,end\n",
    "Y start,HN,dc,kj,HN,end\n",
    "Y start,HN,end\n",
    "start,HN,kj,HN,dc,HN,end\n",
    "Y start,HN,kj,HN,dc,end\n",
    "Y start,HN,kj,HN,end\n",
    "Y start,HN,kj,dc,HN,end\n",
    "Y start,HN,kj,dc,end\n",
    "Y start,dc,HN,end\n",
    "start,dc,HN,kj,HN,end\n",
    "Y start,dc,end\n",
    "Y start,dc,kj,HN,end\n",
    "Y start,kj,HN,dc,HN,end\n",
    "Y start,kj,HN,dc,end\n",
    "Y start,kj,HN,end\n",
    "Y start,kj,dc,HN,end\n",
    "Y start,kj,dc,end"
   ]
  }
 ],
 "metadata": {
  "kernelspec": {
   "display_name": "Python 3",
   "language": "python",
   "name": "python3"
  },
  "language_info": {
   "codemirror_mode": {
    "name": "ipython",
    "version": 3
   },
   "file_extension": ".py",
   "mimetype": "text/x-python",
   "name": "python",
   "nbconvert_exporter": "python",
   "pygments_lexer": "ipython3",
   "version": "3.8.5"
  }
 },
 "nbformat": 4,
 "nbformat_minor": 4
}
