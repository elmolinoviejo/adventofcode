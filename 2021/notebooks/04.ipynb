{
 "cells": [
  {
   "cell_type": "code",
   "execution_count": 164,
   "metadata": {},
   "outputs": [],
   "source": [
    "import numpy as np\n",
    "\n",
    "day = '04'\n",
    "fn = f'../{day}/{day}.txt'\n",
    "# fn = f'../{day}/{day}_test.txt'\n",
    "\n",
    "inputs = []\n",
    "with open(fn) as fh:\n",
    "    num_line = True\n",
    "    \n",
    "    boards = []\n",
    "    board_row = 0\n",
    "    board_ind = -1\n",
    "    for line in fh.readlines():\n",
    "        if line == '\\n':\n",
    "            board_ind +=1\n",
    "            board_row = 0\n",
    "            continue\n",
    "        if num_line:\n",
    "            nums = [str(x) for x in line.rstrip().split(',')]\n",
    "            num_line = False\n",
    "        else:\n",
    "            if board_row == 0:\n",
    "                boards.append([])\n",
    "            boards[board_ind].append([str(x) for x in line.rstrip().split()])\n",
    "            board_row += 1\n",
    "boards = np.array(boards)\n",
    "\n",
    "def find_winner(boards, nums):\n",
    "    for num in nums:\n",
    "        num = str(num)\n",
    "        boards = np.where(boards ==  num, 'X', boards)\n",
    "        for b_ind, b in enumerate(boards):\n",
    "            win = check_board_win(b)\n",
    "            if win == True:\n",
    "                return b, num\n",
    "            \n",
    "def find_loser(boards, nums):\n",
    "    win_count = 0\n",
    "    winning_boards = []\n",
    "    for num in nums:\n",
    "        num = str(num)\n",
    "        boards = np.where(boards ==  num, 'X', boards)\n",
    "        for b_ind, b in enumerate(boards):\n",
    "            if b_ind in winning_boards:\n",
    "                continue\n",
    "            win = check_board_win(b)\n",
    "            if win == True:\n",
    "                win_count += 1\n",
    "                winning_boards.append(b_ind)\n",
    "            if win_count == len(boards):\n",
    "                return b, num"
   ]
  },
  {
   "cell_type": "code",
   "execution_count": 165,
   "metadata": {},
   "outputs": [
    {
     "data": {
      "text/plain": [
       "2730"
      ]
     },
     "execution_count": 165,
     "metadata": {},
     "output_type": "execute_result"
    }
   ],
   "source": [
    "l_board, l_num = find_loser(boards, nums)\n",
    "l_board, l_num\n",
    "\n",
    "bsum = 0\n",
    "for x in l_board:\n",
    "    for y in x:\n",
    "#         print(y)\n",
    "        if y != 'X':\n",
    "            bsum += int(y)\n",
    "bsum * int(l_num)\n",
    "\n",
    "#38190 wrong"
   ]
  },
  {
   "cell_type": "code",
   "execution_count": 161,
   "metadata": {},
   "outputs": [
    {
     "data": {
      "text/plain": [
       "array([['22', '13', 'X', 'X', 'X'],\n",
       "       ['8', 'X', 'X', 'X', 'X'],\n",
       "       ['X', 'X', 'X', 'X', 'X'],\n",
       "       ['6', 'X', '3', '18', 'X'],\n",
       "       ['1', '12', '20', '15', '19']], dtype='<U2')"
      ]
     },
     "execution_count": 161,
     "metadata": {},
     "output_type": "execute_result"
    }
   ],
   "source": [
    "l_board"
   ]
  },
  {
   "cell_type": "code",
   "execution_count": 150,
   "metadata": {},
   "outputs": [
    {
     "data": {
      "text/plain": [
       "(array([['41', 'X', '44', '2', 'X'],\n",
       "        ['38', '14', '19', '72', '64'],\n",
       "        ['X', 'X', 'X', 'X', 'X'],\n",
       "        ['70', '7', '1', 'X', '86'],\n",
       "        ['X', 'X', '90', '96', '82']], dtype='<U2'),\n",
       " '35')"
      ]
     },
     "execution_count": 150,
     "metadata": {},
     "output_type": "execute_result"
    }
   ],
   "source": [
    "winning_board, winning_num = find_winner(boards, nums)\n",
    "\n",
    "bsum = 0\n",
    "for x in winning_board:\n",
    "    for y in x:\n",
    "#         print(y)\n",
    "        if y != 'X':\n",
    "            bsum += int(y)\n",
    "bsum * int(winning_num)\n",
    "\n",
    "#2555 wrong"
   ]
  },
  {
   "cell_type": "code",
   "execution_count": 151,
   "metadata": {},
   "outputs": [
    {
     "data": {
      "text/plain": [
       "25410"
      ]
     },
     "execution_count": 151,
     "metadata": {},
     "output_type": "execute_result"
    }
   ],
   "source": [
    "bsum = 0\n",
    "for x in winning_board:\n",
    "    for y in x:\n",
    "#         print(y)\n",
    "        if y != 'X':\n",
    "            bsum += int(y)\n",
    "bsum * int(winning_num)\n",
    "\n",
    "#2555 wrong"
   ]
  },
  {
   "cell_type": "code",
   "execution_count": 152,
   "metadata": {},
   "outputs": [
    {
     "data": {
      "text/plain": [
       "726"
      ]
     },
     "execution_count": 152,
     "metadata": {},
     "output_type": "execute_result"
    }
   ],
   "source": [
    "bsum"
   ]
  },
  {
   "cell_type": "code",
   "execution_count": 80,
   "metadata": {},
   "outputs": [],
   "source": [
    "board = boards[0]\n",
    "\n",
    "def check_board_win(board):\n",
    "    for n in range(5):\n",
    "        if np.array_equal(board[:, n], ['X', 'X', 'X', 'X', 'X']):\n",
    "            return True\n",
    "        if np.array_equal(board[n, :], ['X', 'X', 'X', 'X', 'X']):\n",
    "            return True\n",
    "    return False"
   ]
  },
  {
   "cell_type": "code",
   "execution_count": 102,
   "metadata": {},
   "outputs": [
    {
     "name": "stdout",
     "output_type": "stream",
     "text": [
      "yes\n",
      "yes\n",
      "yes\n",
      "yes\n",
      "yes\n",
      "yes\n",
      "yes\n",
      "yes\n",
      "yes\n",
      "yes\n",
      "yes\n",
      "yes\n",
      "yes\n",
      "yes\n",
      "yes\n",
      "yes\n",
      "yes\n",
      "yes\n",
      "yes\n",
      "yes\n",
      "yes\n",
      "yes\n",
      "yes\n",
      "yes\n",
      "yes\n",
      "yes\n",
      "yes\n",
      "yes\n",
      "yes\n",
      "yes\n",
      "yes\n",
      "yes\n",
      "yes\n",
      "yes\n",
      "yes\n",
      "yes\n",
      "yes\n",
      "yes\n",
      "yes\n",
      "yes\n",
      "yes\n",
      "yes\n",
      "yes\n",
      "yes\n",
      "yes\n",
      "yes\n",
      "yes\n",
      "yes\n",
      "yes\n",
      "yes\n",
      "yes\n",
      "yes\n",
      "yes\n",
      "yes\n",
      "yes\n",
      "yes\n",
      "yes\n",
      "yes\n",
      "yes\n",
      "yes\n",
      "yes\n",
      "yes\n",
      "yes\n",
      "yes\n",
      "yes\n",
      "yes\n",
      "yes\n",
      "yes\n",
      "yes\n",
      "yes\n",
      "yes\n",
      "yes\n",
      "yes\n",
      "yes\n",
      "yes\n",
      "yes\n",
      "yes\n",
      "yes\n",
      "yes\n",
      "yes\n",
      "yes\n",
      "yes\n",
      "yes\n",
      "yes\n",
      "yes\n",
      "yes\n",
      "yes\n",
      "yes\n",
      "yes\n",
      "yes\n",
      "yes\n",
      "yes\n",
      "yes\n",
      "yes\n",
      "yes\n",
      "yes\n",
      "yes\n",
      "yes\n",
      "yes\n",
      "yes\n"
     ]
    }
   ],
   "source": [
    "for b in boards:\n",
    "    if check_board_win(b):\n",
    "        print('yes')"
   ]
  },
  {
   "cell_type": "code",
   "execution_count": 93,
   "metadata": {},
   "outputs": [
    {
     "data": {
      "text/plain": [
       "array([[['X', 'X', 'X', 'X', 'X'],\n",
       "        ['X', 'X', 'X', 'X', 'X'],\n",
       "        ['X', 'X', 'X', 'X', 'X'],\n",
       "        ['X', 'X', 'X', 'X', 'X'],\n",
       "        ['X', 'X', 'X', 'X', 'X']],\n",
       "\n",
       "       [['X', 'X', 'X', 'X', 'X'],\n",
       "        ['X', 'X', 'X', 'X', 'X'],\n",
       "        ['X', 'X', 'X', 'X', 'X'],\n",
       "        ['X', 'X', 'X', 'X', 'X'],\n",
       "        ['X', 'X', 'X', 'X', 'X']],\n",
       "\n",
       "       [['X', 'X', 'X', 'X', 'X'],\n",
       "        ['X', 'X', 'X', 'X', 'X'],\n",
       "        ['X', 'X', 'X', 'X', 'X'],\n",
       "        ['X', 'X', 'X', 'X', 'X'],\n",
       "        ['X', 'X', 'X', 'X', 'X']],\n",
       "\n",
       "       ...,\n",
       "\n",
       "       [['X', 'X', 'X', 'X', 'X'],\n",
       "        ['X', 'X', 'X', 'X', 'X'],\n",
       "        ['X', 'X', 'X', 'X', 'X'],\n",
       "        ['X', 'X', 'X', 'X', 'X'],\n",
       "        ['X', 'X', 'X', 'X', 'X']],\n",
       "\n",
       "       [['X', 'X', 'X', 'X', 'X'],\n",
       "        ['X', 'X', 'X', 'X', 'X'],\n",
       "        ['X', 'X', 'X', 'X', 'X'],\n",
       "        ['X', 'X', 'X', 'X', 'X'],\n",
       "        ['X', 'X', 'X', 'X', 'X']],\n",
       "\n",
       "       [['X', 'X', 'X', 'X', 'X'],\n",
       "        ['X', 'X', 'X', 'X', 'X'],\n",
       "        ['X', 'X', 'X', 'X', 'X'],\n",
       "        ['X', 'X', 'X', 'X', 'X'],\n",
       "        ['X', 'X', 'X', 'X', 'X']]], dtype='<U21')"
      ]
     },
     "execution_count": 93,
     "metadata": {},
     "output_type": "execute_result"
    }
   ],
   "source": [
    "boards"
   ]
  },
  {
   "cell_type": "code",
   "execution_count": null,
   "metadata": {},
   "outputs": [],
   "source": []
  }
 ],
 "metadata": {
  "kernelspec": {
   "display_name": "Python 3",
   "language": "python",
   "name": "python3"
  },
  "language_info": {
   "codemirror_mode": {
    "name": "ipython",
    "version": 3
   },
   "file_extension": ".py",
   "mimetype": "text/x-python",
   "name": "python",
   "nbconvert_exporter": "python",
   "pygments_lexer": "ipython3",
   "version": "3.8.5"
  }
 },
 "nbformat": 4,
 "nbformat_minor": 4
}
