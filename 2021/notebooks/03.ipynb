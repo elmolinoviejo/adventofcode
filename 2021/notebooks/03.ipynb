{
 "cells": [
  {
   "cell_type": "code",
   "execution_count": 5,
   "metadata": {},
   "outputs": [
    {
     "name": "stdout",
     "output_type": "stream",
     "text": [
      "110001101000\n",
      "111011011100\n",
      "100001101100\n",
      "111011011010\n",
      "001001101100\n",
      "100001111100\n",
      "110110101101\n",
      "110010110000\n",
      "111101010011\n",
      "101101010110\n"
     ]
    }
   ],
   "source": [
    "fn = '../03/03.txt'\n",
    "\n",
    "inputs = []\n",
    "with open(fn) as fh:\n",
    "    for line in fh.readlines():\n",
    "        inputs.append(line.rstrip())\n",
    "\n",
    "\n",
    "for ind in range(10):\n",
    "    print(inputs[ind])"
   ]
  },
  {
   "cell_type": "code",
   "execution_count": 33,
   "metadata": {},
   "outputs": [],
   "source": [
    "from collections import Counter\n",
    "# gamma times epsilon\n",
    "cols = [[] for x in inputs[0]]\n",
    "for row in inputs:\n",
    "    for ind,c in enumerate(row):\n",
    "        cols[ind].append(c)\n",
    "\n",
    "count = []\n",
    "for c in cols:\n",
    "    count.append(Counter(c))\n",
    "    \n",
    "g = ''\n",
    "e = ''\n",
    "for c in count:\n",
    "    common = c.most_common()\n",
    "    g += common[0][0]\n",
    "    e += common [1][0]\n",
    "    "
   ]
  },
  {
   "cell_type": "code",
   "execution_count": 44,
   "metadata": {},
   "outputs": [
    {
     "data": {
      "text/plain": [
       "3959450"
      ]
     },
     "execution_count": 44,
     "metadata": {},
     "output_type": "execute_result"
    }
   ],
   "source": [
    "g\n",
    "e\n",
    "int(g, 2) * int(e, 2)"
   ]
  },
  {
   "cell_type": "code",
   "execution_count": 43,
   "metadata": {},
   "outputs": [
    {
     "data": {
      "text/plain": [
       "2530"
      ]
     },
     "execution_count": 43,
     "metadata": {},
     "output_type": "execute_result"
    }
   ],
   "source": [
    "int(e, 2)"
   ]
  },
  {
   "cell_type": "code",
   "execution_count": 50,
   "metadata": {},
   "outputs": [
    {
     "name": "stdout",
     "output_type": "stream",
     "text": [
      "110001101000\n",
      "111011011100\n",
      "100001101100\n",
      "111011011010\n",
      "001001101100\n",
      "100001111100\n",
      "110110101101\n",
      "110010110000\n",
      "111101010011\n",
      "101101010110\n"
     ]
    },
    {
     "data": {
      "text/plain": [
       "12"
      ]
     },
     "execution_count": 50,
     "metadata": {},
     "output_type": "execute_result"
    }
   ],
   "source": []
  },
  {
   "cell_type": "code",
   "execution_count": 69,
   "metadata": {},
   "outputs": [
    {
     "name": "stdout",
     "output_type": "stream",
     "text": [
      "518\n",
      "271\n",
      "150\n",
      "84\n",
      "46\n",
      "23\n",
      "13\n",
      "8\n",
      "5\n",
      "3\n",
      "2\n",
      "1\n",
      "011111110111\n"
     ]
    },
    {
     "data": {
      "text/plain": [
       "2039"
      ]
     },
     "execution_count": 69,
     "metadata": {},
     "output_type": "execute_result"
    }
   ],
   "source": [
    "#O2\n",
    "\n",
    "def get_counts(inputs):\n",
    "    cols = [[] for x in inputs[0]]\n",
    "    for row in inputs:\n",
    "        for ind,c in enumerate(row):\n",
    "            cols[ind].append(c)\n",
    "\n",
    "    count = []\n",
    "    for c in cols:\n",
    "        count.append(Counter(c))\n",
    "    \n",
    "    return(count)\n",
    "\n",
    "# B\n",
    "fn = '../03/03.txt'\n",
    "\n",
    "inputs = []\n",
    "with open(fn) as fh:\n",
    "    for line in fh.readlines():\n",
    "        inputs.append(line.rstrip())\n",
    "\n",
    "\n",
    "# for ind in range(10):\n",
    "#     print(inputs[ind])\n",
    "\n",
    "\n",
    "bit_ind = 0\n",
    "while bit_ind < 12:\n",
    "    counts = get_counts(inputs)\n",
    "    common = counts[bit_ind].most_common()\n",
    "#     print(common)\n",
    "    # if equal\n",
    "    if common[0][1] == common[1][1]:\n",
    "        mc = '1'\n",
    "        lc = '0'\n",
    "    else:\n",
    "        mc = common[0][0]\n",
    "        lc = common[1][0]\n",
    "    \n",
    "    inputs = [x for x in inputs if x[bit_ind]==mc]\n",
    "    print(len(inputs))\n",
    "    \n",
    "    bit_ind += 1\n",
    "\n",
    "print(inputs[0])    \n",
    "o2 = int(inputs[0], 2)   \n",
    "o2"
   ]
  },
  {
   "cell_type": "code",
   "execution_count": 71,
   "metadata": {},
   "outputs": [
    {
     "name": "stdout",
     "output_type": "stream",
     "text": [
      "482\n",
      "231\n",
      "108\n",
      "54\n",
      "26\n",
      "12\n",
      "6\n",
      "3\n",
      "1\n",
      "111001000001\n"
     ]
    },
    {
     "data": {
      "text/plain": [
       "3649"
      ]
     },
     "execution_count": 71,
     "metadata": {},
     "output_type": "execute_result"
    }
   ],
   "source": [
    "#O2\n",
    "\n",
    "def get_counts(inputs):\n",
    "    cols = [[] for x in inputs[0]]\n",
    "    for row in inputs:\n",
    "        for ind,c in enumerate(row):\n",
    "            cols[ind].append(c)\n",
    "\n",
    "    count = []\n",
    "    for c in cols:\n",
    "        count.append(Counter(c))\n",
    "    \n",
    "    return(count)\n",
    "\n",
    "# B\n",
    "fn = '../03/03.txt'\n",
    "\n",
    "inputs = []\n",
    "with open(fn) as fh:\n",
    "    for line in fh.readlines():\n",
    "        inputs.append(line.rstrip())\n",
    "\n",
    "\n",
    "# for ind in range(10):\n",
    "#     print(inputs[ind])\n",
    "\n",
    "\n",
    "bit_ind = 0\n",
    "while bit_ind < 12:\n",
    "    if len(inputs) == 1:\n",
    "        co2 = int(inputs[0], 2)\n",
    "        break\n",
    "    counts = get_counts(inputs)\n",
    "    common = counts[bit_ind].most_common()\n",
    "    if common[0][1] == common[1][1]:\n",
    "        mc = '1'\n",
    "        lc = '0'\n",
    "    else:\n",
    "        mc = common[0][0]\n",
    "        lc = common[1][0]\n",
    "    \n",
    "    inputs = [x for x in inputs if x[bit_ind]==lc]\n",
    "    print(len(inputs))\n",
    "    \n",
    "    bit_ind += 1\n",
    "\n",
    "print(inputs[0])    \n",
    "co2 = int(inputs[0], 2)   \n",
    "co2"
   ]
  },
  {
   "cell_type": "code",
   "execution_count": 74,
   "metadata": {},
   "outputs": [
    {
     "data": {
      "text/plain": [
       "7440311"
      ]
     },
     "execution_count": 74,
     "metadata": {},
     "output_type": "execute_result"
    }
   ],
   "source": [
    "o2 * co2"
   ]
  },
  {
   "cell_type": "code",
   "execution_count": 76,
   "metadata": {},
   "outputs": [
    {
     "data": {
      "text/plain": [
       "<zip at 0x7f9234271400>"
      ]
     },
     "execution_count": 76,
     "metadata": {},
     "output_type": "execute_result"
    }
   ],
   "source": [
    "zip(*inputs)"
   ]
  },
  {
   "cell_type": "code",
   "execution_count": null,
   "metadata": {},
   "outputs": [],
   "source": []
  },
  {
   "cell_type": "code",
   "execution_count": null,
   "metadata": {},
   "outputs": [],
   "source": []
  }
 ],
 "metadata": {
  "kernelspec": {
   "display_name": "Python 3",
   "language": "python",
   "name": "python3"
  },
  "language_info": {
   "codemirror_mode": {
    "name": "ipython",
    "version": 3
   },
   "file_extension": ".py",
   "mimetype": "text/x-python",
   "name": "python",
   "nbconvert_exporter": "python",
   "pygments_lexer": "ipython3",
   "version": "3.8.5"
  }
 },
 "nbformat": 4,
 "nbformat_minor": 4
}
