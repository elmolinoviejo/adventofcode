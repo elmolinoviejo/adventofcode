{
 "cells": [
  {
   "cell_type": "code",
   "execution_count": 1,
   "metadata": {},
   "outputs": [],
   "source": [
    "from collections import Counter, deque, defaultdict\n",
    "from itertools import product, count, combinations\n",
    "import numpy as np\n",
    "import matplotlib.pyplot as plt\n",
    "import networkx as nx"
   ]
  },
  {
   "cell_type": "code",
   "execution_count": 22,
   "metadata": {},
   "outputs": [],
   "source": [
    "'''\n",
    "7 resting spots\n",
    "8 final spots\n",
    "'''\n",
    "\n",
    "class Bug():\n",
    "    def __init__(self, name):\n",
    "        self.name = name\n",
    "        self.moved = False\n",
    "    def set_loc(loc):\n",
    "        self.loc = loc\n",
    "    def __repr__(self):\n",
    "        return self.name\n",
    "    \n",
    "\n",
    "# def get_next_mover(wells):\n",
    "#     for w in wells:\n",
    "        "
   ]
  },
  {
   "cell_type": "code",
   "execution_count": 23,
   "metadata": {},
   "outputs": [],
   "source": [
    "start_wells = {0:'BDDA', 1:'CBCD', 2:'AABB', 3:'CCAD'}\n",
    "wells = [[] for _ in range(4)]\n",
    "for w in range(4):\n",
    "    wells[w] = []\n",
    "    for b in start_wells[w]:\n",
    "               wells[w].append(Bug(b))\n",
    "spots = [0 for _ in range(7)]"
   ]
  },
  {
   "cell_type": "code",
   "execution_count": 24,
   "metadata": {},
   "outputs": [
    {
     "data": {
      "text/plain": [
       "[[B, D, D, A], [C, B, C, D], [A, A, B, B], [C, C, A, D]]"
      ]
     },
     "execution_count": 24,
     "metadata": {},
     "output_type": "execute_result"
    }
   ],
   "source": [
    "wells"
   ]
  },
  {
   "cell_type": "code",
   "execution_count": null,
   "metadata": {},
   "outputs": [],
   "source": []
  },
  {
   "cell_type": "code",
   "execution_count": null,
   "metadata": {},
   "outputs": [],
   "source": []
  }
 ],
 "metadata": {
  "kernelspec": {
   "display_name": "Python 3",
   "language": "python",
   "name": "python3"
  },
  "language_info": {
   "codemirror_mode": {
    "name": "ipython",
    "version": 3
   },
   "file_extension": ".py",
   "mimetype": "text/x-python",
   "name": "python",
   "nbconvert_exporter": "python",
   "pygments_lexer": "ipython3",
   "version": "3.8.5"
  }
 },
 "nbformat": 4,
 "nbformat_minor": 4
}
