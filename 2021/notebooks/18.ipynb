{
 "cells": [
  {
   "cell_type": "code",
   "execution_count": 118,
   "metadata": {},
   "outputs": [],
   "source": [
    "from collections import Counter, deque, defaultdict\n",
    "from itertools import product, count\n",
    "import numpy as np\n",
    "import matplotlib.pyplot as plt\n",
    "import networkx as nx"
   ]
  },
  {
   "cell_type": "code",
   "execution_count": 217,
   "metadata": {},
   "outputs": [],
   "source": [
    "def load_input(fn):\n",
    "    with open(fn) as fh:\n",
    "        snns = [p for p in fh.read().split('\\n')]\n",
    "        \n",
    "    return snns\n",
    "\n",
    "\n",
    "def get_pairs(p):\n",
    "    b_count = 0\n",
    "    for ind, s in enumerate(p[1:]):\n",
    "        if s == '[':\n",
    "            b_count += 1\n",
    "        elif s == ']':\n",
    "            b_count -= 1\n",
    "        if b_count == 0:\n",
    "            split_ind = ind + 2\n",
    "            p1, p2 = p[1:split_ind], p[split_ind+1:-1]\n",
    "            return p1, p2\n",
    "\n",
    "        \n",
    "def add_sn(sn1, sn2):\n",
    "    sn = f'[{sn1},{sn2}]'\n",
    "    return sn\n",
    "\n",
    "\n",
    "def sn_graph(sn_top):\n",
    "    G = nx.DiGraph()\n",
    "    \n",
    "    names = count(0)\n",
    "    \n",
    "    level = 0\n",
    "    name = next(names)\n",
    "    parent = None\n",
    "    G.add_node(name, s=sn_top, l=level, p=parent, side=None, ind = 0, exp=False)\n",
    "    \n",
    "    to_add = deque([name]) #string, level, name, parent\n",
    "    while to_add:\n",
    "        pname = to_add.popleft()\n",
    "        plevel = G.nodes[pname]['l']\n",
    "        pstring = G.nodes[pname]['s']\n",
    "        pind = G.nodes[pname]['ind']\n",
    "        d_ind = 1\n",
    "        \n",
    "        partners = []\n",
    "        for p, side in zip(get_pairs(pstring), ['left', 'right']):            \n",
    "            name = next(names)\n",
    "            partners.append(name)\n",
    "            exp = False\n",
    "            if plevel + 1 > 4:\n",
    "                exp = True\n",
    "            G.add_node(name, s=p, l=plevel + 1, p=pname, side=side, ind=pind+d_ind, exp=exp)\n",
    "            G.add_edge(pname, name)\n",
    "            d_ind = len(p) + 2\n",
    "            if '[' in p:\n",
    "                to_add.append(name)\n",
    "        for p1, p2 in zip((0, 1), (1, 0)):\n",
    "            G.nodes[partners[p1]]['pairw'] = partners[p2]\n",
    "    G_inds = {G.nodes[n]['ind']:n for n in G}\n",
    "    \n",
    "    return G, G_inds\n",
    "\n",
    "\n",
    "def explode(G, G_inds):\n",
    "    # get pair to explode\n",
    "    ind_sort = sorted(list(G_inds.keys()))\n",
    "    for ind_i, ind in enumerate(ind_sort):\n",
    "        if G.nodes[G_inds[ind]]['exp']:\n",
    "            eind_i, eind = ind_i, ind\n",
    "            break\n",
    "    print(G_inds[eind])\n",
    "    if eind_i -1 >= 0:\n",
    "        l = G_inds[ind_sort[eind_i - 1]]\n",
    "        print(l)\n",
    "\n",
    "# def graph_to_str(G, G_inds):\n",
    "#     sn = ''\n",
    "#     for ind in sorted(list(G_inds.keys())):\n",
    "#         print(ind)\n",
    "#     return sn"
   ]
  },
  {
   "cell_type": "code",
   "execution_count": 180,
   "metadata": {},
   "outputs": [],
   "source": [
    "day = '18'\n",
    "fn = f'../{day}/{day}.txt'\n",
    "\n",
    "snns = load_input(fn)"
   ]
  },
  {
   "cell_type": "code",
   "execution_count": 181,
   "metadata": {},
   "outputs": [
    {
     "name": "stdout",
     "output_type": "stream",
     "text": [
      "[[[[6,3],7],0],[[7,0],0]]\n"
     ]
    },
    {
     "data": {
      "text/plain": [
       "('[[[6,3],7],0]', '[[7,0],0]')"
      ]
     },
     "execution_count": 181,
     "metadata": {},
     "output_type": "execute_result"
    }
   ],
   "source": [
    "print(snns[0])\n",
    "get_pairs(snns[0])"
   ]
  },
  {
   "cell_type": "code",
   "execution_count": null,
   "metadata": {},
   "outputs": [],
   "source": []
  },
  {
   "cell_type": "code",
   "execution_count": 207,
   "metadata": {},
   "outputs": [
    {
     "name": "stdout",
     "output_type": "stream",
     "text": [
      "(0, {'s': '[[3,[2,[1,[7,3]]]],[6,[5,[4,[3,2]]]]]', 'l': 0, 'p': None, 'side': None, 'ind': 0, 'exp': False})\n",
      "(1, {'s': '[3,[2,[1,[7,3]]]]', 'l': 1, 'p': 0, 'side': 'left', 'ind': 1, 'exp': False, 'pairw': 2})\n",
      "(2, {'s': '[6,[5,[4,[3,2]]]]', 'l': 1, 'p': 0, 'side': 'right', 'ind': 19, 'exp': False, 'pairw': 1})\n",
      "(3, {'s': '3', 'l': 2, 'p': 1, 'side': 'left', 'ind': 2, 'exp': False, 'pairw': 4})\n",
      "(4, {'s': '[2,[1,[7,3]]]', 'l': 2, 'p': 1, 'side': 'right', 'ind': 4, 'exp': False, 'pairw': 3})\n",
      "(5, {'s': '6', 'l': 2, 'p': 2, 'side': 'left', 'ind': 20, 'exp': False, 'pairw': 6})\n",
      "(6, {'s': '[5,[4,[3,2]]]', 'l': 2, 'p': 2, 'side': 'right', 'ind': 22, 'exp': False, 'pairw': 5})\n",
      "(7, {'s': '2', 'l': 3, 'p': 4, 'side': 'left', 'ind': 5, 'exp': False, 'pairw': 8})\n",
      "(8, {'s': '[1,[7,3]]', 'l': 3, 'p': 4, 'side': 'right', 'ind': 7, 'exp': False, 'pairw': 7})\n",
      "(9, {'s': '5', 'l': 3, 'p': 6, 'side': 'left', 'ind': 23, 'exp': False, 'pairw': 10})\n",
      "(10, {'s': '[4,[3,2]]', 'l': 3, 'p': 6, 'side': 'right', 'ind': 25, 'exp': False, 'pairw': 9})\n",
      "(11, {'s': '1', 'l': 4, 'p': 8, 'side': 'left', 'ind': 8, 'exp': False, 'pairw': 12})\n",
      "(12, {'s': '[7,3]', 'l': 4, 'p': 8, 'side': 'right', 'ind': 10, 'exp': False, 'pairw': 11})\n",
      "(13, {'s': '4', 'l': 4, 'p': 10, 'side': 'left', 'ind': 26, 'exp': False, 'pairw': 14})\n",
      "(14, {'s': '[3,2]', 'l': 4, 'p': 10, 'side': 'right', 'ind': 28, 'exp': False, 'pairw': 13})\n",
      "(15, {'s': '7', 'l': 5, 'p': 12, 'side': 'left', 'ind': 11, 'exp': True, 'pairw': 16})\n",
      "(16, {'s': '3', 'l': 5, 'p': 12, 'side': 'right', 'ind': 13, 'exp': True, 'pairw': 15})\n",
      "(17, {'s': '3', 'l': 5, 'p': 14, 'side': 'left', 'ind': 29, 'exp': True, 'pairw': 18})\n",
      "(18, {'s': '2', 'l': 5, 'p': 14, 'side': 'right', 'ind': 31, 'exp': True, 'pairw': 17})\n"
     ]
    }
   ],
   "source": [
    "# explode test\n",
    "# sn = '[[[[[9,8],1],2],3],4]'\n",
    "# sn = '[9,[8,7]]'\n",
    "# sn = '[[[[1,3],[5,3]],[[1,3],[8,7]]],[[[4,9],[6,9]],[[8,2],[7,3]]]]'\n",
    "sn = '[[3,[2,[1,[7,3]]]],[6,[5,[4,[3,2]]]]]'\n",
    "\n",
    "G, G_inds = sn_graph(sn)\n",
    "for n in G.nodes(data=True):\n",
    "    print(n)\n",
    "    \n",
    "# for e in G.edges:\n",
    "#     print(e)"
   ]
  },
  {
   "cell_type": "code",
   "execution_count": 218,
   "metadata": {},
   "outputs": [
    {
     "name": "stdout",
     "output_type": "stream",
     "text": [
      "15\n",
      "12\n"
     ]
    }
   ],
   "source": [
    "explode(G, G_inds)"
   ]
  },
  {
   "cell_type": "code",
   "execution_count": null,
   "metadata": {},
   "outputs": [],
   "source": []
  },
  {
   "cell_type": "code",
   "execution_count": null,
   "metadata": {},
   "outputs": [],
   "source": []
  }
 ],
 "metadata": {
  "kernelspec": {
   "display_name": "Python 3",
   "language": "python",
   "name": "python3"
  },
  "language_info": {
   "codemirror_mode": {
    "name": "ipython",
    "version": 3
   },
   "file_extension": ".py",
   "mimetype": "text/x-python",
   "name": "python",
   "nbconvert_exporter": "python",
   "pygments_lexer": "ipython3",
   "version": "3.8.5"
  }
 },
 "nbformat": 4,
 "nbformat_minor": 4
}
