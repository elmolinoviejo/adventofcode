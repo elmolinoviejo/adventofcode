{
 "cells": [
  {
   "cell_type": "code",
   "execution_count": 37,
   "metadata": {},
   "outputs": [],
   "source": [
    "from collections import Counter, deque\n",
    "from itertools import product\n",
    "import numpy as np\n",
    "import matplotlib.pyplot as plt\n",
    "import networkx as nx"
   ]
  },
  {
   "cell_type": "code",
   "execution_count": 38,
   "metadata": {},
   "outputs": [],
   "source": [
    "def load_input(fn):\n",
    "    rls = {}\n",
    "    with open(fn) as fh:\n",
    "        for y, line in enumerate(fh.read().split('\\n')):\n",
    "            for x, rl in enumerate(line):\n",
    "                rls[(x, y)] = int(rl)\n",
    "                    \n",
    "    return rls\n",
    "\n",
    "\n",
    "def get_adj(loc):\n",
    "    x, y = loc\n",
    "    adjs = []\n",
    "    for dx, dy in [(-1, 0), (1, 0), (0, -1), (0, 1)]:\n",
    "        adjs.append((x+dx, y+dy))\n",
    "    return adjs"
   ]
  },
  {
   "cell_type": "code",
   "execution_count": 116,
   "metadata": {},
   "outputs": [
    {
     "name": "stdout",
     "output_type": "stream",
     "text": [
      "386\n"
     ]
    }
   ],
   "source": [
    "day = '15'\n",
    "fn = f'../{day}/{day}.txt'\n",
    "fn = f'../{day}/{day}_test.txt'\n",
    "fn = f'../{day}/NH_15.txt'\n",
    "# fn = f'../{day}/{day}_test2.txt'\n",
    "\n",
    "rls = load_input(fn)\n",
    "\n",
    "G = nx.DiGraph()\n",
    "for loc in rls:\n",
    "    for adj in get_adj(loc):\n",
    "        if adj not in rls:\n",
    "            continue\n",
    "        G.add_edge(loc, adj, weight=rls[adj])\n",
    "        \n",
    "xvals, yvals = [], []\n",
    "for loc in rls:\n",
    "    xvals.append(loc[0])\n",
    "    yvals.append(loc[1])\n",
    "maxx = max(xvals)\n",
    "maxy = max(yvals)\n",
    "end_loc = (max(xvals), max(yvals))\n",
    "\n",
    "\n",
    "shortest_path = nx.dijkstra_path(G, (0, 0), end_loc, weight='weight')\n",
    "\n",
    "ans = 0\n",
    "for ind, loc in enumerate(shortest_path):\n",
    "    if ind == 0:\n",
    "        continue\n",
    "    ans += rls[loc]\n",
    "    \n",
    "print(ans)\n",
    "\n"
   ]
  },
  {
   "cell_type": "code",
   "execution_count": 110,
   "metadata": {},
   "outputs": [
    {
     "name": "stdout",
     "output_type": "stream",
     "text": [
      "99 99\n",
      "2814\n"
     ]
    }
   ],
   "source": [
    "day = '15'\n",
    "fn = f'../{day}/{day}.txt'\n",
    "# fn = f'../{day}/{day}_test.txt'\n",
    "# fn = f'../{day}/{day}_test2.txt'\n",
    "\n",
    "rls = load_input(fn)\n",
    "\n",
    "xvals, yvals = [], []\n",
    "for loc in rls:\n",
    "    xvals.append(loc[0])\n",
    "    yvals.append(loc[1])\n",
    "maxx = max(xvals)\n",
    "maxy = max(yvals)\n",
    "\n",
    "print(maxx, maxy)\n",
    "\n",
    "# expand RLs and repeat\n",
    "rls_original = rls.copy()\n",
    "for xt, yt in product(np.arange(0, 5), np.arange(0, 5)):\n",
    "#     print(xt, yt)\n",
    "    if (xt, yt) == (0, 0):\n",
    "        continue\n",
    "    for loc, v in rls_original.items():\n",
    "        x, y = loc\n",
    "        \n",
    "        new_v = (v + xt + yt)\n",
    "        if new_v > 9:\n",
    "            new_v = new_v % 9\n",
    "        \n",
    "        rls[(x + xt * (maxx+ 1)), (y + yt * (maxy+1))] = new_v\n",
    "        \n",
    "G = nx.DiGraph()\n",
    "for loc in rls:\n",
    "    for adj in get_adj(loc):\n",
    "        if adj not in rls:\n",
    "            continue\n",
    "        G.add_edge(loc, adj, weight=rls[adj])\n",
    "        \n",
    "xvals, yvals = [], []\n",
    "for loc in rls:\n",
    "    xvals.append(loc[0])\n",
    "    yvals.append(loc[1])\n",
    "maxx = max(xvals)\n",
    "maxy = max(yvals)\n",
    "end_loc = (max(xvals), max(yvals))\n",
    "\n",
    "\n",
    "shortest_path = nx.dijkstra_path(G, (0, 0), end_loc, weight='weight')\n",
    "\n",
    "ans = 0\n",
    "for ind, loc in enumerate(shortest_path):\n",
    "    if ind == 0:\n",
    "        continue\n",
    "    ans += rls[loc]\n",
    "    \n",
    "print(ans)"
   ]
  },
  {
   "cell_type": "code",
   "execution_count": 120,
   "metadata": {},
   "outputs": [
    {
     "data": {
      "text/plain": [
       "(99, 99)"
      ]
     },
     "execution_count": 120,
     "metadata": {},
     "output_type": "execute_result"
    }
   ],
   "source": [
    "max(G.nodes)"
   ]
  },
  {
   "cell_type": "code",
   "execution_count": 109,
   "metadata": {},
   "outputs": [
    {
     "name": "stdout",
     "output_type": "stream",
     "text": [
      "11637517422274862853338597396444961841755517295286\n",
      "1163751742227486285333859739644496184175551729528\n",
      "1381373672249248478335135958944624616915573572712\n",
      "2136511328324762243943587335415469844652657195576\n",
      "3694931569471514267158262537826937364893714847591\n",
      "7463417111857452822296856393331796741444281785255\n",
      "1319128137242123924835323413594643452461575456357\n",
      "1359912421246112353235722346434683345754579445686\n",
      "3125421639423653274153476438526458754963756986517\n",
      "1293138521231424963234253517434536462854564757396\n",
      "2311944581342215569245332667135644377824675548893\n",
      "2274862853338597396444961841755517295286662831639\n",
      "2492484783351359589446246169155735727126684683823\n",
      "3247622439435873354154698446526571955763768216687\n",
      "4715142671582625378269373648937148475914825958612\n",
      "8574528222968563933317967414442817852555392896366\n",
      "2421239248353234135946434524615754563572686567468\n",
      "2461123532357223464346833457545794456865681556797\n",
      "4236532741534764385264587549637569865174867197628\n",
      "2314249632342535174345364628545647573965675868417\n",
      "3422155692453326671356443778246755488935786659914\n",
      "3385973964449618417555172952866628316397773942741\n",
      "3513595894462461691557357271266846838237795794934\n",
      "4358733541546984465265719557637682166874879327798\n",
      "5826253782693736489371484759148259586125936169723\n",
      "9685639333179674144428178525553928963666413917477\n",
      "3532341359464345246157545635726865674683797678579\n",
      "3572234643468334575457944568656815567976792667818\n",
      "5347643852645875496375698651748671976285978218739\n",
      "3425351743453646285456475739656758684176786979528\n",
      "4533266713564437782467554889357866599146897761125\n",
      "4496184175551729528666283163977739427418884153852\n",
      "4624616915573572712668468382377957949348816815145\n",
      "5469844652657195576376821668748793277985981438819\n",
      "6937364893714847591482595861259361697236147271834\n",
      "1796741444281785255539289636664139174777524128588\n",
      "4643452461575456357268656746837976785794818789681\n",
      "4683345754579445686568155679767926678187813778929\n",
      "6458754963756986517486719762859782187396189329841\n",
      "4536462854564757396567586841767869795287897181639\n",
      "5644377824675548893578665991468977611257918872236\n",
      "5517295286662831639777394274188841538529995264963\n",
      "5735727126684683823779579493488168151459927926256\n",
      "6571955763768216687487932779859814388196192549921\n",
      "7148475914825958612593616972361472718347258382945\n",
      "2817852555392896366641391747775241285888635239699\n",
      "5754563572686567468379767857948187896815929891792\n",
      "5794456865681556797679266781878137789298924889131\n",
      "7569865174867197628597821873961893298417291431952\n",
      "5647573965675868417678697952878971816398918292741\n",
      "\n"
     ]
    }
   ],
   "source": [
    "s_print = []\n",
    "for y in range(maxy):\n",
    "    for x in range(maxx):\n",
    "        if (x, y) not in rls:\n",
    "            s_print.append('X')\n",
    "        else:\n",
    "            s_print.append(str(rls[(x, y)]))\n",
    "    s_print.append('\\n')\n",
    "print(11637517422274862853338597396444961841755517295286)\n",
    "print(''.join(s_print))"
   ]
  },
  {
   "cell_type": "code",
   "execution_count": 115,
   "metadata": {},
   "outputs": [
    {
     "ename": "TypeError",
     "evalue": "'dict_items' object is not subscriptable",
     "output_type": "error",
     "traceback": [
      "\u001b[0;31m---------------------------------------------------------------------------\u001b[0m",
      "\u001b[0;31mTypeError\u001b[0m                                 Traceback (most recent call last)",
      "\u001b[0;32m<ipython-input-115-e76a5ac16a08>\u001b[0m in \u001b[0;36m<module>\u001b[0;34m\u001b[0m\n\u001b[1;32m      1\u001b[0m \u001b[0;32mfrom\u001b[0m \u001b[0moperator\u001b[0m \u001b[0;32mimport\u001b[0m \u001b[0mitemgetter\u001b[0m\u001b[0;34m\u001b[0m\u001b[0;34m\u001b[0m\u001b[0m\n\u001b[1;32m      2\u001b[0m \u001b[0;34m\u001b[0m\u001b[0m\n\u001b[0;32m----> 3\u001b[0;31m \u001b[0mitemgetter\u001b[0m\u001b[0;34m(\u001b[0m\u001b[0;36m1\u001b[0m\u001b[0;34m)\u001b[0m\u001b[0;34m(\u001b[0m\u001b[0mrls\u001b[0m\u001b[0;34m.\u001b[0m\u001b[0mitems\u001b[0m\u001b[0;34m(\u001b[0m\u001b[0;34m)\u001b[0m\u001b[0;34m)\u001b[0m\u001b[0;34m\u001b[0m\u001b[0;34m\u001b[0m\u001b[0m\n\u001b[0m",
      "\u001b[0;31mTypeError\u001b[0m: 'dict_items' object is not subscriptable"
     ]
    }
   ],
   "source": [
    "from operator import itemgetter\n",
    "\n",
    "itemgetter(1)(rls.items())"
   ]
  },
  {
   "cell_type": "code",
   "execution_count": 119,
   "metadata": {},
   "outputs": [
    {
     "data": {
      "text/plain": [
       "(0, 0)"
      ]
     },
     "execution_count": 119,
     "metadata": {},
     "output_type": "execute_result"
    }
   ],
   "source": [
    "min(rls)"
   ]
  },
  {
   "cell_type": "code",
   "execution_count": null,
   "metadata": {},
   "outputs": [],
   "source": []
  }
 ],
 "metadata": {
  "kernelspec": {
   "display_name": "Python 3",
   "language": "python",
   "name": "python3"
  },
  "language_info": {
   "codemirror_mode": {
    "name": "ipython",
    "version": 3
   },
   "file_extension": ".py",
   "mimetype": "text/x-python",
   "name": "python",
   "nbconvert_exporter": "python",
   "pygments_lexer": "ipython3",
   "version": "3.8.5"
  }
 },
 "nbformat": 4,
 "nbformat_minor": 4
}
