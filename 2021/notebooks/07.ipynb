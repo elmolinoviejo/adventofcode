{
 "cells": [
  {
   "cell_type": "code",
   "execution_count": 5,
   "metadata": {},
   "outputs": [],
   "source": [
    "from collections import Counter\n",
    "from itertools import product\n",
    "import numpy as np\n",
    "import matplotlib.pyplot as plt\n",
    "import networkx as nx"
   ]
  },
  {
   "cell_type": "code",
   "execution_count": 28,
   "metadata": {},
   "outputs": [],
   "source": [
    "day = '07'\n",
    "fn = f'../{day}/{day}.txt'\n",
    "# fn = f'../{day}/{day}_test.txt'\n",
    "\n",
    "\n",
    "with open(fn) as fh:\n",
    "    locs = [int(x) for x in fh.read().split(',')]\n",
    "#     locs = lines\n",
    "    \n"
   ]
  },
  {
   "cell_type": "code",
   "execution_count": 29,
   "metadata": {},
   "outputs": [
    {
     "data": {
      "text/plain": [
       "500.2321608040201"
      ]
     },
     "execution_count": 29,
     "metadata": {},
     "output_type": "execute_result"
    }
   ],
   "source": [
    "x = locs\n",
    "np.flatnonzero(x).mean()\n",
    "# 500 wrong\n"
   ]
  },
  {
   "cell_type": "code",
   "execution_count": 30,
   "metadata": {},
   "outputs": [],
   "source": [
    "min_dist = 1E9\n",
    "min_loc = None\n",
    "for l_test in range(max(locs)):\n",
    "    dist = 0\n",
    "    for l in locs:\n",
    "        dist += abs(l - l_test)\n",
    "    if dist < min_dist:\n",
    "        min_dist = dist\n",
    "        min_loc = l_test\n",
    "    "
   ]
  },
  {
   "cell_type": "code",
   "execution_count": 31,
   "metadata": {},
   "outputs": [
    {
     "data": {
      "text/plain": [
       "331067"
      ]
     },
     "execution_count": 31,
     "metadata": {},
     "output_type": "execute_result"
    }
   ],
   "source": [
    "min_dist"
   ]
  },
  {
   "cell_type": "code",
   "execution_count": 34,
   "metadata": {},
   "outputs": [],
   "source": [
    "cost_lookup = {0:0, 1: 1}\n",
    "for x in range(2000):\n",
    "    if x <2:\n",
    "        continue\n",
    "    cost_lookup[x] = cost_lookup[x-1] + x\n",
    "    "
   ]
  },
  {
   "cell_type": "code",
   "execution_count": 36,
   "metadata": {},
   "outputs": [],
   "source": [
    "min_dist = 1E9\n",
    "min_loc = None\n",
    "for l_test in range(max(locs)):\n",
    "    dist = 0\n",
    "    for l in locs:\n",
    "        travel = abs(l - l_test)\n",
    "        dist += cost_lookup[travel]\n",
    "    if dist < min_dist:\n",
    "        min_dist = dist\n",
    "        min_loc = l_test\n",
    "    "
   ]
  },
  {
   "cell_type": "code",
   "execution_count": 37,
   "metadata": {},
   "outputs": [
    {
     "data": {
      "text/plain": [
       "92881128"
      ]
     },
     "execution_count": 37,
     "metadata": {},
     "output_type": "execute_result"
    }
   ],
   "source": [
    "min_dist"
   ]
  },
  {
   "cell_type": "code",
   "execution_count": null,
   "metadata": {},
   "outputs": [],
   "source": []
  }
 ],
 "metadata": {
  "kernelspec": {
   "display_name": "Python 3",
   "language": "python",
   "name": "python3"
  },
  "language_info": {
   "codemirror_mode": {
    "name": "ipython",
    "version": 3
   },
   "file_extension": ".py",
   "mimetype": "text/x-python",
   "name": "python",
   "nbconvert_exporter": "python",
   "pygments_lexer": "ipython3",
   "version": "3.8.5"
  }
 },
 "nbformat": 4,
 "nbformat_minor": 4
}
