{
 "cells": [
  {
   "cell_type": "code",
   "execution_count": 2,
   "metadata": {},
   "outputs": [],
   "source": [
    "from collections import Counter\n",
    "from itertools import product\n",
    "import numpy as np\n",
    "import matplotlib.pyplot as plt"
   ]
  },
  {
   "cell_type": "code",
   "execution_count": 3,
   "metadata": {},
   "outputs": [],
   "source": [
    "day = '06'\n",
    "fn = f'../{day}/{day}.txt'\n",
    "# fn = f'../{day}/{day}_test.txt'\n",
    "\n",
    "\n",
    "with open(fn) as fh:\n",
    "    lines = fh.read().split('\\n')\n",
    "    \n",
    "fish = [int(x) for x in lines[0].split(',')]"
   ]
  },
  {
   "cell_type": "code",
   "execution_count": 4,
   "metadata": {},
   "outputs": [],
   "source": [
    "# 7 days\n",
    "# 2 day wait\n",
    "# new start at 8\n",
    "# old start at 6"
   ]
  },
  {
   "cell_type": "code",
   "execution_count": 5,
   "metadata": {},
   "outputs": [],
   "source": [
    "day = 0\n",
    "def next_day(fish):\n",
    "    new_fish = [0 for _ in range(len(fish))]\n",
    "    for f_ind, f in enumerate(fish):\n",
    "        if f - 1 == -1:\n",
    "            new_fish.append(8)\n",
    "            new_fish[f_ind] = 6\n",
    "        else:\n",
    "            new_fish[f_ind] = f -1\n",
    "    return new_fish"
   ]
  },
  {
   "cell_type": "code",
   "execution_count": 6,
   "metadata": {},
   "outputs": [
    {
     "name": "stdout",
     "output_type": "stream",
     "text": [
      "365131\n"
     ]
    }
   ],
   "source": [
    "# n_fish = []\n",
    "for d in range(80):\n",
    "    fish = next_day(fish)\n",
    "# print(fish)\n",
    "print(len(fish))"
   ]
  },
  {
   "cell_type": "code",
   "execution_count": null,
   "metadata": {},
   "outputs": [],
   "source": []
  },
  {
   "cell_type": "code",
   "execution_count": null,
   "metadata": {},
   "outputs": [],
   "source": []
  }
 ],
 "metadata": {
  "kernelspec": {
   "display_name": "Python 3",
   "language": "python",
   "name": "python3"
  },
  "language_info": {
   "codemirror_mode": {
    "name": "ipython",
    "version": 3
   },
   "file_extension": ".py",
   "mimetype": "text/x-python",
   "name": "python",
   "nbconvert_exporter": "python",
   "pygments_lexer": "ipython3",
   "version": "3.8.5"
  }
 },
 "nbformat": 4,
 "nbformat_minor": 4
}
