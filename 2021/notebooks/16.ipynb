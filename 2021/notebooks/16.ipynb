{
 "cells": [
  {
   "cell_type": "code",
   "execution_count": 169,
   "metadata": {},
   "outputs": [],
   "source": [
    "from collections import Counter, deque, defaultdict\n",
    "from itertools import product\n",
    "import numpy as np\n",
    "import matplotlib.pyplot as plt\n",
    "import networkx as nx"
   ]
  },
  {
   "cell_type": "code",
   "execution_count": 84,
   "metadata": {},
   "outputs": [],
   "source": [
    "def load_input(fn):\n",
    "    with open(fn) as fh:\n",
    "        h = fh.read().rstrip()\n",
    "        \n",
    "                    \n",
    "    return h\n",
    "\n",
    "def get_b_dict(fn):\n",
    "    bd = {}\n",
    "    with open(fn) as fh:\n",
    "        for l in fh.readlines():\n",
    "            x, y = l.rstrip().split(' = ')\n",
    "            bd[x] = y\n",
    "    return bd"
   ]
  },
  {
   "cell_type": "code",
   "execution_count": 203,
   "metadata": {},
   "outputs": [],
   "source": [
    "def get_info(ind, b):\n",
    "    version = int(b[ind:ind + 3], 2)\n",
    "    ind += 3\n",
    "    tp = int(b[ind:ind + 3], 2)\n",
    "    ind += 3\n",
    "    return version, tp, ind\n",
    "\n",
    "\n",
    "def tp4(ind, b):\n",
    "    #literal value, ind = first ind of the packet\n",
    "    end = False\n",
    "    packets = []\n",
    "    while not end:\n",
    "        p = b[ind: ind + 5]\n",
    "        packets.append(p)\n",
    "        ind += 5\n",
    "        if p[0] == '0':\n",
    "            end = True\n",
    "    bval = ''\n",
    "    for p in packets:\n",
    "        bval += p[1:]\n",
    "    val = int(bval, 2)\n",
    "    return packets, val, ind\n",
    "\n",
    "\n",
    "def tpO(ind, b):\n",
    "    # ind = first ind of the packet\n",
    "    if b[ind] == '0':\n",
    "        ind += 1\n",
    "        sp_len = int(b[ind:ind + 15], 2)\n",
    "        ind += 15\n",
    "        sps = b[ind: ind + sp_len]\n",
    "#         ind += sp_len\n",
    "        \n",
    "        return 'len', sps, ind\n",
    "    \n",
    "    elif b[ind] == '1':\n",
    "        ind += 1\n",
    "        sp_n = int(b[ind: ind + 11], 2)\n",
    "        ind += 11\n",
    "        \n",
    "        return 'count', sp_n, ind\n",
    "    \n",
    "\n",
    "\n",
    "def parse_packet(ind, b):\n",
    "    v, tp, ind = get_info(ind, b)\n",
    "#     print(v, tp, ind)\n",
    "    if tp == 4:\n",
    "        packets, val, ind = tp4(ind, b)\n",
    "#         print('literal', val, ind)\n",
    "        return v, val, None, None, ind, tp\n",
    "    else:\n",
    "        sp_type, val, ind = tpO(ind, b)\n",
    "#         print(sp_type, val, ind)\n",
    "        if sp_type == 'len':\n",
    "            return v, None, val, None, ind, tp\n",
    "        elif sp_type == 'count':\n",
    "            return v, None, None, val, ind, tp\n",
    "        \n",
    "def op_ans(tn, vals):\n",
    "    tn = int(tn)\n",
    "    if tn == 0:\n",
    "        return sum(vals)\n",
    "    if tn == 1:\n",
    "        return np.prod(vals)\n",
    "    if tn == 2:\n",
    "        return min(vals)\n",
    "    if tn == 3:\n",
    "        return max(vals)\n",
    "    if tn == 5:\n",
    "        if vals[0] > vals[1]:\n",
    "            return 1\n",
    "        else:\n",
    "            return 0\n",
    "    if tn == 6:\n",
    "        if vals[0] < vals[1]:\n",
    "            return 1\n",
    "        else:\n",
    "            return 0\n",
    "    if tn == 7:\n",
    "        if vals[0] == vals[1]:\n",
    "            return 1\n",
    "        else:\n",
    "            return 0"
   ]
  },
  {
   "cell_type": "code",
   "execution_count": 134,
   "metadata": {},
   "outputs": [
    {
     "name": "stdout",
     "output_type": "stream",
     "text": [
      "7 3 6\n",
      "count 3 18\n"
     ]
    },
    {
     "data": {
      "text/plain": [
       "(7, None, None, 3, 18)"
      ]
     },
     "execution_count": 134,
     "metadata": {},
     "output_type": "execute_result"
    }
   ],
   "source": [
    "b = '11101110000000001101010000001100100000100011000001100000'\n",
    "\n",
    "parse_packet(0, b)"
   ]
  },
  {
   "cell_type": "code",
   "execution_count": 266,
   "metadata": {},
   "outputs": [
    {
     "name": "stdout",
     "output_type": "stream",
     "text": [
      "defaultdict(<class 'int'>, {})\n",
      "defaultdict(<class 'list'>, {})\n",
      "defaultdict(<class 'str'>, {})\n",
      "defaultdict(<class 'int'>, {})\n",
      "\n",
      "defaultdict(<class 'int'>, {1: 7})\n",
      "defaultdict(<class 'list'>, {})\n",
      "defaultdict(<class 'str'>, {0: '', 1: 'len'})\n",
      "defaultdict(<class 'int'>, {})\n",
      "\n",
      "defaultdict(<class 'int'>, {1: 7, 2: 0})\n",
      "defaultdict(<class 'list'>, {})\n",
      "defaultdict(<class 'str'>, {0: '', 1: 'len', 2: 'num'})\n",
      "defaultdict(<class 'int'>, {2: 2})\n",
      "\n",
      "defaultdict(<class 'int'>, {1: 7, 2: 0})\n",
      "defaultdict(<class 'list'>, {2: [1]})\n",
      "defaultdict(<class 'str'>, {0: '', 1: 'len', 2: 'num'})\n",
      "defaultdict(<class 'int'>, {2: 1})\n",
      "\n",
      "defaultdict(<class 'int'>, {1: 7, 2: 0})\n",
      "defaultdict(<class 'list'>, {2: [1, 3]})\n",
      "defaultdict(<class 'str'>, {0: '', 1: 'len', 2: 'num'})\n",
      "defaultdict(<class 'int'>, {2: 0})\n",
      "\n",
      "defaultdict(<class 'int'>, {1: 7, 2: 1})\n",
      "defaultdict(<class 'list'>, {2: [], 1: [4]})\n",
      "defaultdict(<class 'str'>, {0: '', 1: 'len', 2: 'num'})\n",
      "defaultdict(<class 'int'>, {2: 2})\n",
      "\n",
      "defaultdict(<class 'int'>, {1: 7, 2: 1})\n",
      "defaultdict(<class 'list'>, {2: [2], 1: [4]})\n",
      "defaultdict(<class 'str'>, {0: '', 1: 'len', 2: 'num'})\n",
      "defaultdict(<class 'int'>, {2: 1})\n",
      "\n",
      "7, None\n",
      "\t0, None\n",
      "\t\t4, 1\n",
      "\t\t4, 3\n",
      "\t\t1, None\n",
      "\t\t4, 2\n",
      "\t\t4, 2\n",
      "\n"
     ]
    },
    {
     "ename": "IndexError",
     "evalue": "list index out of range",
     "output_type": "error",
     "traceback": [
      "\u001b[0;31m---------------------------------------------------------------------------\u001b[0m",
      "\u001b[0;31mIndexError\u001b[0m                                Traceback (most recent call last)",
      "\u001b[0;32m<ipython-input-266-5a6c3a56fbd3>\u001b[0m in \u001b[0;36m<module>\u001b[0;34m\u001b[0m\n\u001b[1;32m     89\u001b[0m     \u001b[0mv_sum\u001b[0m \u001b[0;34m+=\u001b[0m \u001b[0mvn\u001b[0m\u001b[0;34m\u001b[0m\u001b[0;34m\u001b[0m\u001b[0m\n\u001b[1;32m     90\u001b[0m \u001b[0mprint\u001b[0m\u001b[0;34m(\u001b[0m\u001b[0mout_str\u001b[0m\u001b[0;34m)\u001b[0m\u001b[0;34m\u001b[0m\u001b[0;34m\u001b[0m\u001b[0m\n\u001b[0;32m---> 91\u001b[0;31m \u001b[0mprint\u001b[0m\u001b[0;34m(\u001b[0m\u001b[0mop_ans\u001b[0m\u001b[0;34m(\u001b[0m\u001b[0mlop\u001b[0m\u001b[0;34m[\u001b[0m\u001b[0;36m1\u001b[0m\u001b[0;34m]\u001b[0m\u001b[0;34m,\u001b[0m \u001b[0mlvals\u001b[0m\u001b[0;34m[\u001b[0m\u001b[0;36m1\u001b[0m\u001b[0;34m]\u001b[0m\u001b[0;34m)\u001b[0m\u001b[0;34m)\u001b[0m\u001b[0;34m\u001b[0m\u001b[0;34m\u001b[0m\u001b[0m\n\u001b[0m",
      "\u001b[0;32m<ipython-input-203-6424837dc9dc>\u001b[0m in \u001b[0;36mop_ans\u001b[0;34m(tn, vals)\u001b[0m\n\u001b[1;32m     80\u001b[0m             \u001b[0;32mreturn\u001b[0m \u001b[0;36m0\u001b[0m\u001b[0;34m\u001b[0m\u001b[0;34m\u001b[0m\u001b[0m\n\u001b[1;32m     81\u001b[0m     \u001b[0;32mif\u001b[0m \u001b[0mtn\u001b[0m \u001b[0;34m==\u001b[0m \u001b[0;36m7\u001b[0m\u001b[0;34m:\u001b[0m\u001b[0;34m\u001b[0m\u001b[0;34m\u001b[0m\u001b[0m\n\u001b[0;32m---> 82\u001b[0;31m         \u001b[0;32mif\u001b[0m \u001b[0mvals\u001b[0m\u001b[0;34m[\u001b[0m\u001b[0;36m0\u001b[0m\u001b[0;34m]\u001b[0m \u001b[0;34m==\u001b[0m \u001b[0mvals\u001b[0m\u001b[0;34m[\u001b[0m\u001b[0;36m1\u001b[0m\u001b[0;34m]\u001b[0m\u001b[0;34m:\u001b[0m\u001b[0;34m\u001b[0m\u001b[0;34m\u001b[0m\u001b[0m\n\u001b[0m\u001b[1;32m     83\u001b[0m             \u001b[0;32mreturn\u001b[0m \u001b[0;36m1\u001b[0m\u001b[0;34m\u001b[0m\u001b[0;34m\u001b[0m\u001b[0m\n\u001b[1;32m     84\u001b[0m         \u001b[0;32melse\u001b[0m\u001b[0;34m:\u001b[0m\u001b[0;34m\u001b[0m\u001b[0;34m\u001b[0m\u001b[0m\n",
      "\u001b[0;31mIndexError\u001b[0m: list index out of range"
     ]
    }
   ],
   "source": [
    "day = '16'\n",
    "fn = f'../{day}/{day}.txt'\n",
    "bd = get_b_dict('../16/b_dict.txt')\n",
    "\n",
    "h = load_input(fn)\n",
    "\n",
    "\n",
    "# h = '8A004A801A8002F478'\n",
    "# # h = '620080001611562C8802118E34'\n",
    "# # h = 'C0015000016115A2E0802F182340'\n",
    "# h = 'A0016C880162017C3686B18A3D4780'\n",
    "\n",
    "# h = '38006F45291200'\n",
    "# h = 'EE00D40C823060'\n",
    "\n",
    "h = '9C0141080250320F1802104A08'\n",
    "\n",
    "b = ''\n",
    "for hx in h:\n",
    "    b += bd[hx]\n",
    "\n",
    "\n",
    "\n",
    "# Part 2\n",
    "'''\n",
    "store dict {start_ind: value(?)}\n",
    "[(typeID, value)]\n",
    "just need like..tabs, so just record the level val somewhere\n",
    "'''\n",
    "\n",
    "ind = 0\n",
    "v_sum = 0\n",
    "level = 0\n",
    "out_str = ''\n",
    "lnums = defaultdict(int)\n",
    "linds = defaultdict(int)\n",
    "lop = defaultdict(int)\n",
    "lvals = defaultdict(list)\n",
    "ltype = defaultdict(str)\n",
    "end = False\n",
    "while not end:\n",
    "    try:\n",
    "        vn, litval, plen, pnum, ind, tp = parse_packet(ind, b)\n",
    "    except:\n",
    "        end = True\n",
    "        break\n",
    "    \n",
    "    level_tabs = ''.join(['\\t' for x in range(level)])\n",
    "    out_str += f'{level_tabs}{tp}, {litval}\\n'\n",
    "    \n",
    "    print(lop)\n",
    "    print(lvals)\n",
    "    print(ltype)\n",
    "    print(lnums)\n",
    "    print()\n",
    "    \n",
    "    if litval:\n",
    "        lvals[level].append(litval)\n",
    "        \n",
    "    if ltype[level] == 'num':\n",
    "        if lnums[level] > 0:\n",
    "            lnums[level] = lnums[level] - 1\n",
    "        elif lnums[level] == 0:\n",
    "                val = op_ans(lop[level], lvals[level])\n",
    "                lvals[level] = []\n",
    "                level -= 1\n",
    "                lvals[level].append(val)\n",
    "                # when level goes back down, complete the operation\n",
    "                \n",
    "    elif ltype[level] == 'len':\n",
    "        if ind >= linds[level]:\n",
    "            val = op_ans(lop[level], lvals[level])\n",
    "            lvals[level] = []\n",
    "            level -= 1\n",
    "            lvals[level].append(val)\n",
    "\n",
    "    if pnum:\n",
    "        level += 1\n",
    "        lop[level] = tp\n",
    "        lnums[level] = pnum\n",
    "        ltype[level] = 'num'\n",
    "        \n",
    "    elif plen:\n",
    "        level += 1\n",
    "        lop[level] = tp\n",
    "        linds[level] = ind + int(plen)\n",
    "        ltype[level] = 'len'\n",
    "    \n",
    "    v_sum += vn\n",
    "print(out_str)\n",
    "print(op_ans(lop[1], lvals[1]))\n"
   ]
  },
  {
   "cell_type": "code",
   "execution_count": 247,
   "metadata": {},
   "outputs": [
    {
     "ename": "IndexError",
     "evalue": "list index out of range",
     "output_type": "error",
     "traceback": [
      "\u001b[0;31m---------------------------------------------------------------------------\u001b[0m",
      "\u001b[0;31mIndexError\u001b[0m                                Traceback (most recent call last)",
      "\u001b[0;32m<ipython-input-247-2d97ed97bc0d>\u001b[0m in \u001b[0;36m<module>\u001b[0;34m\u001b[0m\n\u001b[0;32m----> 1\u001b[0;31m \u001b[0mprint\u001b[0m\u001b[0;34m(\u001b[0m\u001b[0mop_ans\u001b[0m\u001b[0;34m(\u001b[0m\u001b[0mlop\u001b[0m\u001b[0;34m[\u001b[0m\u001b[0;36m1\u001b[0m\u001b[0;34m]\u001b[0m\u001b[0;34m,\u001b[0m \u001b[0mlvals\u001b[0m\u001b[0;34m[\u001b[0m\u001b[0;36m1\u001b[0m\u001b[0;34m]\u001b[0m\u001b[0;34m)\u001b[0m\u001b[0;34m)\u001b[0m\u001b[0;34m\u001b[0m\u001b[0;34m\u001b[0m\u001b[0m\n\u001b[0m",
      "\u001b[0;32m<ipython-input-203-6424837dc9dc>\u001b[0m in \u001b[0;36mop_ans\u001b[0;34m(tn, vals)\u001b[0m\n\u001b[1;32m     80\u001b[0m             \u001b[0;32mreturn\u001b[0m \u001b[0;36m0\u001b[0m\u001b[0;34m\u001b[0m\u001b[0;34m\u001b[0m\u001b[0m\n\u001b[1;32m     81\u001b[0m     \u001b[0;32mif\u001b[0m \u001b[0mtn\u001b[0m \u001b[0;34m==\u001b[0m \u001b[0;36m7\u001b[0m\u001b[0;34m:\u001b[0m\u001b[0;34m\u001b[0m\u001b[0;34m\u001b[0m\u001b[0m\n\u001b[0;32m---> 82\u001b[0;31m         \u001b[0;32mif\u001b[0m \u001b[0mvals\u001b[0m\u001b[0;34m[\u001b[0m\u001b[0;36m0\u001b[0m\u001b[0;34m]\u001b[0m \u001b[0;34m==\u001b[0m \u001b[0mvals\u001b[0m\u001b[0;34m[\u001b[0m\u001b[0;36m1\u001b[0m\u001b[0;34m]\u001b[0m\u001b[0;34m:\u001b[0m\u001b[0;34m\u001b[0m\u001b[0;34m\u001b[0m\u001b[0m\n\u001b[0m\u001b[1;32m     83\u001b[0m             \u001b[0;32mreturn\u001b[0m \u001b[0;36m1\u001b[0m\u001b[0;34m\u001b[0m\u001b[0;34m\u001b[0m\u001b[0m\n\u001b[1;32m     84\u001b[0m         \u001b[0;32melse\u001b[0m\u001b[0;34m:\u001b[0m\u001b[0;34m\u001b[0m\u001b[0;34m\u001b[0m\u001b[0m\n",
      "\u001b[0;31mIndexError\u001b[0m: list index out of range"
     ]
    }
   ],
   "source": [
    "print(op_ans(lop[1], lvals[1]))"
   ]
  },
  {
   "cell_type": "code",
   "execution_count": 205,
   "metadata": {},
   "outputs": [],
   "source": [
    "with open('../16/out_str.txt', 'w') as fh:\n",
    "    fh.write(out_str)"
   ]
  },
  {
   "cell_type": "code",
   "execution_count": 160,
   "metadata": {},
   "outputs": [
    {
     "name": "stdout",
     "output_type": "stream",
     "text": [
      "answer: 6\n",
      "answer: 12\n",
      "answer: 14\n"
     ]
    },
    {
     "ename": "ValueError",
     "evalue": "invalid literal for int() with base 2: ''",
     "output_type": "error",
     "traceback": [
      "\u001b[0;31m---------------------------------------------------------------------------\u001b[0m",
      "\u001b[0;31mValueError\u001b[0m                                Traceback (most recent call last)",
      "\u001b[0;32m<ipython-input-160-ab8279b24d1e>\u001b[0m in \u001b[0;36m<module>\u001b[0;34m\u001b[0m\n\u001b[1;32m      4\u001b[0m \u001b[0;32mfor\u001b[0m \u001b[0m_\u001b[0m \u001b[0;32min\u001b[0m \u001b[0mrange\u001b[0m\u001b[0;34m(\u001b[0m\u001b[0;36m4\u001b[0m\u001b[0;34m)\u001b[0m\u001b[0;34m:\u001b[0m\u001b[0;34m\u001b[0m\u001b[0;34m\u001b[0m\u001b[0m\n\u001b[1;32m      5\u001b[0m \u001b[0;34m\u001b[0m\u001b[0m\n\u001b[0;32m----> 6\u001b[0;31m     \u001b[0mvn\u001b[0m\u001b[0;34m,\u001b[0m \u001b[0mlitval\u001b[0m\u001b[0;34m,\u001b[0m \u001b[0mplen\u001b[0m\u001b[0;34m,\u001b[0m \u001b[0mpnum\u001b[0m\u001b[0;34m,\u001b[0m \u001b[0mind\u001b[0m\u001b[0;34m,\u001b[0m \u001b[0mtp\u001b[0m \u001b[0;34m=\u001b[0m \u001b[0mparse_packet\u001b[0m\u001b[0;34m(\u001b[0m\u001b[0mind\u001b[0m\u001b[0;34m,\u001b[0m \u001b[0mb\u001b[0m\u001b[0;34m)\u001b[0m\u001b[0;34m\u001b[0m\u001b[0;34m\u001b[0m\u001b[0m\n\u001b[0m\u001b[1;32m      7\u001b[0m     \u001b[0mv_sum\u001b[0m \u001b[0;34m+=\u001b[0m \u001b[0mvn\u001b[0m\u001b[0;34m\u001b[0m\u001b[0;34m\u001b[0m\u001b[0m\n\u001b[1;32m      8\u001b[0m     \u001b[0mprint\u001b[0m\u001b[0;34m(\u001b[0m\u001b[0;34mf'answer: {v_sum}'\u001b[0m\u001b[0;34m)\u001b[0m\u001b[0;34m\u001b[0m\u001b[0;34m\u001b[0m\u001b[0m\n",
      "\u001b[0;32m<ipython-input-158-92eaf2223283>\u001b[0m in \u001b[0;36mparse_packet\u001b[0;34m(ind, b)\u001b[0m\n\u001b[1;32m     45\u001b[0m \u001b[0;34m\u001b[0m\u001b[0m\n\u001b[1;32m     46\u001b[0m \u001b[0;32mdef\u001b[0m \u001b[0mparse_packet\u001b[0m\u001b[0;34m(\u001b[0m\u001b[0mind\u001b[0m\u001b[0;34m,\u001b[0m \u001b[0mb\u001b[0m\u001b[0;34m)\u001b[0m\u001b[0;34m:\u001b[0m\u001b[0;34m\u001b[0m\u001b[0;34m\u001b[0m\u001b[0m\n\u001b[0;32m---> 47\u001b[0;31m     \u001b[0mv\u001b[0m\u001b[0;34m,\u001b[0m \u001b[0mtp\u001b[0m\u001b[0;34m,\u001b[0m \u001b[0mind\u001b[0m \u001b[0;34m=\u001b[0m \u001b[0mget_info\u001b[0m\u001b[0;34m(\u001b[0m\u001b[0mind\u001b[0m\u001b[0;34m,\u001b[0m \u001b[0mb\u001b[0m\u001b[0;34m)\u001b[0m\u001b[0;34m\u001b[0m\u001b[0;34m\u001b[0m\u001b[0m\n\u001b[0m\u001b[1;32m     48\u001b[0m \u001b[0;31m#     print(v, tp, ind)\u001b[0m\u001b[0;34m\u001b[0m\u001b[0;34m\u001b[0m\u001b[0;34m\u001b[0m\u001b[0m\n\u001b[1;32m     49\u001b[0m     \u001b[0;32mif\u001b[0m \u001b[0mtp\u001b[0m \u001b[0;34m==\u001b[0m \u001b[0;36m4\u001b[0m\u001b[0;34m:\u001b[0m\u001b[0;34m\u001b[0m\u001b[0;34m\u001b[0m\u001b[0m\n",
      "\u001b[0;32m<ipython-input-158-92eaf2223283>\u001b[0m in \u001b[0;36mget_info\u001b[0;34m(ind, b)\u001b[0m\n\u001b[1;32m      1\u001b[0m \u001b[0;32mdef\u001b[0m \u001b[0mget_info\u001b[0m\u001b[0;34m(\u001b[0m\u001b[0mind\u001b[0m\u001b[0;34m,\u001b[0m \u001b[0mb\u001b[0m\u001b[0;34m)\u001b[0m\u001b[0;34m:\u001b[0m\u001b[0;34m\u001b[0m\u001b[0;34m\u001b[0m\u001b[0m\n\u001b[0;32m----> 2\u001b[0;31m     \u001b[0mversion\u001b[0m \u001b[0;34m=\u001b[0m \u001b[0mint\u001b[0m\u001b[0;34m(\u001b[0m\u001b[0mb\u001b[0m\u001b[0;34m[\u001b[0m\u001b[0mind\u001b[0m\u001b[0;34m:\u001b[0m\u001b[0mind\u001b[0m \u001b[0;34m+\u001b[0m \u001b[0;36m3\u001b[0m\u001b[0;34m]\u001b[0m\u001b[0;34m,\u001b[0m \u001b[0;36m2\u001b[0m\u001b[0;34m)\u001b[0m\u001b[0;34m\u001b[0m\u001b[0;34m\u001b[0m\u001b[0m\n\u001b[0m\u001b[1;32m      3\u001b[0m     \u001b[0mind\u001b[0m \u001b[0;34m+=\u001b[0m \u001b[0;36m3\u001b[0m\u001b[0;34m\u001b[0m\u001b[0;34m\u001b[0m\u001b[0m\n\u001b[1;32m      4\u001b[0m     \u001b[0mtp\u001b[0m \u001b[0;34m=\u001b[0m \u001b[0mint\u001b[0m\u001b[0;34m(\u001b[0m\u001b[0mb\u001b[0m\u001b[0;34m[\u001b[0m\u001b[0mind\u001b[0m\u001b[0;34m:\u001b[0m\u001b[0mind\u001b[0m \u001b[0;34m+\u001b[0m \u001b[0;36m3\u001b[0m\u001b[0;34m]\u001b[0m\u001b[0;34m,\u001b[0m \u001b[0;36m2\u001b[0m\u001b[0;34m)\u001b[0m\u001b[0;34m\u001b[0m\u001b[0;34m\u001b[0m\u001b[0m\n\u001b[1;32m      5\u001b[0m     \u001b[0mind\u001b[0m \u001b[0;34m+=\u001b[0m \u001b[0;36m3\u001b[0m\u001b[0;34m\u001b[0m\u001b[0;34m\u001b[0m\u001b[0m\n",
      "\u001b[0;31mValueError\u001b[0m: invalid literal for int() with base 2: ''"
     ]
    }
   ],
   "source": [
    "# Part 1\n",
    "ind = 0\n",
    "v_sum = 0\n",
    "for _ in range(4):\n",
    "\n",
    "    vn, litval, plen, pnum, ind, tp = parse_packet(ind, b)\n",
    "    v_sum += vn\n",
    "    print(f'answer: {v_sum}')"
   ]
  },
  {
   "cell_type": "code",
   "execution_count": 202,
   "metadata": {},
   "outputs": [
    {
     "data": {
      "text/plain": [
       "12"
      ]
     },
     "execution_count": 202,
     "metadata": {},
     "output_type": "execute_result"
    }
   ],
   "source": [
    "np.prod([1, 3, 4])"
   ]
  },
  {
   "cell_type": "code",
   "execution_count": 174,
   "metadata": {},
   "outputs": [
    {
     "name": "stdout",
     "output_type": "stream",
     "text": [
      "0, None\n",
      "\t4, 1\n",
      "\t4, 2\n",
      "\n"
     ]
    }
   ],
   "source": [
    "print(out_str)"
   ]
  },
  {
   "cell_type": "code",
   "execution_count": null,
   "metadata": {},
   "outputs": [],
   "source": [
    "'''\n",
    "3 bits - version\n",
    "3 bits - type ID\n",
    "    4: literal value\n",
    "    other - operator\n",
    "operator\n",
    "    next bit 0 - next 15 bits\n",
    "    next bit 1 - next 11 bits\n",
    "    then sub packets\n",
    "'''"
   ]
  }
 ],
 "metadata": {
  "kernelspec": {
   "display_name": "Python 3",
   "language": "python",
   "name": "python3"
  },
  "language_info": {
   "codemirror_mode": {
    "name": "ipython",
    "version": 3
   },
   "file_extension": ".py",
   "mimetype": "text/x-python",
   "name": "python",
   "nbconvert_exporter": "python",
   "pygments_lexer": "ipython3",
   "version": "3.8.5"
  }
 },
 "nbformat": 4,
 "nbformat_minor": 4
}
