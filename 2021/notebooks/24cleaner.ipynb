{
 "cells": [
  {
   "cell_type": "code",
   "execution_count": 1,
   "metadata": {},
   "outputs": [],
   "source": [
    "from collections import Counter, deque, defaultdict\n",
    "from itertools import product, count, combinations\n",
    "import numpy as np\n",
    "import matplotlib.pyplot as plt\n",
    "import networkx as nx\n",
    "from sympy import *\n",
    "from sympy.parsing.sympy_parser import parse_expr\n",
    "from sympy.core.function import Function\n",
    "from sympy.core.sympify import sympify"
   ]
  },
  {
   "cell_type": "code",
   "execution_count": 22,
   "metadata": {},
   "outputs": [],
   "source": [
    "def simple_block(z, w, n1, n2, n3):\n",
    "    X = w != ((z % 26) + n1)\n",
    "    return int(z/n2) * (25 * X + 1) + (w + n3) * X\n",
    "\n",
    "\n",
    "sb_vars = {\n",
    "    0: (14, 1, 7),\n",
    "    1: (12, 1, 4),\n",
    "    2: (11, 1, 8),\n",
    "    3: (-4, 26, 1),\n",
    "    4: (10, 1, 5),\n",
    "    5: (10, 1, 14),\n",
    "    6: (15, 1, 12),\n",
    "    7: (-9, 26, 10),\n",
    "    8: (-9, 26, 5),\n",
    "    9: (12, 1, 7),\n",
    "    10: (-15, 26, 6),\n",
    "    11: (-7, 26, 8),\n",
    "    12: (-10, 26, 4),\n",
    "    13: (0, 26, 6)\n",
    "}"
   ]
  },
  {
   "cell_type": "code",
   "execution_count": 26,
   "metadata": {},
   "outputs": [
    {
     "name": "stdout",
     "output_type": "stream",
     "text": [
      "13\n"
     ]
    }
   ],
   "source": [
    "# forward - to get possible z outputs for each block (and store possible ws)\n",
    "\n",
    "check_blocks = [13]\n",
    "# outputzs = {-1: {0}}\n",
    "for cb in check_blocks:\n",
    "    outputzs[cb] = set()\n",
    "    for z in outputzs[cb - 1]:\n",
    "        for w in range(1,10):\n",
    "            out_z = simple_block(z, w, *sb_vars[cb])\n",
    "            outputzs[cb].add(out_z)\n",
    "    print(cb)"
   ]
  },
  {
   "cell_type": "code",
   "execution_count": 31,
   "metadata": {},
   "outputs": [
    {
     "name": "stdout",
     "output_type": "stream",
     "text": [
      "13\n",
      "13\n",
      "12\n",
      "12\n",
      "11\n",
      "11\n",
      "10\n",
      "10\n",
      "9\n",
      "9\n",
      "8\n",
      "8\n",
      "7\n",
      "7\n",
      "6\n",
      "6\n",
      "5\n",
      "5\n",
      "4\n",
      "4\n",
      "3\n",
      "3\n",
      "2\n",
      "2\n",
      "1\n",
      "1\n",
      "0\n",
      "0\n"
     ]
    }
   ],
   "source": [
    "# go backwards\n",
    "inputws = {}\n",
    "# iputws[0] = set(list(range(1,10)))\n",
    "check_blocks = list(range(14))\n",
    "check_blocks.reverse()\n",
    "inputzs = {}\n",
    "inputzs[14] = {0}\n",
    "\n",
    "for cb in check_blocks:\n",
    "    print(cb)\n",
    "    if cb not in inputzs:\n",
    "        inputzs[cb] = set()\n",
    "    if cb not in inputws:\n",
    "        inputws[cb] = set()\n",
    "    for z in outputzs[cb - 1]:\n",
    "#     for z in range(0, 100):\n",
    "        for w in range(1,10):\n",
    "            out_z = simple_block(z, w, *sb_vars[cb])\n",
    "            if out_z in inputzs[cb + 1]:\n",
    "                inputzs[cb].add(z)\n",
    "                inputws[cb].add(w)\n",
    "    print(cb)"
   ]
  },
  {
   "cell_type": "code",
   "execution_count": 39,
   "metadata": {},
   "outputs": [
    {
     "name": "stdout",
     "output_type": "stream",
     "text": [
      "1\n",
      "2\n",
      "6\n",
      "42\n",
      "42\n",
      "42\n",
      "168\n",
      "1008\n",
      "168\n",
      "42\n",
      "6\n",
      "30\n",
      "6\n",
      "2\n",
      "1\n"
     ]
    },
    {
     "data": {
      "text/plain": [
       "{13: {8, 9},\n",
       " 12: {1, 2, 3},\n",
       " 11: {1, 2, 3, 4, 5, 6, 7},\n",
       " 10: {1},\n",
       " 9: {9},\n",
       " 8: {6, 7, 8, 9},\n",
       " 7: {4, 5, 6, 7, 8, 9},\n",
       " 6: {1, 2, 3, 4, 5, 6},\n",
       " 5: {1, 2, 3, 4},\n",
       " 4: {3, 4, 5, 6, 7, 8, 9},\n",
       " 3: {5, 6, 7, 8, 9},\n",
       " 2: {1, 2, 3, 4, 5},\n",
       " 1: {7, 8, 9},\n",
       " 0: {1, 2}}"
      ]
     },
     "execution_count": 39,
     "metadata": {},
     "output_type": "execute_result"
    }
   ],
   "source": [
    "[print(len(v)) for v in inputzs.values()]\n",
    "inputws"
   ]
  },
  {
   "cell_type": "code",
   "execution_count": 80,
   "metadata": {},
   "outputs": [],
   "source": [
    "okws = []\n",
    "\n",
    "from itertools import product, count, combinations\n",
    "product(*[list(x) for x in inputws.values()])\n",
    "\n",
    "\n",
    "orderedws = []\n",
    "for b in range(14):\n",
    "    orderedws.append(inputws[b])\n",
    "\n",
    "for ws in product(*[list(x) for x in orderedws]):\n",
    "    valid = True\n",
    "    z = 0\n",
    "    for b, w in enumerate(ws):\n",
    "        z = simple_block(z, w, *sb_vars[b])\n",
    "        if z not in inputzs[b + 1]:\n",
    "            valid = False\n",
    "            break\n",
    "    if valid:\n",
    "#     if z == 0:\n",
    "        okws.append(ws)\n",
    "    \n",
    "        "
   ]
  },
  {
   "cell_type": "code",
   "execution_count": 81,
   "metadata": {},
   "outputs": [
    {
     "data": {
      "text/plain": [
       "5040"
      ]
     },
     "execution_count": 81,
     "metadata": {},
     "output_type": "execute_result"
    }
   ],
   "source": [
    "len(okws)"
   ]
  },
  {
   "cell_type": "code",
   "execution_count": 86,
   "metadata": {
    "scrolled": true
   },
   "outputs": [],
   "source": [
    "okints = []\n",
    "for okw in okws:\n",
    "    okints.append(int(''.join([str(x) for x in okw])))"
   ]
  },
  {
   "cell_type": "code",
   "execution_count": 88,
   "metadata": {},
   "outputs": [
    {
     "data": {
      "text/plain": [
       "17153114691118"
      ]
     },
     "execution_count": 88,
     "metadata": {},
     "output_type": "execute_result"
    }
   ],
   "source": [
    "min(okints)"
   ]
  },
  {
   "cell_type": "code",
   "execution_count": 63,
   "metadata": {},
   "outputs": [
    {
     "ename": "TypeError",
     "evalue": "'int' object is not iterable",
     "output_type": "error",
     "traceback": [
      "\u001b[0;31m---------------------------------------------------------------------------\u001b[0m",
      "\u001b[0;31mTypeError\u001b[0m                                 Traceback (most recent call last)",
      "\u001b[0;32m<ipython-input-63-f1b75bdc0e3e>\u001b[0m in \u001b[0;36m<module>\u001b[0;34m\u001b[0m\n\u001b[1;32m      1\u001b[0m \u001b[0;32mfrom\u001b[0m \u001b[0mitertools\u001b[0m \u001b[0;32mimport\u001b[0m \u001b[0mproduct\u001b[0m\u001b[0;34m,\u001b[0m \u001b[0mcount\u001b[0m\u001b[0;34m,\u001b[0m \u001b[0mcombinations\u001b[0m\u001b[0;34m\u001b[0m\u001b[0;34m\u001b[0m\u001b[0m\n\u001b[1;32m      2\u001b[0m \u001b[0mtest\u001b[0m \u001b[0;34m=\u001b[0m \u001b[0;34m[\u001b[0m\u001b[0;34m(\u001b[0m\u001b[0;36m1\u001b[0m\u001b[0;34m,\u001b[0m\u001b[0;36m2\u001b[0m\u001b[0;34m)\u001b[0m\u001b[0;34m,\u001b[0m \u001b[0;34m(\u001b[0m\u001b[0;36m1\u001b[0m\u001b[0;34m)\u001b[0m\u001b[0;34m]\u001b[0m\u001b[0;34m\u001b[0m\u001b[0;34m\u001b[0m\u001b[0m\n\u001b[0;32m----> 3\u001b[0;31m \u001b[0mproduct\u001b[0m\u001b[0;34m(\u001b[0m\u001b[0;34m(\u001b[0m\u001b[0;36m1\u001b[0m\u001b[0;34m,\u001b[0m \u001b[0;36m2\u001b[0m\u001b[0;34m)\u001b[0m\u001b[0;34m,\u001b[0m \u001b[0;34m(\u001b[0m\u001b[0;36m1\u001b[0m\u001b[0;34m)\u001b[0m\u001b[0;34m)\u001b[0m\u001b[0;34m\u001b[0m\u001b[0;34m\u001b[0m\u001b[0m\n\u001b[0m",
      "\u001b[0;31mTypeError\u001b[0m: 'int' object is not iterable"
     ]
    }
   ],
   "source": [
    "from itertools import product, count, combinations\n",
    "test = [(1,2), (1)]\n",
    "product((1, 2), (1))"
   ]
  },
  {
   "cell_type": "code",
   "execution_count": null,
   "metadata": {},
   "outputs": [],
   "source": []
  }
 ],
 "metadata": {
  "kernelspec": {
   "display_name": "Python 3",
   "language": "python",
   "name": "python3"
  },
  "language_info": {
   "codemirror_mode": {
    "name": "ipython",
    "version": 3
   },
   "file_extension": ".py",
   "mimetype": "text/x-python",
   "name": "python",
   "nbconvert_exporter": "python",
   "pygments_lexer": "ipython3",
   "version": "3.8.5"
  }
 },
 "nbformat": 4,
 "nbformat_minor": 4
}
