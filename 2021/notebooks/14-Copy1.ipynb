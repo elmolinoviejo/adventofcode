{
 "cells": [
  {
   "cell_type": "code",
   "execution_count": 5,
   "metadata": {},
   "outputs": [],
   "source": [
    "from collections import Counter, deque\n",
    "from itertools import product\n",
    "import numpy as np\n",
    "import matplotlib.pyplot as plt\n",
    "import networkx as nx"
   ]
  },
  {
   "cell_type": "code",
   "execution_count": 74,
   "metadata": {},
   "outputs": [],
   "source": [
    "def load_input(fn):\n",
    "    pis = {}\n",
    "    with open(fn) as fh:\n",
    "        temp, plist = fh.read().split('\\n\\n')\n",
    "        for p in plist.split('\\n'):\n",
    "            p1, p2 = p.split(' -> ')\n",
    "            pis[p1] = p2\n",
    "#             pis.append(tuple(p.split(' -> ')))\n",
    "    return temp, pis\n"
   ]
  },
  {
   "cell_type": "code",
   "execution_count": 75,
   "metadata": {},
   "outputs": [],
   "source": [
    "day = '14'\n",
    "fn = f'../{day}/{day}.txt'\n",
    "# fn = f'../{day}/{day}_test.txt'\n",
    "# fn = f'../{day}/{day}_test2.txt'\n",
    "\n",
    "temp, pis = load_input(fn)"
   ]
  },
  {
   "cell_type": "code",
   "execution_count": 76,
   "metadata": {},
   "outputs": [],
   "source": [
    "def step(temp, pis):\n",
    "    new_temp = []\n",
    "    for ind, c in enumerate(temp):\n",
    "        if ind==len(temp) - 1:\n",
    "            continue\n",
    "        pair = c + temp[ind+1]\n",
    "        new_temp.append(c)\n",
    "        if pair in pis:\n",
    "            new_temp.append(pis[pair])\n",
    "#         print(new_temp)\n",
    "    new_temp.append(temp[-1])\n",
    "#             to_add.append(tuple([pis[pair], ind]))\n",
    "#     print(to_add)\n",
    "    \n",
    "#     new_temp = ''\n",
    "#     ind_base = 1\n",
    "#     for ind, \n",
    "    return ''.join(new_temp)"
   ]
  },
  {
   "cell_type": "code",
   "execution_count": null,
   "metadata": {},
   "outputs": [],
   "source": [
    "for _ in range(40):\n",
    "    temp = step(temp, pis)\n",
    "# print(temp)\n",
    "# print('NBBNBNBBCCNBCNCCNBBNBBNBBBNBBNBBCBHCBHHNHCBBCBHCB')\n",
    "x = Counter(temp)"
   ]
  },
  {
   "cell_type": "code",
   "execution_count": 72,
   "metadata": {},
   "outputs": [
    {
     "data": {
      "text/plain": [
       "[('O', 2704),\n",
       " ('N', 2673),\n",
       " ('P', 2420),\n",
       " ('H', 2395),\n",
       " ('F', 2044),\n",
       " ('B', 1956),\n",
       " ('C', 1834),\n",
       " ('S', 1468),\n",
       " ('K', 1371),\n",
       " ('V', 592)]"
      ]
     },
     "execution_count": 72,
     "metadata": {},
     "output_type": "execute_result"
    }
   ],
   "source": [
    "# x = Counter(temp)\n",
    "x.most_common()"
   ]
  },
  {
   "cell_type": "code",
   "execution_count": 73,
   "metadata": {},
   "outputs": [
    {
     "data": {
      "text/plain": [
       "2112"
      ]
     },
     "execution_count": 73,
     "metadata": {},
     "output_type": "execute_result"
    }
   ],
   "source": [
    "2704 - 592"
   ]
  },
  {
   "cell_type": "code",
   "execution_count": null,
   "metadata": {},
   "outputs": [],
   "source": [
    "# 2801 is not right"
   ]
  }
 ],
 "metadata": {
  "kernelspec": {
   "display_name": "Python 3",
   "language": "python",
   "name": "python3"
  },
  "language_info": {
   "codemirror_mode": {
    "name": "ipython",
    "version": 3
   },
   "file_extension": ".py",
   "mimetype": "text/x-python",
   "name": "python",
   "nbconvert_exporter": "python",
   "pygments_lexer": "ipython3",
   "version": "3.8.5"
  }
 },
 "nbformat": 4,
 "nbformat_minor": 4
}
