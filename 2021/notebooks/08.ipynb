{
 "cells": [
  {
   "cell_type": "code",
   "execution_count": 1,
   "metadata": {},
   "outputs": [],
   "source": [
    "from collections import Counter\n",
    "from itertools import product\n",
    "import numpy as np\n",
    "import matplotlib.pyplot as plt\n",
    "import networkx as nx"
   ]
  },
  {
   "cell_type": "code",
   "execution_count": 182,
   "metadata": {},
   "outputs": [
    {
     "data": {
      "text/plain": [
       "(['fdgcea',\n",
       "  'dgefa',\n",
       "  'efabdg',\n",
       "  'fdgcba',\n",
       "  'dab',\n",
       "  'baefc',\n",
       "  'begd',\n",
       "  'ebdfa',\n",
       "  'db',\n",
       "  'bafgdce'],\n",
       " ['gfbcda', 'cgfadb', 'badcefg', 'eacfgd'])"
      ]
     },
     "execution_count": 182,
     "metadata": {},
     "output_type": "execute_result"
    }
   ],
   "source": [
    "day = '08'\n",
    "fn = f'../{day}/{day}.txt'\n",
    "# fn = f'../{day}/{day}_test.txt'\n",
    "\n",
    "inputs = []\n",
    "with open(fn) as fh:\n",
    "    lines = fh.read().split('\\n')\n",
    "    for l in lines:\n",
    "        in1 = l.split(' | ')[0].split(' ')\n",
    "        in2 = l.split(' | ')[1].split(' ')\n",
    "        inputs.append((in1, in2))\n",
    "   \n",
    "inputs[0]"
   ]
  },
  {
   "cell_type": "code",
   "execution_count": null,
   "metadata": {},
   "outputs": [],
   "source": []
  },
  {
   "cell_type": "code",
   "execution_count": 183,
   "metadata": {},
   "outputs": [],
   "source": [
    "digit_letters = {\n",
    "    0: 'abcefg',\n",
    "    1: 'cf',\n",
    "    2: 'acdeg',\n",
    "    3: 'acdfg',\n",
    "    4: 'bcdf',\n",
    "    5: 'abdfg',\n",
    "    6: 'abdefg',\n",
    "    7: 'acf',\n",
    "    8: 'abcdefg',\n",
    "    9: 'abcdfg',\n",
    "}"
   ]
  },
  {
   "cell_type": "code",
   "execution_count": 184,
   "metadata": {},
   "outputs": [],
   "source": [
    "count = 0\n",
    "for digits, outputs in inputs:\n",
    "    for o in outputs:\n",
    "        if len(o) in [2, 4, 3, 7]:\n",
    "            count += 1"
   ]
  },
  {
   "cell_type": "code",
   "execution_count": 185,
   "metadata": {},
   "outputs": [
    {
     "data": {
      "text/plain": [
       "390"
      ]
     },
     "execution_count": 185,
     "metadata": {},
     "output_type": "execute_result"
    }
   ],
   "source": [
    "count"
   ]
  },
  {
   "cell_type": "code",
   "execution_count": 233,
   "metadata": {},
   "outputs": [],
   "source": [
    "# for each line, map the display to actual\n",
    "\n",
    "count = 0\n",
    "for digits, outputs in inputs:\n",
    "# for digits, outputs in inputs[0:1]:\n",
    "    lettermap = {k: set('abcdefg') for k in 'abcdefg'}\n",
    "    nummap = {}\n",
    "#     while all([len(x) == 1 for x in lettermap.values()]):\n",
    "    for _ in range(5):\n",
    "        # Get 1\n",
    "        for d in digits:\n",
    "            if len(d) == 2:\n",
    "                nummap[1] = d\n",
    "                for l in d:\n",
    "                    lettermap[l] = set(['c', 'f'])\n",
    "                for k in lettermap:\n",
    "                    if k not in d:\n",
    "                        lettermap[k].discard('c')\n",
    "                        lettermap[k].discard('f')\n",
    "        \n",
    "        # Get 7\n",
    "        for d in digits:\n",
    "            if len(d) == 3:\n",
    "                nummap[7] = d\n",
    "                let7 = [x for x in d if x not in nummap[1]][0]\n",
    "                lettermap[let7] = set('a')\n",
    "                for k in lettermap:\n",
    "                    if k not in d:\n",
    "                        lettermap[k].discard('a')\n",
    "#                         lettermap[k].discard('f')\n",
    "        \n",
    "        # Get 4\n",
    "        for d in digits:\n",
    "            if len(d) == 4:\n",
    "                nummap[4] = d\n",
    "                lets4 = [x for x in d if x not in nummap[1]]\n",
    "                for l in lets4:\n",
    "                    lettermap[l] = set(['b', 'd'])\n",
    "                for k in lettermap:\n",
    "                    if k not in d:\n",
    "                        lettermap[k].discard('b')\n",
    "                        lettermap[k].discard('d')\n",
    "        # Get 5\n",
    "        for d in digits:\n",
    "            l1 = [k for k, v in lettermap.items() if 'a' in v][0]\n",
    "            l2 = [k for k, v in lettermap.items() if 'b' in v]\n",
    "            conds = (len(d) == 5,\n",
    "                    l1 in d,\n",
    "                    l2[0] in d,\n",
    "                    l2[1] in d)\n",
    "            \n",
    "            if all(conds):\n",
    "                    nummap[5] = d\n",
    "                    for l in d:\n",
    "                        # get g\n",
    "                        if l not in nummap[4] and l not in nummap[7]:\n",
    "                            lettermap[l] = set(['g'])\n",
    "                            \n",
    "                        # choose between c, f\n",
    "                        if 'f' in lettermap[l]:\n",
    "                            lettermap[l] = set(['f'])\n",
    "                        \n",
    "                    for k in lettermap:\n",
    "                        if k not in d:\n",
    "                            lettermap[k].discard('g')\n",
    "                            lettermap[k].discard('f')\n",
    "                            \n",
    "        # Get 3\n",
    "        for d in digits:\n",
    "            conds = (len(d) == 5,\n",
    "                    [k for k, v in lettermap.items() if 'e' in v][0] not in d,\n",
    "                    set([x for x in d]) != set([y for y in nummap[5]]))\n",
    "            if all(conds):\n",
    "                nummap[3] = d\n",
    "#                 print(d)\n",
    "                for l in d:\n",
    "                    if l in nummap[5]:\n",
    "                        if len(lettermap[l]) > 1:\n",
    "                            lettermap[l] = set('d')\n",
    "                    for k in lettermap:\n",
    "                        if k not in d:\n",
    "                            lettermap[k].discard('d')\n",
    "        \n",
    "    lettermap = {k: list(v)[0] for k, v in lettermap.items()}\n",
    "    rev_lettermap = {v: k for k, v in lettermap.items()}\n",
    "    for dig, letters in digit_letters.items():\n",
    "        if dig in nummap:\n",
    "            nummap[dig] = set(nummap[dig])\n",
    "        nummap[dig] = set([rev_lettermap[l] for l in letters])\n",
    "    \n",
    "    out_ans = []\n",
    "    for o in outputs:\n",
    "#         print(o)\n",
    "        num = [d for d in nummap if nummap[d] == set(o)][0]\n",
    "        out_ans.append(num)\n",
    "    out_ans = sum([x*y for x, y in zip(out_ans, [1000, 100, 10, 1])])\n",
    "    count += out_ans\n",
    "            \n",
    "                    "
   ]
  },
  {
   "cell_type": "code",
   "execution_count": 234,
   "metadata": {},
   "outputs": [
    {
     "data": {
      "text/plain": [
       "1011785"
      ]
     },
     "execution_count": 234,
     "metadata": {},
     "output_type": "execute_result"
    }
   ],
   "source": [
    "out_ans\n",
    "# wrong 3641\n",
    "count"
   ]
  },
  {
   "cell_type": "code",
   "execution_count": 237,
   "metadata": {},
   "outputs": [
    {
     "data": {
      "text/plain": [
       "{1: {'e', 'g'},\n",
       " 7: {'a', 'e', 'g'},\n",
       " 4: {'b', 'c', 'e', 'g'},\n",
       " 5: {'a', 'b', 'c', 'd', 'e'},\n",
       " 3: {'a', 'c', 'd', 'e', 'g'},\n",
       " 0: {'a', 'b', 'd', 'e', 'f', 'g'},\n",
       " 2: {'a', 'c', 'd', 'f', 'g'},\n",
       " 6: {'a', 'b', 'c', 'd', 'e', 'f'},\n",
       " 8: {'a', 'b', 'c', 'd', 'e', 'f', 'g'},\n",
       " 9: {'a', 'b', 'c', 'd', 'e', 'g'}}"
      ]
     },
     "execution_count": 237,
     "metadata": {},
     "output_type": "execute_result"
    }
   ],
   "source": [
    "nummap"
   ]
  },
  {
   "cell_type": "code",
   "execution_count": 228,
   "metadata": {},
   "outputs": [
    {
     "name": "stdout",
     "output_type": "stream",
     "text": [
      "7000000000000 1000\n",
      "0 100\n",
      "0 10\n",
      "9 1\n"
     ]
    },
    {
     "data": {
      "text/plain": [
       "[None, None, None, None]"
      ]
     },
     "execution_count": 228,
     "metadata": {},
     "output_type": "execute_result"
    }
   ],
   "source": [
    "[print(x, y) for x, y in zip(out_ans, [1000, 100, 10, 1])]"
   ]
  },
  {
   "cell_type": "code",
   "execution_count": 204,
   "metadata": {},
   "outputs": [
    {
     "data": {
      "text/plain": [
       "{'a': 'a', 'c': 'b', 'e': 'c', 'f': 'd', 'd': 'e', 'g': 'f', 'b': 'g'}"
      ]
     },
     "execution_count": 204,
     "metadata": {},
     "output_type": "execute_result"
    }
   ],
   "source": [
    "lettermap\n",
    "rev_lettermap"
   ]
  },
  {
   "cell_type": "code",
   "execution_count": 205,
   "metadata": {},
   "outputs": [
    {
     "data": {
      "text/plain": [
       "{1: {'b', 'd'},\n",
       " 7: {'a', 'b', 'd'},\n",
       " 4: {'b', 'd', 'e', 'g'},\n",
       " 5: {'a', 'd', 'e', 'f', 'g'},\n",
       " 3: {'a', 'b', 'd', 'e', 'f'},\n",
       " 0: {'a', 'b', 'c', 'd', 'f', 'g'},\n",
       " 2: {'a', 'b', 'c', 'e', 'f'},\n",
       " 6: {'a', 'c', 'd', 'e', 'f', 'g'},\n",
       " 8: {'a', 'b', 'c', 'd', 'e', 'f', 'g'},\n",
       " 9: {'a', 'b', 'd', 'e', 'f', 'g'}}"
      ]
     },
     "execution_count": 205,
     "metadata": {},
     "output_type": "execute_result"
    }
   ],
   "source": [
    "nummap"
   ]
  },
  {
   "cell_type": "code",
   "execution_count": 202,
   "metadata": {},
   "outputs": [
    {
     "data": {
      "text/plain": [
       "'abcdfg'"
      ]
     },
     "execution_count": 202,
     "metadata": {},
     "output_type": "execute_result"
    }
   ],
   "source": [
    "letters"
   ]
  },
  {
   "cell_type": "code",
   "execution_count": 236,
   "metadata": {},
   "outputs": [
    {
     "ename": "TypeError",
     "evalue": "unhashable type: 'set'",
     "output_type": "error",
     "traceback": [
      "\u001b[0;31m---------------------------------------------------------------------------\u001b[0m",
      "\u001b[0;31mTypeError\u001b[0m                                 Traceback (most recent call last)",
      "\u001b[0;32m<ipython-input-236-abc35b90ca15>\u001b[0m in \u001b[0;36m<module>\u001b[0;34m\u001b[0m\n\u001b[0;32m----> 1\u001b[0;31m \u001b[0;34m{\u001b[0m\u001b[0mset\u001b[0m\u001b[0;34m(\u001b[0m\u001b[0;34m[\u001b[0m\u001b[0;36m1\u001b[0m\u001b[0;34m]\u001b[0m\u001b[0;34m)\u001b[0m\u001b[0;34m:\u001b[0m \u001b[0;36m1\u001b[0m\u001b[0;34m}\u001b[0m\u001b[0;34m\u001b[0m\u001b[0;34m\u001b[0m\u001b[0m\n\u001b[0m",
      "\u001b[0;31mTypeError\u001b[0m: unhashable type: 'set'"
     ]
    }
   ],
   "source": [
    "{set([1]): 1}"
   ]
  },
  {
   "cell_type": "code",
   "execution_count": null,
   "metadata": {},
   "outputs": [],
   "source": []
  }
 ],
 "metadata": {
  "kernelspec": {
   "display_name": "Python 3",
   "language": "python",
   "name": "python3"
  },
  "language_info": {
   "codemirror_mode": {
    "name": "ipython",
    "version": 3
   },
   "file_extension": ".py",
   "mimetype": "text/x-python",
   "name": "python",
   "nbconvert_exporter": "python",
   "pygments_lexer": "ipython3",
   "version": "3.8.5"
  }
 },
 "nbformat": 4,
 "nbformat_minor": 4
}
