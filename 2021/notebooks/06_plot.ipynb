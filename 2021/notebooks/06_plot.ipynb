{
 "cells": [
  {
   "cell_type": "code",
   "execution_count": 76,
   "metadata": {},
   "outputs": [],
   "source": [
    "from collections import Counter\n",
    "from itertools import product\n",
    "import numpy as np\n",
    "import matplotlib.pyplot as plt"
   ]
  },
  {
   "cell_type": "code",
   "execution_count": 77,
   "metadata": {},
   "outputs": [],
   "source": [
    "day = '06'\n",
    "fn = f'../{day}/{day}.txt'\n",
    "# fn = f'../{day}/{day}_test.txt'\n",
    "\n",
    "\n",
    "with open(fn) as fh:\n",
    "    lines = fh.read().split('\\n')\n",
    "    \n",
    "fish = [int(x) for x in lines[0].split(',')]"
   ]
  },
  {
   "cell_type": "code",
   "execution_count": 78,
   "metadata": {},
   "outputs": [],
   "source": [
    "# 7 days\n",
    "# 2 day wait\n",
    "# new start at 8\n",
    "# old start at 6"
   ]
  },
  {
   "cell_type": "code",
   "execution_count": 79,
   "metadata": {},
   "outputs": [],
   "source": [
    "day = 0\n",
    "def next_day(fish):\n",
    "    new_fish = [0 for _ in range(len(fish))]\n",
    "    for f_ind, f in enumerate(fish):\n",
    "        if f - 1 == -1:\n",
    "            new_fish.append(8)\n",
    "            new_fish[f_ind] = 6\n",
    "        else:\n",
    "            new_fish[f_ind] = f - 1\n",
    "    return new_fish"
   ]
  },
  {
   "cell_type": "code",
   "execution_count": 72,
   "metadata": {},
   "outputs": [],
   "source": [
    "def count_day(fc):\n",
    "    new_fc = Counter()\n",
    "    for k in range(9):\n",
    "        new_fc[k] = 0\n",
    "    for k, v in fc.items():\n",
    "        if k==0:\n",
    "            new_fc[8] += v\n",
    "            new_fc[6] += v\n",
    "        else:\n",
    "            new_fc[k - 1] += v\n",
    "    return new_fc \n",
    "\n",
    "def num_f(fc):\n",
    "    count = 0\n",
    "    for v in fc.values():\n",
    "        count += v\n",
    "    return count"
   ]
  },
  {
   "cell_type": "code",
   "execution_count": 75,
   "metadata": {},
   "outputs": [
    {
     "name": "stdout",
     "output_type": "stream",
     "text": [
      "Counter({1: 125, 3: 48, 2: 44, 5: 43, 4: 40})\n",
      "1650309278600\n"
     ]
    }
   ],
   "source": [
    "day = '06'\n",
    "fn = f'../{day}/{day}.txt'\n",
    "# fn = f'../{day}/{day}_test.txt'\n",
    "\n",
    "\n",
    "with open(fn) as fh:\n",
    "    lines = fh.read().split('\\n')\n",
    "    \n",
    "fish = [int(x) for x in lines[0].split(',')]\n",
    "\n",
    "fc = Counter(fish)\n",
    "print(fc)\n",
    "for d in range(256):\n",
    "    fc = count_day(fc)\n",
    "print(num_f(fc))"
   ]
  },
  {
   "cell_type": "code",
   "execution_count": 63,
   "metadata": {},
   "outputs": [
    {
     "data": {
      "text/plain": [
       "Counter({8: 2, 0: 1, 6: 1, 7: 1})"
      ]
     },
     "execution_count": 63,
     "metadata": {},
     "output_type": "execute_result"
    }
   ],
   "source": [
    "fc"
   ]
  },
  {
   "cell_type": "code",
   "execution_count": 55,
   "metadata": {},
   "outputs": [
    {
     "data": {
      "text/plain": [
       "9"
      ]
     },
     "execution_count": 55,
     "metadata": {},
     "output_type": "execute_result"
    }
   ],
   "source": [
    "count = 0\n",
    "for v in fc.values():\n",
    "    count += v\n",
    "count"
   ]
  },
  {
   "cell_type": "code",
   "execution_count": 22,
   "metadata": {},
   "outputs": [],
   "source": [
    "n_fish = [len(fish)]\n",
    "for d in range(80):\n",
    "    fish = next_day(fish)\n",
    "    n_fish.append(len(fish))\n",
    "# print(fish)"
   ]
  },
  {
   "cell_type": "code",
   "execution_count": 80,
   "metadata": {},
   "outputs": [
    {
     "data": {
      "text/plain": [
       "(0.0, 85.0)"
      ]
     },
     "execution_count": 80,
     "metadata": {},
     "output_type": "execute_result"
    },
    {
     "data": {
      "image/png": "[encoded data removed]",
      "text/plain": [
       "<Figure size 432x288 with 1 Axes>"
      ]
     },
     "metadata": {
      "needs_background": "light"
     },
     "output_type": "display_data"
    }
   ],
   "source": [
    "plt.plot(range(len(n_fish)), n_fish)\n",
    "plt.xlim(0, 85)"
   ]
  },
  {
   "cell_type": "code",
   "execution_count": 24,
   "metadata": {},
   "outputs": [
    {
     "name": "stdout",
     "output_type": "stream",
     "text": [
      "0\n",
      "1\n",
      "1\n",
      "2\n",
      "1\n",
      "0\n",
      "0\n",
      "0\n",
      "1\n",
      "1\n",
      "3\n",
      "2\n",
      "2\n",
      "1\n",
      "0\n",
      "1\n",
      "1\n",
      "4\n",
      "3\n",
      "5\n",
      "3\n",
      "2\n",
      "2\n",
      "1\n",
      "5\n",
      "4\n",
      "9\n",
      "6\n",
      "7\n",
      "5\n",
      "3\n",
      "7\n",
      "5\n",
      "14\n",
      "10\n",
      "16\n",
      "11\n",
      "10\n",
      "12\n",
      "8\n",
      "21\n",
      "15\n",
      "30\n",
      "21\n",
      "26\n",
      "23\n",
      "18\n",
      "33\n",
      "23\n",
      "51\n",
      "36\n",
      "56\n",
      "44\n",
      "44\n",
      "56\n",
      "41\n",
      "84\n",
      "59\n",
      "107\n",
      "80\n",
      "100\n",
      "100\n",
      "85\n",
      "140\n",
      "100\n",
      "191\n",
      "139\n",
      "207\n",
      "180\n",
      "185\n",
      "240\n",
      "185\n",
      "331\n",
      "239\n",
      "398\n",
      "319\n",
      "392\n",
      "420\n",
      "370\n",
      "571\n"
     ]
    }
   ],
   "source": [
    "n_fish[70:]\n",
    "for ind, n in enumerate(n_fish):\n",
    "    if ind == 0:\n",
    "        continue\n",
    "    else:\n",
    "        print(n - n_fish[ind - 1])"
   ]
  },
  {
   "cell_type": "code",
   "execution_count": null,
   "metadata": {},
   "outputs": [],
   "source": []
  }
 ],
 "metadata": {
  "kernelspec": {
   "display_name": "Python 3",
   "language": "python",
   "name": "python3"
  },
  "language_info": {
   "codemirror_mode": {
    "name": "ipython",
    "version": 3
   },
   "file_extension": ".py",
   "mimetype": "text/x-python",
   "name": "python",
   "nbconvert_exporter": "python",
   "pygments_lexer": "ipython3",
   "version": "3.8.5"
  }
 },
 "nbformat": 4,
 "nbformat_minor": 4
}
