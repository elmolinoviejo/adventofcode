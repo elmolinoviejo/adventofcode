{
 "cells": [
  {
   "cell_type": "code",
   "execution_count": 11,
   "metadata": {},
   "outputs": [],
   "source": [
    "from collections import Counter, deque\n",
    "from itertools import product\n",
    "import numpy as np\n",
    "import matplotlib.pyplot as plt\n",
    "import networkx as nx"
   ]
  },
  {
   "cell_type": "code",
   "execution_count": 51,
   "metadata": {},
   "outputs": [],
   "source": [
    "def load_input(fn):\n",
    "    dots = []\n",
    "    folds = []\n",
    "    with open(fn) as fh:\n",
    "        in1, in2 = fh.read().split('\\n\\n')\n",
    "        for l in in1.split('\\n'):\n",
    "            dots.append(tuple([int(x) for x in l.split(',')]))\n",
    "        for l in in2.split('\\n'):\n",
    "            d = l.split('fold along ')[1]\n",
    "            folds.append(tuple([d.split('=')[0], int(d.split('=')[1])]))\n",
    "    return dots, folds"
   ]
  },
  {
   "cell_type": "code",
   "execution_count": 63,
   "metadata": {},
   "outputs": [],
   "source": [
    "day = '13'\n",
    "fn = f'../{day}/{day}.txt'\n",
    "# fn = f'../{day}/{day}_test.txt'\n",
    "# fn = f'../{day}/{day}_test2.txt'\n",
    "\n",
    "dots, folds = load_input(fn)\n",
    "dots = set(dots)"
   ]
  },
  {
   "cell_type": "code",
   "execution_count": 64,
   "metadata": {},
   "outputs": [],
   "source": [
    "# x fold left\n",
    "# y fold up\n",
    "\n",
    "def fold(dots, fold):\n",
    "    new_dots = set()\n",
    "    fdir, fd = fold\n",
    "    for d in dots:\n",
    "        x, y = d\n",
    "        if fdir == 'x':\n",
    "            if x < fd:\n",
    "                new_dots.add(d)\n",
    "            else:\n",
    "                #find new x\n",
    "                new_dots.add((fd - (x-fd), y))\n",
    "        if fdir == 'y':\n",
    "            if y < fd:\n",
    "                new_dots.add(d)\n",
    "            else:\n",
    "                new_dots.add((x, fd - (y - fd)))\n",
    "    return new_dots"
   ]
  },
  {
   "cell_type": "code",
   "execution_count": 61,
   "metadata": {},
   "outputs": [
    {
     "name": "stdout",
     "output_type": "stream",
     "text": [
      "722\n",
      "592\n"
     ]
    }
   ],
   "source": [
    "print(len(dots))\n",
    "dots = fold(dots, folds[0])\n",
    "print(len(dots))"
   ]
  },
  {
   "cell_type": "code",
   "execution_count": 65,
   "metadata": {},
   "outputs": [],
   "source": [
    "for f in folds:\n",
    "    dots = fold(dots, f)"
   ]
  },
  {
   "cell_type": "code",
   "execution_count": 67,
   "metadata": {},
   "outputs": [],
   "source": [
    "out = ''\n",
    "for y in range(10):\n",
    "    for x in range(40):\n",
    "        if (x, y) in dots:\n",
    "            out += '#'\n",
    "        else:\n",
    "            out += '.'\n",
    "    out += '\\n'\n",
    "        "
   ]
  },
  {
   "cell_type": "code",
   "execution_count": 68,
   "metadata": {},
   "outputs": [
    {
     "name": "stdout",
     "output_type": "stream",
     "text": [
      "..##..##...##....##.####.####.#..#.#..#.\n",
      "...#.#..#.#..#....#.#....#....#.#..#..#.\n",
      "...#.#....#..#....#.###..###..##...#..#.\n",
      "...#.#.##.####....#.#....#....#.#..#..#.\n",
      "#..#.#..#.#..#.#..#.#....#....#.#..#..#.\n",
      ".##...###.#..#..##..####.#....#..#..##..\n",
      "........................................\n",
      "........................................\n",
      "........................................\n",
      "........................................\n",
      "\n"
     ]
    }
   ],
   "source": [
    "print(out)"
   ]
  },
  {
   "cell_type": "code",
   "execution_count": null,
   "metadata": {},
   "outputs": [],
   "source": []
  }
 ],
 "metadata": {
  "kernelspec": {
   "display_name": "Python 3",
   "language": "python",
   "name": "python3"
  },
  "language_info": {
   "codemirror_mode": {
    "name": "ipython",
    "version": 3
   },
   "file_extension": ".py",
   "mimetype": "text/x-python",
   "name": "python",
   "nbconvert_exporter": "python",
   "pygments_lexer": "ipython3",
   "version": "3.8.5"
  }
 },
 "nbformat": 4,
 "nbformat_minor": 4
}
