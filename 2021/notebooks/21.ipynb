{
 "cells": [
  {
   "cell_type": "code",
   "execution_count": 5,
   "metadata": {},
   "outputs": [],
   "source": [
    "from collections import Counter, deque, defaultdict\n",
    "from itertools import product, count, combinations, cycle, islice\n",
    "import numpy as np\n",
    "import matplotlib.pyplot as plt\n",
    "import networkx as nx"
   ]
  },
  {
   "cell_type": "code",
   "execution_count": 6,
   "metadata": {},
   "outputs": [
    {
     "name": "stdout",
     "output_type": "stream",
     "text": [
      "906093\n"
     ]
    }
   ],
   "source": [
    "start = (10, 7)\n",
    "\n",
    "# start = (4, 8)\n",
    "\n",
    "\n",
    "scores = {0: 0, 1: 0}\n",
    "\n",
    "players = cycle(range(2))\n",
    "nrolls = 0\n",
    "# scores = start\n",
    "\n",
    "boards = (cycle(range(1, 11)), cycle(range(1, 11)))\n",
    "d = cycle(range(1, 101))\n",
    "\n",
    "for _ in range(start[0]):\n",
    "    next(boards[0])\n",
    "for _ in range(start[1]):\n",
    "    next(boards[1])\n",
    "\n",
    "    \n",
    "# for ind in range(1000):\n",
    "while max(scores.values()) < 1000:\n",
    "    p = next(players)\n",
    "    move = 0\n",
    "    for _ in range(3):\n",
    "        move += next(d)\n",
    "        nrolls += 1\n",
    "    for _ in range(move):\n",
    "        score = next(boards[p])\n",
    "    scores[p] += score\n",
    "#     print(scores)\n",
    "\n",
    "print(min(scores.values()) * nrolls)"
   ]
  },
  {
   "cell_type": "code",
   "execution_count": 7,
   "metadata": {},
   "outputs": [],
   "source": [
    "start = (10, 7)\n",
    "\n",
    "start = (4, 8)\n",
    "\n",
    "\n",
    "scores = {0: 0, 1: 0}\n",
    "\n",
    "players = cycle(range(2))\n",
    "nrolls = 0\n",
    "# scores = start\n",
    "\n",
    "boards = (cycle(range(1, 11)), cycle(range(1, 11)))\n",
    "d = cycle(range(1, 101))\n",
    "\n",
    "for _ in range(start[0]):\n",
    "    next(boards[0])\n",
    "for _ in range(start[1]):\n",
    "    next(boards[1])\n",
    "\n",
    "    \n",
    "# for ind in range(1000):\n",
    "while max(scores.values()) < 1000:\n",
    "    p = next(players)\n",
    "    move = 0\n",
    "    for _ in range(3):\n",
    "        move += next(d)\n",
    "        nrolls += 1\n",
    "    for _ in range(move):\n",
    "        score = next(boards[p])\n",
    "    scores[p] += score\n",
    "#     print(scores)\n",
    "\n"
   ]
  },
  {
   "cell_type": "code",
   "execution_count": 8,
   "metadata": {},
   "outputs": [
    {
     "data": {
      "text/plain": [
       "{0: 1000, 1: 745}"
      ]
     },
     "execution_count": 8,
     "metadata": {},
     "output_type": "execute_result"
    }
   ],
   "source": [
    "scores"
   ]
  },
  {
   "cell_type": "code",
   "execution_count": 65,
   "metadata": {},
   "outputs": [
    {
     "data": {
      "text/plain": [
       "906093"
      ]
     },
     "execution_count": 65,
     "metadata": {},
     "output_type": "execute_result"
    }
   ],
   "source": [
    "999 * 907"
   ]
  },
  {
   "cell_type": "code",
   "execution_count": 76,
   "metadata": {},
   "outputs": [
    {
     "data": {
      "text/plain": [
       "29122832702115.668"
      ]
     },
     "execution_count": 76,
     "metadata": {},
     "output_type": "execute_result"
    }
   ],
   "source": [
    "(444356092776315 + 341960390180808) / 27"
   ]
  },
  {
   "cell_type": "code",
   "execution_count": null,
   "metadata": {},
   "outputs": [],
   "source": [
    "'''\n",
    "who gets to 1000 first\n",
    "\n",
    "each 3roll possibility:\n",
    " 111 (3) to 333 (9)\n",
    " 3-9\n",
    "\n",
    "\n",
    "store dictionary of ways to get to each score\n",
    "\n",
    "\n",
    "Wait\n",
    "\n",
    "only the first few steps may matter, then the players can be synced but with different\n",
    "starting numbs\n",
    "\n",
    "'''\n",
    "\n",
    "\n"
   ]
  },
  {
   "cell_type": "code",
   "execution_count": 66,
   "metadata": {},
   "outputs": [],
   "source": [
    "def move_board(start, n):\n",
    "    board = cycle(range(1, 11))\n",
    "    return next(islice(board, start + n - 1, start + n))\n",
    "\n",
    "\n",
    "def n_winners(score_spots, win=21):\n",
    "    ans = 0\n",
    "    winds = [v for k, v in score_spots.items() if k >= win]\n",
    "    for v in winds:\n",
    "        ans += sum(v.values())\n",
    "    return ans\n",
    "\n",
    "\n",
    "#Logic on the winners is wrong, vastly overcounting\n",
    "def step_add_winners(score_spots, nrolls):\n",
    "    init_score_spots = score_spots.copy()\n",
    "    score_spots = {}\n",
    "    for score0, spot_counts in init_score_spots.items():\n",
    "        for start, startc in spot_counts.items():\n",
    "            for roll, rollc in rcount.items():\n",
    "                b = move_board(start, roll)\n",
    "                score = score0 + b\n",
    "                if score not in score_spots:\n",
    "                    score_spots[score] = {}\n",
    "                if b not in score_spots[score]:\n",
    "                    score_spots[score][b] = 0\n",
    "                score_spots[score][b] += rollc * startc\n",
    "                \n",
    "                \n",
    "    wins = n_winners(score_spots)\n",
    "    score_spots = {k:v for k, v in score_spots.items() if k < 21}\n",
    "    for k1, v1 in score_spots.items():\n",
    "        for k2, v2 in v1.items():\n",
    "            score_spots[k1][k2] = v2 * 27\n",
    "    \n",
    "    return score_spots, wins"
   ]
  },
  {
   "cell_type": "code",
   "execution_count": 59,
   "metadata": {},
   "outputs": [],
   "source": [
    "rsums = []\n",
    "for rolls in product(range(1, 4),\n",
    "                     range(1, 4),\n",
    "                     range(1, 4)):\n",
    "    rsums.append(sum(rolls))\n",
    "rcount = Counter(rsums)\n",
    "\n",
    "# score_counts = {0:{}, 1:{}}  # (score, turns): count\n",
    "score_counts = {}\n",
    "\n",
    "wins = {0: 0, 1: 0}\n",
    "\n",
    "#test\n",
    "ss1 = {0: {4: 1}} # score: {spot:count}\n",
    "ss2 = {0: {8: 1}} # score: {spot:count}\n",
    "\n",
    "# ss1 = {0: {10: 1}} # score: {spot:count}\n",
    "# ss2 = {0: {7: 1}} # score: {spot:count}\n",
    "\n",
    "\n",
    "\n",
    "wins1 = []\n",
    "wins2 = []\n",
    "nrolls = 1\n",
    "# while len(ss1) > 0:\n",
    "for _ in range(1):\n",
    "    ss1, w1 = step_add_winners(ss1, nrolls)\n",
    "    wins1.append(w1)\n",
    "    nrolls += 1\n",
    "    ss2, w2 = step_add_winners(ss2, nrolls)\n",
    "    nrolls += 1\n",
    "    wins2.append(w2)"
   ]
  },
  {
   "cell_type": "code",
   "execution_count": 60,
   "metadata": {},
   "outputs": [
    {
     "name": "stdout",
     "output_type": "stream",
     "text": [
      "3537868453659939699\n",
      "444356092776315\n"
     ]
    }
   ],
   "source": [
    "print(sum(wins1))\n",
    "print(444356092776315)"
   ]
  },
  {
   "cell_type": "code",
   "execution_count": null,
   "metadata": {},
   "outputs": [],
   "source": []
  },
  {
   "cell_type": "code",
   "execution_count": 31,
   "metadata": {},
   "outputs": [
    {
     "name": "stdout",
     "output_type": "stream",
     "text": [
      "531441\n"
     ]
    }
   ],
   "source": [
    "ss1\n",
    "x = 0\n",
    "for d in ss1.values():\n",
    "    x += sum([y for y in d.values()])\n",
    "print(x)"
   ]
  },
  {
   "cell_type": "code",
   "execution_count": null,
   "metadata": {},
   "outputs": [],
   "source": [
    "'''\n",
    "1\n",
    "729 (27**2)\n",
    "531441 (27**4)\n",
    "'''"
   ]
  },
  {
   "cell_type": "code",
   "execution_count": 43,
   "metadata": {},
   "outputs": [
    {
     "data": {
      "text/plain": [
       "2784.1156160733963"
      ]
     },
     "execution_count": 43,
     "metadata": {},
     "output_type": "execute_result"
    }
   ],
   "source": [
    "(444356092776315 + 341960390180808)/27**8"
   ]
  },
  {
   "cell_type": "code",
   "execution_count": 18,
   "metadata": {},
   "outputs": [
    {
     "data": {
      "text/plain": [
       "{1: {1: 27},\n",
       " 2: {2: 81},\n",
       " 3: {3: 162},\n",
       " 4: {4: 189},\n",
       " 5: {5: 162},\n",
       " 6: {6: 81},\n",
       " 7: {7: 27}}"
      ]
     },
     "execution_count": 18,
     "metadata": {},
     "output_type": "execute_result"
    }
   ],
   "source": [
    "ss2"
   ]
  },
  {
   "cell_type": "code",
   "execution_count": 58,
   "metadata": {},
   "outputs": [
    {
     "name": "stdout",
     "output_type": "stream",
     "text": [
      "3537868453659939699\n",
      "444356092776315\n"
     ]
    }
   ],
   "source": [
    "print(sum(wins1))\n",
    "print(444356092776315)"
   ]
  },
  {
   "cell_type": "code",
   "execution_count": 54,
   "metadata": {},
   "outputs": [],
   "source": [
    "def step_add_winners(score_spots, nrolls):\n",
    "    init_score_spots = score_spots.copy()\n",
    "    score_spots = {}\n",
    "    for score0, spot_counts in init_score_spots.items():\n",
    "        for start, startc in spot_counts.items():\n",
    "            for roll, rollc in rcount.items():\n",
    "                b = move_board(start, roll)\n",
    "                score = score0 + b\n",
    "                if score not in score_spots:\n",
    "                    score_spots[score] = {}\n",
    "                if b not in score_spots[score]:\n",
    "                    score_spots[score][b] = 0\n",
    "                score_spots[score][b] += rollc * startc\n",
    "                \n",
    "                \n",
    "    wins = n_winners(score_spots)\n",
    "    score_spots = {k:v for k, v in score_spots.items() if k < 21}\n",
    "    for k1, v1 in score_spots.items():\n",
    "        for k2, v2 in v1.items():\n",
    "            score_spots[k1][k2] = v2 * 27\n",
    "    \n",
    "    return score_spots, wins"
   ]
  },
  {
   "cell_type": "code",
   "execution_count": 174,
   "metadata": {},
   "outputs": [],
   "source": [
    "ans = 0\n",
    "winds = [v for k, v in score_spots.items() if k > 21]\n",
    "for v in winds:\n",
    "    ans += sum(v.values())\n",
    "    "
   ]
  },
  {
   "cell_type": "code",
   "execution_count": 10,
   "metadata": {},
   "outputs": [],
   "source": [
    "def move_board(start, n):\n",
    "    board = cycle(range(1, 11))\n",
    "    return next(islice(board, start + n - 1, start + n))\n",
    "\n",
    "\n",
    "def n_winners(score_spots, win=21):\n",
    "    ans = 0\n",
    "    winds = [v for k, v in score_spots.items() if k >= win]\n",
    "    for v in winds:\n",
    "        ans += sum(v.values())\n",
    "    return ans\n"
   ]
  },
  {
   "cell_type": "code",
   "execution_count": 128,
   "metadata": {},
   "outputs": [
    {
     "data": {
      "text/plain": [
       "8"
      ]
     },
     "execution_count": 128,
     "metadata": {},
     "output_type": "execute_result"
    }
   ],
   "source": [
    "# move_board(4, 4)"
   ]
  },
  {
   "cell_type": "code",
   "execution_count": 88,
   "metadata": {},
   "outputs": [
    {
     "data": {
      "text/plain": [
       "0"
      ]
     },
     "execution_count": 88,
     "metadata": {},
     "output_type": "execute_result"
    }
   ],
   "source": [
    "steps = 0\n",
    "(10 + steps) % 10"
   ]
  },
  {
   "cell_type": "code",
   "execution_count": 101,
   "metadata": {},
   "outputs": [
    {
     "data": {
      "text/plain": [
       "10"
      ]
     },
     "execution_count": 101,
     "metadata": {},
     "output_type": "execute_result"
    }
   ],
   "source": [
    "d = cycle(range(1, 11))\n",
    "n = 10000\n",
    "next(islice(d, n-1, n))"
   ]
  },
  {
   "cell_type": "code",
   "execution_count": 125,
   "metadata": {},
   "outputs": [
    {
     "data": {
      "text/plain": [
       "Counter({3: 1, 4: 3, 5: 6, 6: 7, 7: 6, 8: 3, 9: 1})"
      ]
     },
     "execution_count": 125,
     "metadata": {},
     "output_type": "execute_result"
    }
   ],
   "source": [
    "rcount"
   ]
  },
  {
   "cell_type": "code",
   "execution_count": null,
   "metadata": {},
   "outputs": [],
   "source": []
  }
 ],
 "metadata": {
  "kernelspec": {
   "display_name": "Python 3",
   "language": "python",
   "name": "python3"
  },
  "language_info": {
   "codemirror_mode": {
    "name": "ipython",
    "version": 3
   },
   "file_extension": ".py",
   "mimetype": "text/x-python",
   "name": "python",
   "nbconvert_exporter": "python",
   "pygments_lexer": "ipython3",
   "version": "3.8.5"
  }
 },
 "nbformat": 4,
 "nbformat_minor": 4
}
