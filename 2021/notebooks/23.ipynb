{
 "cells": [
  {
   "cell_type": "code",
   "execution_count": 1,
   "metadata": {},
   "outputs": [],
   "source": [
    "from collections import Counter, deque, defaultdict\n",
    "from itertools import product, count, combinations\n",
    "import numpy as np\n",
    "import matplotlib.pyplot as plt\n",
    "import networkx as nx"
   ]
  },
  {
   "cell_type": "code",
   "execution_count": null,
   "metadata": {},
   "outputs": [],
   "source": [
    "'''\n",
    "7 resting spots\n",
    "8 final spots\n",
    "'''"
   ]
  },
  {
   "cell_type": "code",
   "execution_count": 28,
   "metadata": {},
   "outputs": [],
   "source": [
    "G = nx.Graph()\n",
    "\n",
    "for n in range(7):\n",
    "    G.add_node(str(n))\n",
    "    \n",
    "for n in product('ABCD', '12'):\n",
    "    G.add_node(''.join(n))\n",
    "    \n",
    "G.add_edge('0', '1', w=1)\n",
    "G.add_edge('1', '2', w=2)\n",
    "G.add_edge('2', '3', w=2)\n",
    "G.add_edge('3', '4', w=2)\n",
    "G.add_edge('4', '5', w=2)\n",
    "G.add_edge('5', '6', w=1)\n",
    "\n",
    "for l in 'ABCD':\n",
    "    G.add_edge(l+'1', l+'2', w=1)\n",
    "\n",
    "edge_d = {'A': '12',\n",
    "          'B': '23',\n",
    "          'C': '34',\n",
    "          'D': '45'}\n",
    "for l, ns in edge_d.items():\n",
    "    for n in ns:\n",
    "        G.add_edge(l+'1', n, w=1)"
   ]
  },
  {
   "cell_type": "code",
   "execution_count": 29,
   "metadata": {},
   "outputs": [
    {
     "data": {
      "text/plain": [
       "EdgeView([('0', '1'), ('1', '2'), ('1', 'A1'), ('2', '3'), ('2', 'A1'), ('2', 'B1'), ('3', '4'), ('3', 'B1'), ('3', 'C1'), ('4', '5'), ('4', 'C1'), ('4', 'D1'), ('5', '6'), ('5', 'D1'), ('A1', 'A2'), ('B1', 'B2'), ('C1', 'C2'), ('D1', 'D2')])"
      ]
     },
     "execution_count": 29,
     "metadata": {},
     "output_type": "execute_result"
    }
   ],
   "source": [
    "G.edges"
   ]
  },
  {
   "cell_type": "code",
   "execution_count": 30,
   "metadata": {},
   "outputs": [
    {
     "data": {
      "text/plain": [
       "NodeView(('0', '1', '2', '3', '4', '5', '6', 'A1', 'A2', 'B1', 'B2', 'C1', 'C2', 'D1', 'D2'))"
      ]
     },
     "execution_count": 30,
     "metadata": {},
     "output_type": "execute_result"
    }
   ],
   "source": [
    "G.nodes"
   ]
  },
  {
   "cell_type": "code",
   "execution_count": 31,
   "metadata": {},
   "outputs": [
    {
     "data": {
      "image/png": "[encoded data removed]",
      "text/plain": [
       "<Figure size 432x288 with 1 Axes>"
      ]
     },
     "metadata": {},
     "output_type": "display_data"
    }
   ],
   "source": [
    "nx.draw(G)"
   ]
  },
  {
   "cell_type": "code",
   "execution_count": null,
   "metadata": {},
   "outputs": [],
   "source": []
  }
 ],
 "metadata": {
  "kernelspec": {
   "display_name": "Python 3",
   "language": "python",
   "name": "python3"
  },
  "language_info": {
   "codemirror_mode": {
    "name": "ipython",
    "version": 3
   },
   "file_extension": ".py",
   "mimetype": "text/x-python",
   "name": "python",
   "nbconvert_exporter": "python",
   "pygments_lexer": "ipython3",
   "version": "3.8.5"
  }
 },
 "nbformat": 4,
 "nbformat_minor": 4
}
