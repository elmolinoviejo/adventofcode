{
 "cells": [
  {
   "cell_type": "code",
   "execution_count": 1,
   "metadata": {},
   "outputs": [],
   "source": [
    "from collections import Counter, deque, defaultdict\n",
    "from itertools import product\n",
    "import numpy as np\n",
    "import matplotlib.pyplot as plt\n",
    "import networkx as nx"
   ]
  },
  {
   "cell_type": "code",
   "execution_count": 67,
   "metadata": {},
   "outputs": [],
   "source": [
    "def load_input(fn):\n",
    "    with open(fn) as fh:\n",
    "        probs = [p for p in fh.read().split('\\n')]\n",
    "        \n",
    "    return probs\n",
    "\n",
    "\n",
    "def get_pairs(p):\n",
    "\n",
    "    n_open = 0\n",
    "    n_mid = None\n",
    "    for ind, s in enumerate(p):\n",
    "        if s == '[':\n",
    "            n_open += 1\n",
    "        if s == ',':\n",
    "            if not n_mid:\n",
    "                n_mid = 0\n",
    "            n_mid += 1\n",
    "        if n_mid == n_open - 1:\n",
    "            print(ind)\n",
    "            split_ind = ind\n",
    "            p1, p2 = p[1:split_ind+1], p[split_ind+2:-1]\n",
    "            return p1, p2"
   ]
  },
  {
   "cell_type": "code",
   "execution_count": 63,
   "metadata": {},
   "outputs": [],
   "source": [
    "day = '18'\n",
    "fn = f'../{day}/{day}.txt'\n",
    "\n",
    "ps = load_input(fn)"
   ]
  },
  {
   "cell_type": "code",
   "execution_count": 64,
   "metadata": {},
   "outputs": [
    {
     "name": "stdout",
     "output_type": "stream",
     "text": [
      "[[[[6,3],7],0],[[7,0],0]]\n"
     ]
    },
    {
     "data": {
      "text/plain": [
       "('', '[[6,3],7],0],[[7,0],0]')"
      ]
     },
     "execution_count": 64,
     "metadata": {},
     "output_type": "execute_result"
    }
   ],
   "source": [
    "print(ps[0])\n",
    "get_ps(ps[0])"
   ]
  },
  {
   "cell_type": "code",
   "execution_count": null,
   "metadata": {},
   "outputs": [],
   "source": []
  },
  {
   "cell_type": "code",
   "execution_count": 69,
   "metadata": {},
   "outputs": [
    {
     "data": {
      "text/plain": [
       "('', '[[[9,8],1],2],3],4')"
      ]
     },
     "execution_count": 69,
     "metadata": {},
     "output_type": "execute_result"
    }
   ],
   "source": [
    "# explode test\n",
    "p = '[[[[[9,8],1],2],3],4]'\n",
    "get_ps(p)"
   ]
  },
  {
   "cell_type": "code",
   "execution_count": null,
   "metadata": {},
   "outputs": [],
   "source": []
  }
 ],
 "metadata": {
  "kernelspec": {
   "display_name": "Python 3",
   "language": "python",
   "name": "python3"
  },
  "language_info": {
   "codemirror_mode": {
    "name": "ipython",
    "version": 3
   },
   "file_extension": ".py",
   "mimetype": "text/x-python",
   "name": "python",
   "nbconvert_exporter": "python",
   "pygments_lexer": "ipython3",
   "version": "3.8.5"
  }
 },
 "nbformat": 4,
 "nbformat_minor": 4
}
