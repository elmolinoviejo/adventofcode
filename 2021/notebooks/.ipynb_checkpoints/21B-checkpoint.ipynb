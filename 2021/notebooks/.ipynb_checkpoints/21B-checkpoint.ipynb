{
 "cells": [
  {
   "cell_type": "code",
   "execution_count": 1,
   "metadata": {},
   "outputs": [],
   "source": [
    "from collections import Counter, deque, defaultdict\n",
    "from itertools import product, count, combinations, cycle, islice\n",
    "import numpy as np\n",
    "import matplotlib.pyplot as plt\n",
    "import networkx as nx"
   ]
  },
  {
   "cell_type": "code",
   "execution_count": 2,
   "metadata": {},
   "outputs": [
    {
     "name": "stdout",
     "output_type": "stream",
     "text": [
      "906093\n"
     ]
    }
   ],
   "source": [
    "start = (10, 7)\n",
    "\n",
    "# start = (4, 8)\n",
    "\n",
    "\n",
    "scores = {0: 0, 1: 0}\n",
    "\n",
    "players = cycle(range(2))\n",
    "nrolls = 0\n",
    "# scores = start\n",
    "\n",
    "boards = (cycle(range(1, 11)), cycle(range(1, 11)))\n",
    "d = cycle(range(1, 101))\n",
    "\n",
    "for _ in range(start[0]):\n",
    "    next(boards[0])\n",
    "for _ in range(start[1]):\n",
    "    next(boards[1])\n",
    "\n",
    "    \n",
    "# for ind in range(1000):\n",
    "while max(scores.values()) < 1000:\n",
    "    p = next(players)\n",
    "    move = 0\n",
    "    for _ in range(3):\n",
    "        move += next(d)\n",
    "        nrolls += 1\n",
    "    for _ in range(move):\n",
    "        score = next(boards[p])\n",
    "    scores[p] += score\n",
    "#     print(scores)\n",
    "\n",
    "print(min(scores.values()) * nrolls)"
   ]
  },
  {
   "cell_type": "code",
   "execution_count": 77,
   "metadata": {},
   "outputs": [],
   "source": [
    "def move_board(start, n):\n",
    "    board = cycle(range(1, 11))\n",
    "    return next(islice(board, start + n - 1, start + n))\n",
    "\n",
    "\n",
    "def get_board_counts():\n",
    "    bscorecounts = {}\n",
    "    for bpos in range(1, 11):\n",
    "        bscores = []\n",
    "        for rolls in product(range(1, 4), repeat=3):\n",
    "            b = bpos\n",
    "            rollsum = sum(rolls)\n",
    "            score = move_board(b, rollsum)\n",
    "#             for r in rolls:\n",
    "#                 b = move_board(b, r)\n",
    "#                 score += b\n",
    "            bscores.append(tuple([score, score]))\n",
    "        bscorecounts[bpos] = Counter(bscores)\n",
    "    return bscorecounts\n",
    "\n",
    "\n",
    "def roll_update_counts(scs, pturn, nwins):\n",
    "    newscs = {}\n",
    "    for state, count in scs.items():\n",
    "        s1, s2, b1, b2 = state\n",
    "        scores = (s1, s2)\n",
    "        boards = (b1, b2)\n",
    "        \n",
    "        for (deltas, newb), newc in bscorecounts[boards[pturn]].items():\n",
    "            newscore = scores[pturn] + deltas\n",
    "            if newscore >= 21:\n",
    "                nwins[pturn] += count * newc\n",
    "            else:\n",
    "                if pturn == 0:\n",
    "                    newstate = (newscore, s2, newb, b2)\n",
    "                else:\n",
    "                    newstate = (s1, newscore, b1, newb)\n",
    "                if newstate not in newscs:\n",
    "                    newscs[newstate] = count * newc\n",
    "                else:\n",
    "                    newscs[newstate] += count * newc\n",
    "        \n",
    "    \n",
    "    # next player turn\n",
    "    if pturn==0:\n",
    "        pturn = 1\n",
    "    else:\n",
    "        pturn = 0\n",
    "    \n",
    "    return newscs, pturn, nwins"
   ]
  },
  {
   "cell_type": "code",
   "execution_count": 86,
   "metadata": {},
   "outputs": [
    {
     "name": "stdout",
     "output_type": "stream",
     "text": [
      "27\n",
      "729\n",
      "19683\n",
      "531441\n",
      "12165552\n",
      "305073328\n",
      "3761297469\n",
      "54301070331\n",
      "261595193205\n",
      "1550047591315\n",
      "2513593435865\n",
      "6975501181270\n",
      "2548280216838\n",
      "1769048094960\n",
      "79403248320\n",
      "9970026748\n",
      "3404547\n",
      "22761\n",
      "0\n"
     ]
    }
   ],
   "source": [
    "'''\n",
    "store dict of (score1, score2, b1, b2): count\n",
    "'''\n",
    "\n",
    "start = (10, 7)\n",
    "# start = (4, 8)\n",
    "\n",
    "b1, b2 = start\n",
    "bscorecounts = get_board_counts()\n",
    "\n",
    "scs = dict()\n",
    "scs[(0, 0, b1, b2)] = 1\n",
    "nwins = [0, 0]\n",
    "pturn = 0\n",
    "\n",
    "\n",
    "while scs:\n",
    "    \n",
    "    scs, pturn, nwins = roll_update_counts(scs, pturn, nwins)\n",
    "    print(sum([v for v in scs.values()]))"
   ]
  },
  {
   "cell_type": "code",
   "execution_count": 89,
   "metadata": {},
   "outputs": [
    {
     "name": "stdout",
     "output_type": "stream",
     "text": [
      "274291038026362\n"
     ]
    }
   ],
   "source": [
    "print(max(nwins))"
   ]
  },
  {
   "cell_type": "code",
   "execution_count": null,
   "metadata": {},
   "outputs": [],
   "source": [
    "'''\n",
    "make deque of roll orders, step through each game(s)\n",
    "'''\n",
    "# d = deque([((b1, b2), 0, 1, [], (0, 0))])# (boardP1, boardP2), Pturn, count [scoreorder], (scores)\n",
    "# d = deque([(b1, b2, 2, c, [r]) for r, c  in rcount.items()]) \n",
    "\n",
    "\n",
    "# while d:\n",
    "for _ in range(1):\n",
    "    last_turn = d.popleft()\n",
    "    board_locs, pturn, count, scoreorder, scores = last_turn\n",
    "    \n",
    "    for r, c in rcount.items():\n",
    "        new_rolls = [x for x in rolls]\n",
    "        new_rolls.append(r)\n",
    "        \n",
    "        new_count = count * c\n",
    "        \n",
    "        round_score = move_board(board_locs[pturn], r)\n",
    "\n"
   ]
  },
  {
   "cell_type": "code",
   "execution_count": 31,
   "metadata": {},
   "outputs": [
    {
     "name": "stdout",
     "output_type": "stream",
     "text": [
      "531441\n"
     ]
    }
   ],
   "source": [
    "ss1\n",
    "x = 0\n",
    "for d in ss1.values():\n",
    "    x += sum([y for y in d.values()])\n",
    "print(x)"
   ]
  },
  {
   "cell_type": "code",
   "execution_count": null,
   "metadata": {},
   "outputs": [],
   "source": [
    "'''\n",
    "1\n",
    "729 (27**2)\n",
    "531441 (27**4)\n",
    "'''"
   ]
  },
  {
   "cell_type": "code",
   "execution_count": 43,
   "metadata": {},
   "outputs": [
    {
     "data": {
      "text/plain": [
       "2784.1156160733963"
      ]
     },
     "execution_count": 43,
     "metadata": {},
     "output_type": "execute_result"
    }
   ],
   "source": [
    "(444356092776315 + 341960390180808)/27**8"
   ]
  },
  {
   "cell_type": "code",
   "execution_count": 18,
   "metadata": {},
   "outputs": [
    {
     "data": {
      "text/plain": [
       "{1: {1: 27},\n",
       " 2: {2: 81},\n",
       " 3: {3: 162},\n",
       " 4: {4: 189},\n",
       " 5: {5: 162},\n",
       " 6: {6: 81},\n",
       " 7: {7: 27}}"
      ]
     },
     "execution_count": 18,
     "metadata": {},
     "output_type": "execute_result"
    }
   ],
   "source": [
    "ss2"
   ]
  },
  {
   "cell_type": "code",
   "execution_count": 58,
   "metadata": {},
   "outputs": [
    {
     "name": "stdout",
     "output_type": "stream",
     "text": [
      "3537868453659939699\n",
      "444356092776315\n"
     ]
    }
   ],
   "source": [
    "print(sum(wins1))\n",
    "print(444356092776315)"
   ]
  },
  {
   "cell_type": "code",
   "execution_count": 54,
   "metadata": {},
   "outputs": [],
   "source": [
    "def step_add_winners(score_spots, nrolls):\n",
    "    init_score_spots = score_spots.copy()\n",
    "    score_spots = {}\n",
    "    for score0, spot_counts in init_score_spots.items():\n",
    "        for start, startc in spot_counts.items():\n",
    "            for roll, rollc in rcount.items():\n",
    "                b = move_board(start, roll)\n",
    "                score = score0 + b\n",
    "                if score not in score_spots:\n",
    "                    score_spots[score] = {}\n",
    "                if b not in score_spots[score]:\n",
    "                    score_spots[score][b] = 0\n",
    "                score_spots[score][b] += rollc * startc\n",
    "                \n",
    "                \n",
    "    wins = n_winners(score_spots)\n",
    "    score_spots = {k:v for k, v in score_spots.items() if k < 21}\n",
    "    for k1, v1 in score_spots.items():\n",
    "        for k2, v2 in v1.items():\n",
    "            score_spots[k1][k2] = v2 * 27\n",
    "    \n",
    "    return score_spots, wins"
   ]
  },
  {
   "cell_type": "code",
   "execution_count": 174,
   "metadata": {},
   "outputs": [],
   "source": [
    "ans = 0\n",
    "winds = [v for k, v in score_spots.items() if k > 21]\n",
    "for v in winds:\n",
    "    ans += sum(v.values())\n",
    "    "
   ]
  },
  {
   "cell_type": "code",
   "execution_count": 10,
   "metadata": {},
   "outputs": [],
   "source": [
    "def move_board(start, n):\n",
    "    board = cycle(range(1, 11))\n",
    "    return next(islice(board, start + n - 1, start + n))\n",
    "\n",
    "\n",
    "def n_winners(score_spots, win=21):\n",
    "    ans = 0\n",
    "    winds = [v for k, v in score_spots.items() if k >= win]\n",
    "    for v in winds:\n",
    "        ans += sum(v.values())\n",
    "    return ans\n"
   ]
  },
  {
   "cell_type": "code",
   "execution_count": 128,
   "metadata": {},
   "outputs": [
    {
     "data": {
      "text/plain": [
       "8"
      ]
     },
     "execution_count": 128,
     "metadata": {},
     "output_type": "execute_result"
    }
   ],
   "source": [
    "# move_board(4, 4)"
   ]
  },
  {
   "cell_type": "code",
   "execution_count": 88,
   "metadata": {},
   "outputs": [
    {
     "data": {
      "text/plain": [
       "0"
      ]
     },
     "execution_count": 88,
     "metadata": {},
     "output_type": "execute_result"
    }
   ],
   "source": [
    "steps = 0\n",
    "(10 + steps) % 10"
   ]
  },
  {
   "cell_type": "code",
   "execution_count": 101,
   "metadata": {},
   "outputs": [
    {
     "data": {
      "text/plain": [
       "10"
      ]
     },
     "execution_count": 101,
     "metadata": {},
     "output_type": "execute_result"
    }
   ],
   "source": [
    "d = cycle(range(1, 11))\n",
    "n = 10000\n",
    "next(islice(d, n-1, n))"
   ]
  },
  {
   "cell_type": "code",
   "execution_count": 125,
   "metadata": {},
   "outputs": [
    {
     "data": {
      "text/plain": [
       "Counter({3: 1, 4: 3, 5: 6, 6: 7, 7: 6, 8: 3, 9: 1})"
      ]
     },
     "execution_count": 125,
     "metadata": {},
     "output_type": "execute_result"
    }
   ],
   "source": [
    "rcount"
   ]
  },
  {
   "cell_type": "code",
   "execution_count": null,
   "metadata": {},
   "outputs": [],
   "source": [
    "def n_winners(score_spots, win=21):\n",
    "    ans = 0\n",
    "    winds = [v for k, v in score_spots.items() if k >= win]\n",
    "    for v in winds:\n",
    "        ans += sum(v.values())\n",
    "    return ans\n",
    "\n",
    "\n",
    "#Logic on the winners is wrong, vastly overcounting\n",
    "def step_add_winners(score_spots, nrolls):\n",
    "    init_score_spots = score_spots.copy()\n",
    "    score_spots = {}\n",
    "    for score0, spot_counts in init_score_spots.items():\n",
    "        for start, startc in spot_counts.items():\n",
    "            for roll, rollc in rcount.items():\n",
    "                b = move_board(start, roll)\n",
    "                score = score0 + b\n",
    "                if score not in score_spots:\n",
    "                    score_spots[score] = {}\n",
    "                if b not in score_spots[score]:\n",
    "                    score_spots[score][b] = 0\n",
    "                score_spots[score][b] += rollc * startc\n",
    "                \n",
    "                \n",
    "    wins = n_winners(score_spots)\n",
    "    score_spots = {k:v for k, v in score_spots.items() if k < 21}\n",
    "    for k1, v1 in score_spots.items():\n",
    "        for k2, v2 in v1.items():\n",
    "            score_spots[k1][k2] = v2 * 27\n",
    "    \n",
    "    return score_spots, wins"
   ]
  }
 ],
 "metadata": {
  "kernelspec": {
   "display_name": "Python 3",
   "language": "python",
   "name": "python3"
  },
  "language_info": {
   "codemirror_mode": {
    "name": "ipython",
    "version": 3
   },
   "file_extension": ".py",
   "mimetype": "text/x-python",
   "name": "python",
   "nbconvert_exporter": "python",
   "pygments_lexer": "ipython3",
   "version": "3.8.5"
  }
 },
 "nbformat": 4,
 "nbformat_minor": 4
}
