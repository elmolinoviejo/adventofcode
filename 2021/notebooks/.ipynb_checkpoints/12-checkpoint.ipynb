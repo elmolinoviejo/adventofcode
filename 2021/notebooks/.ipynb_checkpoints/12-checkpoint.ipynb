{
 "cells": [
  {
   "cell_type": "code",
   "execution_count": 4,
   "metadata": {},
   "outputs": [],
   "source": [
    "from collections import Counter, deque\n",
    "from itertools import product\n",
    "import numpy as np\n",
    "import matplotlib.pyplot as plt\n",
    "import networkx as nx"
   ]
  },
  {
   "cell_type": "code",
   "execution_count": 158,
   "metadata": {},
   "outputs": [],
   "source": [
    "def load_input(fn):\n",
    "    pairs = []\n",
    "    with open(fn) as fh:\n",
    "        for line in fh.readlines():\n",
    "            pairs.append(tuple(line.rstrip().split('-')))\n",
    "    return pairs\n",
    "\n",
    "def check_paths(G, n1, n2):\n",
    "    good_paths = []\n",
    "    for p in nx.all_simple_paths(G, n1, n2):\n",
    "        if 'start' in p and n1 != 'start':\n",
    "            continue\n",
    "        if 'end' in p and n2 != 'end':\n",
    "            continue\n",
    "        small_visited = set()\n",
    "        for n in p:                \n",
    "            if n in small_visited:\n",
    "                continue\n",
    "            if G.nodes[n]['small']:\n",
    "                small_visited.add(n)\n",
    "        good_paths.append(p)\n",
    "    return good_paths\n",
    "\n",
    "def hash_path(p):\n",
    "    return '-'.join(p)\n",
    "\n",
    "def add_paths(paths, path_starts, path_set):\n",
    "#     path_set = set([hash_path(p) for p in paths])\n",
    "    new_paths = [p for p in paths]\n",
    "    for p in paths:\n",
    "        for ind, n in enumerate(p):\n",
    "            if n in ['start', 'end']:\n",
    "                continue\n",
    "            for p2 in path_starts[n]:\n",
    "                new_path = p[:ind] + p2\n",
    "                new_hash = hash_path(new_path)\n",
    "                small_passed = set()\n",
    "                add_p = True\n",
    "                for nnp in new_path:\n",
    "                    if nnp in small_passed:\n",
    "                        add_p = False\n",
    "                    if G.nodes[nnp]['small']:\n",
    "                        small_passed.add(nnp)\n",
    "\n",
    "                if add_p and (new_hash not in path_set):\n",
    "                    new_hash = hash_path(p[:ind]) + hash_path(p2)\n",
    "                    path_set.add(new_hash)\n",
    "                    new_paths.append(new_path)\n",
    "    return new_paths, path_set"
   ]
  },
  {
   "cell_type": "code",
   "execution_count": 246,
   "metadata": {},
   "outputs": [],
   "source": [
    "day = '12'\n",
    "fn = f'../{day}/{day}.txt'\n",
    "fn = f'../{day}/{day}_test.txt'\n",
    "# fn = f'../{day}/{day}_test2.txt'\n",
    "\n",
    "pairs = load_input(fn)"
   ]
  },
  {
   "cell_type": "code",
   "execution_count": 247,
   "metadata": {},
   "outputs": [],
   "source": [
    "G = nx.Graph()\n",
    "for p1, p2 in pairs:\n",
    "    G.add_edge(p1, p2)\n",
    "\n",
    "small_nodes = []\n",
    "for n in G:\n",
    "    if n in ['start', 'end']:\n",
    "        G.nodes[n]['small'] = False\n",
    "    elif n.lower() == n:\n",
    "        G.nodes[n]['small'] = True\n",
    "        small_nodes.append(n)\n",
    "    else:\n",
    "        G.nodes[n]['small'] = False"
   ]
  },
  {
   "cell_type": "code",
   "execution_count": 251,
   "metadata": {},
   "outputs": [
    {
     "name": "stdout",
     "output_type": "stream",
     "text": [
      "10\n"
     ]
    }
   ],
   "source": [
    "pair_paths = {}\n",
    "for n1 in G:\n",
    "    for n2 in G:\n",
    "        if n1==n2:\n",
    "            continue\n",
    "        pair_paths[(n1, n2)] = check_paths(G, n1, n2)\n",
    "\n",
    "ps = check_paths(G, 'start', 'end')\n",
    "pset = set([hash_path(p) for p in paths])\n",
    "\n",
    "\n",
    "def psearch(ps, pset, pair_paths):\n",
    "    outps = [p for p in ps]\n",
    "    for p in ps:\n",
    "        for ind, n in enumerate(p):\n",
    "            if ind==len(p) - 1:\n",
    "                continue\n",
    "            n1 = n\n",
    "            n2 = p[ind + 1]\n",
    "            subps = pair_paths[(n1, n2)]\n",
    "            for subp in subps:\n",
    "                newp = p[:ind] + subp + p[ind+2:]\n",
    "                newhash = hash_path(newp)\n",
    "                if newhash in pset:\n",
    "                    continue\n",
    "                nc = Counter(newp)\n",
    "                storep = True\n",
    "                for n, v in nc.items():\n",
    "                    if n in small_nodes and v > 1:\n",
    "                        storep = False                \n",
    "                if storep:\n",
    "                    pset.add(hash_path(newp))\n",
    "                    outps.append(newp)\n",
    "    return outps, pset\n",
    "                    \n",
    "print(len(pset))\n",
    "# outps, pset = psearch(ps, pset, pair_paths)\n",
    "# print(len(pset))\n",
    "# outps, pset = psearch(outps, pset, pair_paths)\n",
    "# print(len(pset))\n",
    "# outps, pset = psearch(outps, pset, pair_paths)\n",
    "# print(len(pset))\n",
    "# outps, pset = psearch(outps, pset, pair_paths)\n",
    "# print(len(pset))\n",
    "# outps, pset = psearch(outps, pset, pair_paths)\n",
    "# print(len(pset))\n",
    "# outps, pset = psearch(outps, pset, pair_paths)\n",
    "# print(len(pset))"
   ]
  },
  {
   "cell_type": "code",
   "execution_count": 252,
   "metadata": {},
   "outputs": [
    {
     "data": {
      "text/plain": [
       "{'start-HN-dc-end',\n",
       " 'start-HN-end',\n",
       " 'start-HN-kj-dc-end',\n",
       " 'start-dc-HN-end',\n",
       " 'start-dc-end',\n",
       " 'start-dc-kj-HN-end',\n",
       " 'start-kj-HN-dc-end',\n",
       " 'start-kj-HN-end',\n",
       " 'start-kj-dc-HN-end',\n",
       " 'start-kj-dc-end'}"
      ]
     },
     "execution_count": 252,
     "metadata": {},
     "output_type": "execute_result"
    }
   ],
   "source": [
    "pset"
   ]
  },
  {
   "cell_type": "code",
   "execution_count": 250,
   "metadata": {},
   "outputs": [],
   "source": [
    "#4085 too low"
   ]
  },
  {
   "cell_type": "code",
   "execution_count": null,
   "metadata": {},
   "outputs": [],
   "source": [
    "Y start,HN,dc,HN,end\n",
    "start,HN,dc,HN,kj,HN,end\n",
    "Y start,HN,dc,end\n",
    "Y start,HN,dc,kj,HN,end\n",
    "Y start,HN,end\n",
    "start,HN,kj,HN,dc,HN,end\n",
    "Y start,HN,kj,HN,dc,end\n",
    "Y start,HN,kj,HN,end\n",
    "Y start,HN,kj,dc,HN,end\n",
    "Y start,HN,kj,dc,end\n",
    "Y start,dc,HN,end\n",
    "start,dc,HN,kj,HN,end\n",
    "Y start,dc,end\n",
    "Y start,dc,kj,HN,end\n",
    "Y start,kj,HN,dc,HN,end\n",
    "Y start,kj,HN,dc,end\n",
    "Y start,kj,HN,end\n",
    "Y start,kj,dc,HN,end\n",
    "Y start,kj,dc,end"
   ]
  }
 ],
 "metadata": {
  "kernelspec": {
   "display_name": "Python 3",
   "language": "python",
   "name": "python3"
  },
  "language_info": {
   "codemirror_mode": {
    "name": "ipython",
    "version": 3
   },
   "file_extension": ".py",
   "mimetype": "text/x-python",
   "name": "python",
   "nbconvert_exporter": "python",
   "pygments_lexer": "ipython3",
   "version": "3.8.5"
  }
 },
 "nbformat": 4,
 "nbformat_minor": 4
}
