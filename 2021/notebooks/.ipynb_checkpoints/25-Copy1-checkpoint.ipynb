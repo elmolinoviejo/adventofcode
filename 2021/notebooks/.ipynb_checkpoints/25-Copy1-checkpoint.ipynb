{
 "cells": [
  {
   "cell_type": "code",
   "execution_count": 4,
   "metadata": {},
   "outputs": [],
   "source": [
    "from collections import Counter, deque, defaultdict\n",
    "from itertools import product, count, combinations\n",
    "import numpy as np\n",
    "import matplotlib.pyplot as plt\n",
    "import networkx as nx"
   ]
  },
  {
   "cell_type": "code",
   "execution_count": 26,
   "metadata": {},
   "outputs": [],
   "source": [
    "def load_input(fn):\n",
    "    es = set()\n",
    "    ss = set() \n",
    "    with open(fn) as fh:\n",
    "        for y, line in enumerate(fh.read().split('\\n')):\n",
    "            for x, sc in enumerate(line):\n",
    "                if sc == '>':\n",
    "                    es.add((x, y))\n",
    "                elif sc == 'v':\n",
    "                    ss.add((x, y))\n",
    "            \n",
    "    return es, ss, (x, y)\n",
    "\n",
    "\n",
    "def next_east(loc, maxx):\n",
    "    x, y = loc\n",
    "    if x + 1  > maxx:\n",
    "        x = 0\n",
    "    else:\n",
    "        x = x + 1\n",
    "    return (x, y)\n",
    "\n",
    "def next_south(loc, maxy):\n",
    "    x, y = loc\n",
    "    if y + 1 > maxy:\n",
    "        y = 0\n",
    "    else:\n",
    "        y = y + 1\n",
    "    return (x, y)\n",
    "\n",
    "\n",
    "def step(es, ss, maxx, maxy):\n",
    "    next_es = set(es)\n",
    "    next_ss = set(ss)\n",
    "    moved = False\n",
    "    for e in es:\n",
    "        nextloc = next_east(e, maxx)\n",
    "        if nextloc in es | ss:\n",
    "            continue\n",
    "        else:\n",
    "            next_es.add(nextloc)\n",
    "            next_es.remove(e)\n",
    "            moved = True\n",
    "    for s in ss:\n",
    "        nextloc = next_south(s, maxy)\n",
    "        if nextloc in next_es | ss:\n",
    "            continue\n",
    "        else:\n",
    "            next_ss.add(nextloc)\n",
    "            next_ss.remove(s)\n",
    "            moved = True\n",
    "    return next_es, next_ss, moved\n",
    "        "
   ]
  },
  {
   "cell_type": "code",
   "execution_count": null,
   "metadata": {},
   "outputs": [
    {
     "name": "stdout",
     "output_type": "stream",
     "text": [
      "1\n",
      "2\n",
      "3\n",
      "4\n",
      "5\n"
     ]
    }
   ],
   "source": [
    "day = '25'\n",
    "fn = f'../{day}/{day}.txt'\n",
    "# fn = f'../{day}/{day}_test2.txt'\n",
    "\n",
    "es, ss, (maxx, maxy)  = load_input(fn)\n",
    "moved = True\n",
    "n_steps = 0\n",
    "while moved:\n",
    "    es, ss, moved = step(es, ss, maxx, maxy)\n",
    "    n_steps += 1\n",
    "    print(n_steps)"
   ]
  },
  {
   "cell_type": "code",
   "execution_count": 23,
   "metadata": {},
   "outputs": [
    {
     "data": {
      "text/plain": [
       "4766"
      ]
     },
     "execution_count": 23,
     "metadata": {},
     "output_type": "execute_result"
    }
   ],
   "source": []
  },
  {
   "cell_type": "code",
   "execution_count": null,
   "metadata": {},
   "outputs": [],
   "source": []
  }
 ],
 "metadata": {
  "kernelspec": {
   "display_name": "Python 3",
   "language": "python",
   "name": "python3"
  },
  "language_info": {
   "codemirror_mode": {
    "name": "ipython",
    "version": 3
   },
   "file_extension": ".py",
   "mimetype": "text/x-python",
   "name": "python",
   "nbconvert_exporter": "python",
   "pygments_lexer": "ipython3",
   "version": "3.8.5"
  }
 },
 "nbformat": 4,
 "nbformat_minor": 4
}
