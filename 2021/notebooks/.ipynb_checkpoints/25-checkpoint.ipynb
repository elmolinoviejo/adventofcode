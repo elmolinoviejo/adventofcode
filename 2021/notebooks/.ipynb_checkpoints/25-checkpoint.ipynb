{
 "cells": [
  {
   "cell_type": "code",
   "execution_count": 3,
   "metadata": {},
   "outputs": [],
   "source": [
    "from collections import Counter, deque, defaultdict\n",
    "from itertools import product, count, combinations\n",
    "import numpy as np\n",
    "import matplotlib.pyplot as plt\n",
    "import networkx as nx"
   ]
  },
  {
   "cell_type": "code",
   "execution_count": 62,
   "metadata": {},
   "outputs": [],
   "source": [
    "def load_input(fn):\n",
    "    rbs = [] \n",
    "    with open(fn) as fh:\n",
    "        for line in fh.read().split('\\n'):\n",
    "            status, coords = line.split(' ')\n",
    "            x, y, z = coords.split(',')\n",
    "            ds = []\n",
    "            for d in [x, y, z]:\n",
    "                ds.append(tuple(int(x) for x in d.split('=')[1].split('..')))\n",
    "            rbs.append(tuple([status, ds]))           \n",
    "#     print(rbs)\n",
    "    return rbs\n",
    "\n",
    "\n",
    "def step_restrict(rb, onset):\n",
    "    status, ds = rb\n",
    "    (x1, x2), (y1, y2), (z1, z2) = ds\n",
    "    x1 = max(x1, -50)\n",
    "    y1 = max(y1, -50)\n",
    "    z1 = max(z1, -50)\n",
    "    \n",
    "    x2 = min(x2, 50)\n",
    "    y2 = min(y2, 50)\n",
    "    z2 = min(z2, 50)\n",
    "    for loc in product(range(x1, x2+1),\n",
    "                       range(y1, y2+1),\n",
    "                       range(z1, z2+1)):\n",
    "        if status == 'on':\n",
    "            onset.add(loc)\n",
    "        else:\n",
    "            onset.discard(loc)\n",
    "    return onset\n",
    "\n",
    "\n",
    "# def step(rb, onset):\n",
    "#     status, ds = rb\n",
    "#     (x1, x2), (y1, y2), (z1, z2) = ds\n",
    "# #     x1 = max(x1, -50)\n",
    "# #     y1 = max(y1, -50)\n",
    "# #     z1 = max(z1, -50)\n",
    "    \n",
    "# #     x2 = min(x2, 50)\n",
    "# #     y2 = min(y2, 50)\n",
    "# #     z2 = min(z2, 50)\n",
    "#     for loc in product(range(x1, x2+1),\n",
    "#                        range(y1, y2+1),\n",
    "#                        range(z1, z2+1)):\n",
    "#         if status == 'on':\n",
    "#             onset.add(loc)\n",
    "#         else:\n",
    "#             onset.discard(loc)\n",
    "#     return onset\n",
    "    "
   ]
  },
  {
   "cell_type": "code",
   "execution_count": 60,
   "metadata": {},
   "outputs": [],
   "source": [
    "day = '22'\n",
    "fn = f'../{day}/{day}.txt'\n",
    "# fn = f'../{day}/{day}_test2.txt'\n",
    "\n",
    "onset = set()\n",
    "rbs = load_input(fn)\n",
    "\n",
    "for ind, rb in enumerate(rbs):\n",
    "#     print(ind, len(rbs) - 2)\n",
    "#     print(ind, rb)\n",
    "    onset = step_restrict(rb, onset)\n",
    "\n",
    "# onset = step_restrict(rbs[0], onset)\n",
    "\n",
    "# restrict\n"
   ]
  },
  {
   "cell_type": "code",
   "execution_count": 61,
   "metadata": {},
   "outputs": [
    {
     "data": {
      "text/plain": [
       "576028"
      ]
     },
     "execution_count": 61,
     "metadata": {},
     "output_type": "execute_result"
    }
   ],
   "source": [
    "len(onset)"
   ]
  },
  {
   "cell_type": "code",
   "execution_count": null,
   "metadata": {},
   "outputs": [],
   "source": [
    "'''\n",
    "For every pair of spaces 420*420\n",
    "on + on\n",
    "\n",
    "\n",
    "add resulting spaces to new list\n",
    "\n",
    "repeat until no more overlaps\n",
    "\n",
    "\n",
    "You ignore the xyz interval combinations that don't have indices in common.\n",
    "'''"
   ]
  },
  {
   "cell_type": "code",
   "execution_count": 107,
   "metadata": {},
   "outputs": [],
   "source": [
    "def n_overlap(d1, d2):\n",
    "    (x1, x2), (y1, y2), (z1, z2) = d1\n",
    "    (a1, a2), (b1, b2), (c1, c2) = d2\n",
    "\n",
    "    n = (max(min(a2, x2) - max(a1, x1), 0) *\n",
    "         max(min(b2, y2) - max(b1, y1), 0) *\n",
    "         max(min(c2, z2) - max(c1, z1), 0))\n",
    "\n",
    "    return n\n",
    "\n",
    "\n",
    "def check_overlap(d1, d2):\n",
    "    (x1, x2), (y1, y2), (z1, z2) = d1\n",
    "    (a1, a2), (b1, b2), (c1, c2) = d2\n",
    "\n",
    "    n = (max(min(a2, x2) - max(a1, x1), 0) *\n",
    "         max(min(b2, y2) - max(b1, y1), 0) *\n",
    "         max(min(c2, z2) - max(c1, z1), 0))\n",
    "\n",
    "    if n > 0:\n",
    "        return True\n",
    "    else:\n",
    "        return False\n",
    "    \n",
    "\n",
    "def split_spaces(d1, d2):\n",
    "    s1, [(x1, x2), (y1, y2), (z1, z2)] = d1\n",
    "    s2, [(a1, a2), (b1, b2), (c1, c2)] = d2\n",
    "    \n",
    "    \n",
    "    locs = {}\n",
    "    locs['x'] = (x1, x2, a1, a2)\n",
    "    locs['y'] = (y1, y2, b1, b2)\n",
    "    locs['z'] = (z1, z2, c1, c2)\n",
    "    \n",
    "    edges = dict()\n",
    "    for dim in 'xyz':\n",
    "        edges[dim] = []\n",
    "        edges[dim].append(\n",
    "            tuple(\n",
    "                [min(locs[dim][0], locs[dim][2]),\n",
    "                 max(locs[dim][0], locs[dim][2])]))\n",
    "        \n",
    "        edges[dim].append(\n",
    "            tuple(\n",
    "                [max(locs[dim][0], locs[dim][2]),\n",
    "                 min(locs[dim][1], locs[dim][3])]))\n",
    "        \n",
    "        edges[dim].append(\n",
    "            tuple(\n",
    "                [min(locs[dim][1], locs[dim][3]),\n",
    "                 max(locs[dim][1], locs[dim][3])]))\n",
    "        \n",
    "    return edges\n",
    "\n",
    "\n",
    "def check_contained(d1, d2):\n",
    "    s1, [(x1, x2), (y1, y2), (z1, z2)] = d1\n",
    "    s2, [(a1, a2), (b1, b2), (c1, c2)] = d2\n",
    "    \n",
    "#     contained = True\n",
    "    if "
   ]
  },
  {
   "cell_type": "code",
   "execution_count": 115,
   "metadata": {},
   "outputs": [
    {
     "data": {
      "text/plain": [
       "{'x': [(0, 1), (1, 2), (2, 3)],\n",
       " 'y': [(0, 1), (1, 2), (2, 3)],\n",
       " 'z': [(0, 1), (1, 2), (2, 3)]}"
      ]
     },
     "execution_count": 115,
     "metadata": {},
     "output_type": "execute_result"
    }
   ],
   "source": [
    "# d1 = ('on', [(0, 2), (0, 2), (0, 2)])\n",
    "# d2 = ('on', [(1, 3), (1, 3), (1, 3)])\n",
    "\n",
    "d1 = ('on', [(1, 2), (1, 2), (1, 2)])\n",
    "d2 = ('on', [(0, 3), (0, 3), (0, 3)])\n",
    "\n",
    "split_spaces(d1, d2)"
   ]
  },
  {
   "cell_type": "code",
   "execution_count": 83,
   "metadata": {},
   "outputs": [],
   "source": [
    "day = '22'\n",
    "fn = f'../{day}/{day}.txt'\n",
    "# fn = f'../{day}/{day}_test2.txt'\n",
    "\n",
    "onset = set()\n",
    "rbs = load_input(fn)\n",
    "\n",
    "\n",
    "\n"
   ]
  },
  {
   "cell_type": "code",
   "execution_count": 85,
   "metadata": {},
   "outputs": [
    {
     "data": {
      "text/plain": [
       "2904"
      ]
     },
     "execution_count": 85,
     "metadata": {},
     "output_type": "execute_result"
    }
   ],
   "source": [
    "n_overlap(rbs[9][1], rbs[1][1])"
   ]
  },
  {
   "cell_type": "code",
   "execution_count": 87,
   "metadata": {},
   "outputs": [
    {
     "data": {
      "text/plain": [
       "('on', [(-24, 26), (-5, 40), (-7, 41)])"
      ]
     },
     "execution_count": 87,
     "metadata": {},
     "output_type": "execute_result"
    }
   ],
   "source": [
    "rbs[0]"
   ]
  },
  {
   "cell_type": "code",
   "execution_count": null,
   "metadata": {},
   "outputs": [],
   "source": []
  }
 ],
 "metadata": {
  "kernelspec": {
   "display_name": "Python 3",
   "language": "python",
   "name": "python3"
  },
  "language_info": {
   "codemirror_mode": {
    "name": "ipython",
    "version": 3
   },
   "file_extension": ".py",
   "mimetype": "text/x-python",
   "name": "python",
   "nbconvert_exporter": "python",
   "pygments_lexer": "ipython3",
   "version": "3.8.5"
  }
 },
 "nbformat": 4,
 "nbformat_minor": 4
}
