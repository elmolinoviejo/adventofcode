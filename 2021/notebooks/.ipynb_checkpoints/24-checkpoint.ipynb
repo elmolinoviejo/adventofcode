{
 "cells": [
  {
   "cell_type": "code",
   "execution_count": 409,
   "metadata": {},
   "outputs": [],
   "source": [
    "from collections import Counter, deque, defaultdict\n",
    "from itertools import product, count, combinations\n",
    "import numpy as np\n",
    "import matplotlib.pyplot as plt\n",
    "import networkx as nx\n",
    "from sympy import *\n",
    "from sympy.parsing.sympy_parser import parse_expr\n",
    "from sympy.core.function import Function\n",
    "from sympy.core.sympify import sympify"
   ]
  },
  {
   "cell_type": "code",
   "execution_count": 410,
   "metadata": {},
   "outputs": [],
   "source": [
    "def load_input(fn):\n",
    "    inst = []\n",
    "    with open(fn) as fh:\n",
    "        for l in fh.readlines():\n",
    "            cmd, *vals = l.rstrip().split()\n",
    "            inst.append((cmd, vals))\n",
    "    return inst\n",
    "\n",
    "\n",
    "def load_input_blocks(fn):\n",
    "    blocks = {}\n",
    "    blockn = -1\n",
    "    inst = []\n",
    "    with open(fn) as fh:\n",
    "#         b_strs = fh.read().split('inp')\n",
    "#         print(b_strs)\n",
    "        for l in fh.readlines():\n",
    "            cmd, *vals = l.rstrip().split()\n",
    "            if cmd == 'inp':\n",
    "                if blockn >=0:\n",
    "                    blocks[blockn] = inst\n",
    "                inst = []\n",
    "                blockn += 1\n",
    "            else:\n",
    "                inst.append((cmd, vals))\n",
    "    blocks[blockn] = inst\n",
    "    return blocks\n",
    "\n",
    "\n",
    "def load_input_blocks(fn):\n",
    "    blocks = {}\n",
    "    blockn = -1\n",
    "    inst = []\n",
    "    with open(fn) as fh:\n",
    "#         b_strs = fh.read().split('inp')\n",
    "#         print(b_strs)\n",
    "        for l in fh.readlines():\n",
    "            cmd, *vals = l.rstrip().split()\n",
    "            if cmd == 'inp':\n",
    "                if blockn >=0:\n",
    "                    blocks[blockn] = inst\n",
    "                inst = []\n",
    "                blockn += 1\n",
    "            else:\n",
    "                inst.append((cmd, vals))\n",
    "    blocks[blockn] = inst\n",
    "    return blocks\n",
    "\n",
    "\n",
    "        \n",
    "\n",
    "def inst_to_str(inst):\n",
    "    cmd, vals = inst\n",
    "    if cmd == 'add':\n",
    "        return f'{vals[0]} = {vals[0]} + {vals[1]}'\n",
    "    elif cmd == 'mul':\n",
    "        return f'{vals[0]} = {vals[0]} * {vals[1]}'\n",
    "    elif cmd == 'eql':\n",
    "        return f'{vals[0]} = f({vals[0]}, {vals[1]})'\n",
    "    elif cmd == 'div':\n",
    "        return f'{vals[0]} = {vals[0]} / {vals[1]}'\n",
    "    elif cmd == 'mod':\n",
    "        return f'{vals[0]} = {vals[0]} % {vals[1]}'\n",
    "    elif cmd == 'inp':\n",
    "        return f'w = inp{vals[0][1:]}'\n",
    "    \n",
    "    \n",
    "def run_inst(inst, vs):\n",
    "    cmd, vals = inst\n",
    "    val_ints = []\n",
    "    for val in vals:\n",
    "        if val in 'wxyz':\n",
    "            val_ints.append(vs[val])\n",
    "        else:\n",
    "            val_ints.append(int(val))\n",
    "            \n",
    "    if cmd == 'add':\n",
    "        vs[vals[0]] = sum(val_ints)\n",
    "    elif cmd == 'mul':\n",
    "        vs[vals[0]] = val_ints[0] * val_ints[1]\n",
    "    elif cmd == 'eql':\n",
    "        if val_ints[0] == val_ints[1]:\n",
    "            ans = 1\n",
    "        else:\n",
    "            ans = 0\n",
    "        vs[vals[0]] = ans\n",
    "    elif cmd == 'div':\n",
    "        vs[vals[0]] = int(val_ints[0] / val_ints[1])\n",
    "    elif cmd == 'mod':\n",
    "        vs[vals[0]] = val_ints[0] % val_ints[1]\n",
    "    \n",
    "    return vs\n",
    "\n",
    "\n",
    "def run_block(block, vs):\n",
    "    for inst in block:\n",
    "        vs = run_inst(inst, vs)\n",
    "    return vs\n",
    "\n",
    "\n",
    "def test_zs(z, block):\n",
    "    wzs = {}\n",
    "    for w in range(1, 10):\n",
    "        vs = {'w': 0, 'x': 0, 'y': 0, 'z': z}\n",
    "        vs['w'] = w\n",
    "        vs = run_block(block, vs)\n",
    "        wzs[w] = vs['z']\n",
    "    return wzs"
   ]
  },
  {
   "cell_type": "code",
   "execution_count": 418,
   "metadata": {},
   "outputs": [],
   "source": [
    "def simple_block(z, w, n1, n2):\n",
    "    X = (25 * (0 == (w == (z % 26 - n1))))\n",
    "    return z * (X + 1) / n2 + (w + 1) * X\n",
    "\n",
    "\n",
    "sb_vars = {\n",
    "    0: (14, 1, 7),\n",
    "    1: (12, 1, 4),\n",
    "    2: (11, 1, 8),\n",
    "    3: (-4, 26, 1),\n",
    "    4: (10, 1, 5),\n",
    "    5: (10, 1, 14),\n",
    "    6: (15, 1, 12),\n",
    "    7: (-9, 26, 10),\n",
    "    8: (-9, 26, 5),\n",
    "    9: (12, 1, 7),\n",
    "    10: (-15, 26, 6),\n",
    "    11: (-7, 26, 8),\n",
    "    12: (-10, 26, 4),\n",
    "    13: (0, 26, 6)\n",
    "}"
   ]
  },
  {
   "cell_type": "code",
   "execution_count": 412,
   "metadata": {},
   "outputs": [],
   "source": [
    "day = '24'\n",
    "fn = f'../{day}/{day}.txt'\n",
    "# fn = f'../{day}/{day}_test2.txt'\n",
    "\n",
    "blocks = load_input_blocks(fn)"
   ]
  },
  {
   "cell_type": "code",
   "execution_count": 417,
   "metadata": {},
   "outputs": [
    {
     "name": "stdout",
     "output_type": "stream",
     "text": [
      "0\n"
     ]
    },
    {
     "data": {
      "text/plain": [
       "{-1: {0}, 0: {8, 9, 10, 11, 12, 13, 14, 15, 16}}"
      ]
     },
     "execution_count": 417,
     "metadata": {},
     "output_type": "execute_result"
    }
   ],
   "source": [
    "# go forward\n",
    "check_blocks = [0]\n",
    "outputzs = {-1: {0}}\n",
    "for cb in check_blocks:\n",
    "    outputzs[cb] = set()\n",
    "    for z in outputzs[cb - 1]:\n",
    "        for w in range(1,10):\n",
    "            vs = {'w': w, 'x': 0, 'y': 0, 'z': z}\n",
    "            out_vs = run_block(blocks[cb], vs)\n",
    "            outputzs[cb].add(out_vs['z'])\n",
    "    print(cb)\n",
    "    \n",
    "outputzs"
   ]
  },
  {
   "cell_type": "code",
   "execution_count": null,
   "metadata": {},
   "outputs": [],
   "source": [
    "check_blocks = [0]\n",
    "outputzs = {-1: {0}}\n",
    "for cb in check_blocks:\n",
    "    outputzs[cb] = set()\n",
    "    for z in outputzs[cb - 1]:\n",
    "        for w in range(1,10):\n",
    "            out_z = run_block(blocks[cb], vs)\n",
    "            outputzs[cb].add(out_vs['z'])\n",
    "    print(cb)"
   ]
  },
  {
   "cell_type": "code",
   "execution_count": 326,
   "metadata": {},
   "outputs": [
    {
     "ename": "KeyboardInterrupt",
     "evalue": "",
     "output_type": "error",
     "traceback": [
      "\u001b[0;31m---------------------------------------------------------------------------\u001b[0m",
      "\u001b[0;31mKeyboardInterrupt\u001b[0m                         Traceback (most recent call last)",
      "\u001b[0;32m<ipython-input-326-e306f0d96059>\u001b[0m in \u001b[0;36m<module>\u001b[0;34m\u001b[0m\n\u001b[1;32m      7\u001b[0m         \u001b[0;32mfor\u001b[0m \u001b[0mw\u001b[0m \u001b[0;32min\u001b[0m \u001b[0mrange\u001b[0m\u001b[0;34m(\u001b[0m\u001b[0;36m1\u001b[0m\u001b[0;34m,\u001b[0m\u001b[0;36m10\u001b[0m\u001b[0;34m)\u001b[0m\u001b[0;34m:\u001b[0m\u001b[0;34m\u001b[0m\u001b[0;34m\u001b[0m\u001b[0m\n\u001b[1;32m      8\u001b[0m             \u001b[0mvs\u001b[0m \u001b[0;34m=\u001b[0m \u001b[0;34m{\u001b[0m\u001b[0;34m'w'\u001b[0m\u001b[0;34m:\u001b[0m \u001b[0mw\u001b[0m\u001b[0;34m,\u001b[0m \u001b[0;34m'x'\u001b[0m\u001b[0;34m:\u001b[0m \u001b[0;36m0\u001b[0m\u001b[0;34m,\u001b[0m \u001b[0;34m'y'\u001b[0m\u001b[0;34m:\u001b[0m \u001b[0;36m0\u001b[0m\u001b[0;34m,\u001b[0m \u001b[0;34m'z'\u001b[0m\u001b[0;34m:\u001b[0m \u001b[0mz\u001b[0m\u001b[0;34m}\u001b[0m\u001b[0;34m\u001b[0m\u001b[0;34m\u001b[0m\u001b[0m\n\u001b[0;32m----> 9\u001b[0;31m             \u001b[0mout_vs\u001b[0m \u001b[0;34m=\u001b[0m \u001b[0mrun_block\u001b[0m\u001b[0;34m(\u001b[0m\u001b[0mblocks\u001b[0m\u001b[0;34m[\u001b[0m\u001b[0mcb\u001b[0m\u001b[0;34m]\u001b[0m\u001b[0;34m,\u001b[0m \u001b[0mvs\u001b[0m\u001b[0;34m)\u001b[0m\u001b[0;34m\u001b[0m\u001b[0;34m\u001b[0m\u001b[0m\n\u001b[0m\u001b[1;32m     10\u001b[0m             \u001b[0;32mif\u001b[0m \u001b[0mout_vs\u001b[0m\u001b[0;34m[\u001b[0m\u001b[0;34m'z'\u001b[0m\u001b[0;34m]\u001b[0m \u001b[0;32min\u001b[0m \u001b[0minputzs\u001b[0m\u001b[0;34m[\u001b[0m\u001b[0mcb\u001b[0m \u001b[0;34m+\u001b[0m \u001b[0;36m1\u001b[0m\u001b[0;34m]\u001b[0m\u001b[0;34m:\u001b[0m\u001b[0;34m\u001b[0m\u001b[0;34m\u001b[0m\u001b[0m\n\u001b[1;32m     11\u001b[0m                 \u001b[0minputzs\u001b[0m\u001b[0;34m[\u001b[0m\u001b[0mcb\u001b[0m\u001b[0;34m]\u001b[0m\u001b[0;34m.\u001b[0m\u001b[0madd\u001b[0m\u001b[0;34m(\u001b[0m\u001b[0mz\u001b[0m\u001b[0;34m)\u001b[0m\u001b[0;34m\u001b[0m\u001b[0;34m\u001b[0m\u001b[0m\n",
      "\u001b[0;32m<ipython-input-173-8d35431c11a1>\u001b[0m in \u001b[0;36mrun_block\u001b[0;34m(block, vs)\u001b[0m\n\u001b[1;32m     73\u001b[0m \u001b[0;32mdef\u001b[0m \u001b[0mrun_block\u001b[0m\u001b[0;34m(\u001b[0m\u001b[0mblock\u001b[0m\u001b[0;34m,\u001b[0m \u001b[0mvs\u001b[0m\u001b[0;34m)\u001b[0m\u001b[0;34m:\u001b[0m\u001b[0;34m\u001b[0m\u001b[0;34m\u001b[0m\u001b[0m\n\u001b[1;32m     74\u001b[0m     \u001b[0;32mfor\u001b[0m \u001b[0minst\u001b[0m \u001b[0;32min\u001b[0m \u001b[0mblock\u001b[0m\u001b[0;34m:\u001b[0m\u001b[0;34m\u001b[0m\u001b[0;34m\u001b[0m\u001b[0m\n\u001b[0;32m---> 75\u001b[0;31m         \u001b[0mvs\u001b[0m \u001b[0;34m=\u001b[0m \u001b[0mrun_inst\u001b[0m\u001b[0;34m(\u001b[0m\u001b[0minst\u001b[0m\u001b[0;34m,\u001b[0m \u001b[0mvs\u001b[0m\u001b[0;34m)\u001b[0m\u001b[0;34m\u001b[0m\u001b[0;34m\u001b[0m\u001b[0m\n\u001b[0m\u001b[1;32m     76\u001b[0m     \u001b[0;32mreturn\u001b[0m \u001b[0mvs\u001b[0m\u001b[0;34m\u001b[0m\u001b[0;34m\u001b[0m\u001b[0m\n\u001b[1;32m     77\u001b[0m \u001b[0;34m\u001b[0m\u001b[0m\n",
      "\u001b[0;32m<ipython-input-173-8d35431c11a1>\u001b[0m in \u001b[0;36mrun_inst\u001b[0;34m(inst, vs)\u001b[0m\n\u001b[1;32m     49\u001b[0m     \u001b[0;32mfor\u001b[0m \u001b[0mval\u001b[0m \u001b[0;32min\u001b[0m \u001b[0mvals\u001b[0m\u001b[0;34m:\u001b[0m\u001b[0;34m\u001b[0m\u001b[0;34m\u001b[0m\u001b[0m\n\u001b[1;32m     50\u001b[0m         \u001b[0;32mif\u001b[0m \u001b[0mval\u001b[0m \u001b[0;32min\u001b[0m \u001b[0;34m'wxyz'\u001b[0m\u001b[0;34m:\u001b[0m\u001b[0;34m\u001b[0m\u001b[0;34m\u001b[0m\u001b[0m\n\u001b[0;32m---> 51\u001b[0;31m             \u001b[0mval_ints\u001b[0m\u001b[0;34m.\u001b[0m\u001b[0mappend\u001b[0m\u001b[0;34m(\u001b[0m\u001b[0mvs\u001b[0m\u001b[0;34m[\u001b[0m\u001b[0mval\u001b[0m\u001b[0;34m]\u001b[0m\u001b[0;34m)\u001b[0m\u001b[0;34m\u001b[0m\u001b[0;34m\u001b[0m\u001b[0m\n\u001b[0m\u001b[1;32m     52\u001b[0m         \u001b[0;32melse\u001b[0m\u001b[0;34m:\u001b[0m\u001b[0;34m\u001b[0m\u001b[0;34m\u001b[0m\u001b[0m\n\u001b[1;32m     53\u001b[0m             \u001b[0mval_ints\u001b[0m\u001b[0;34m.\u001b[0m\u001b[0mappend\u001b[0m\u001b[0;34m(\u001b[0m\u001b[0mint\u001b[0m\u001b[0;34m(\u001b[0m\u001b[0mval\u001b[0m\u001b[0;34m)\u001b[0m\u001b[0;34m)\u001b[0m\u001b[0;34m\u001b[0m\u001b[0;34m\u001b[0m\u001b[0m\n",
      "\u001b[0;31mKeyboardInterrupt\u001b[0m: "
     ]
    }
   ],
   "source": [
    "# go backwards\n",
    "check_blocks = [13, 12, 11, 10, 9, 8, 7, 6]\n",
    "inputzs = {14: {0}, 13: {1, 2, 3, 4, 5, 6, 7, 8, 9}}\n",
    "for cb in check_blocks:\n",
    "    inputzs[cb] = set()\n",
    "    for z in range(1, 100000):\n",
    "        for w in range(1,10):\n",
    "            vs = {'w': w, 'x': 0, 'y': 0, 'z': z}\n",
    "            out_vs = run_block(blocks[cb], vs)\n",
    "            if out_vs['z'] in inputzs[cb + 1]:\n",
    "                inputzs[cb].add(z)"
   ]
  },
  {
   "cell_type": "code",
   "execution_count": 320,
   "metadata": {},
   "outputs": [
    {
     "name": "stdout",
     "output_type": "stream",
     "text": [
      "0\n",
      "1\n",
      "2\n",
      "3\n",
      "4\n",
      "5\n",
      "6\n"
     ]
    }
   ],
   "source": [
    "# go forward\n",
    "check_blocks = [0, 1, 2, 3, 4, 5, 6]\n",
    "outputzs = {-1: {0}}\n",
    "for cb in check_blocks:\n",
    "    outputzs[cb] = set()\n",
    "    for z in outputzs[cb - 1]:\n",
    "        for w in range(1,10):\n",
    "            vs = {'w': w, 'x': 0, 'y': 0, 'z': z}\n",
    "            out_vs = run_block(blocks[cb], vs)\n",
    "            outputzs[cb].add(out_vs['z'])\n",
    "    print(cb)"
   ]
  },
  {
   "cell_type": "code",
   "execution_count": 370,
   "metadata": {},
   "outputs": [
    {
     "data": {
      "text/plain": [
       "9"
      ]
     },
     "execution_count": 370,
     "metadata": {},
     "output_type": "execute_result"
    }
   ],
   "source": [
    "len(outputzs[0])"
   ]
  },
  {
   "cell_type": "code",
   "execution_count": 368,
   "metadata": {},
   "outputs": [
    {
     "data": {
      "text/plain": [
       "3"
      ]
     },
     "execution_count": 368,
     "metadata": {},
     "output_type": "execute_result"
    }
   ],
   "source": [
    "len(inputzs)"
   ]
  },
  {
   "cell_type": "code",
   "execution_count": 275,
   "metadata": {},
   "outputs": [
    {
     "name": "stdout",
     "output_type": "stream",
     "text": [
      "w z znext\n"
     ]
    }
   ],
   "source": [
    "testi = blocks[0][0]\n",
    "# vs = {'w': 0, 'x': 0, 'y': 0, 'z': 0}\n",
    "wzs = {}\n",
    "print('w z znext')\n",
    "zin = []\n",
    "zout = []\n",
    "for z in range(1, 50000):\n",
    "#     print(f'z = {z}')\n",
    "    for w in range(1,10):\n",
    "        vs = {'w': 0, 'x': 0, 'y': 0, 'z': z}\n",
    "        vs['w'] = w\n",
    "        out_vs = run_block(blocks[11], vs)\n",
    "        if out_vs['z'] < 254:\n",
    "            continue\n",
    "#             print(w, z, out_vs['z'])\n",
    "    "
   ]
  },
  {
   "cell_type": "code",
   "execution_count": 225,
   "metadata": {},
   "outputs": [],
   "source": [
    "'''\n",
    "z10 < 1862?\n",
    "\n",
    "z10 many options... up to 171538\n",
    "z11 must < 6598 AND \n",
    "z12 must < 254\n",
    "z13 must equal w13\n",
    "'''"
   ]
  },
  {
   "cell_type": "code",
   "execution_count": null,
   "metadata": {},
   "outputs": [],
   "source": [
    "'''\n",
    "z1 = w1 + 7\n",
    "z2 = w2 + z1 * 26 + 4\n",
    "z3 = w3 + z2 * 26 + 8\n",
    "z4 = w4 + z3 - 8\n",
    "z5 = \n",
    "'''"
   ]
  },
  {
   "cell_type": "code",
   "execution_count": 223,
   "metadata": {},
   "outputs": [
    {
     "name": "stdout",
     "output_type": "stream",
     "text": [
      "0 {1: 8, 2: 9, 3: 10, 4: 11, 5: 12, 6: 13, 7: 14, 8: 15, 9: 16}\n",
      "1 {1: 213, 2: 214, 3: 215, 4: 216, 5: 217, 6: 218, 7: 219, 8: 220, 9: 221}\n",
      "2 {1: 5755, 2: 5756, 3: 5757, 4: 5758, 5: 5759, 6: 5760, 7: 5761, 8: 5762, 9: 5763}\n",
      "3 {1: 5748, 2: 5749, 3: 5750, 4: 5751, 5: 5752, 6: 5753, 7: 5754, 8: 5755, 9: 5756}\n",
      "4 {1: 149662, 2: 149663, 3: 149664, 4: 149665, 5: 149666, 6: 149667, 7: 149668, 8: 149669, 9: 149670}\n",
      "5 {1: 7547243, 2: 7547244, 3: 7547245, 4: 7547246, 5: 7547247, 6: 7547248, 7: 7547249, 8: 7547250, 9: 7547251}\n",
      "6 {1: 196228539, 2: 196228540, 3: 196228541, 4: 196228542, 5: 196228543, 6: 196228544, 7: 196228545, 8: 196228546, 9: 196228547}\n",
      "7 {1: 196228537, 2: 196228538, 3: 196228539, 4: 196228540, 5: 196228541, 6: 196228542, 7: 196228543, 8: 196228544, 9: 196228545}\n",
      "8 {1: 196228532, 2: 196228533, 3: 196228534, 4: 196228535, 5: 196228536, 6: 196228537, 7: 196228538, 8: 196228539, 9: 196228540}\n",
      "9 {1: 5101942048, 2: 5101942049, 3: 5101942050, 4: 5101942051, 5: 5101942052, 6: 5101942053, 7: 5101942054, 8: 5101942055, 9: 5101942056}\n",
      "10 {1: 196228540, 2: 5101942048, 3: 5101942049, 4: 5101942050, 5: 5101942051, 6: 5101942052, 7: 5101942053, 8: 5101942054, 9: 5101942055}\n",
      "11 {1: 5101942049, 2: 5101942050, 3: 5101942051, 4: 5101942052, 5: 5101942053, 6: 5101942054, 7: 5101942055, 8: 196228540, 9: 5101942057}\n",
      "12 {1: 5101942045, 2: 5101942046, 3: 5101942047, 4: 5101942048, 5: 5101942049, 6: 5101942050, 7: 196228540, 8: 5101942052, 9: 5101942053}\n",
      "13 {1: 5101942047, 2: 5101942048, 3: 5101942049, 4: 5101942050, 5: 5101942051, 6: 5101942052, 7: 5101942053, 8: 5101942054, 9: 5101942055}\n"
     ]
    }
   ],
   "source": [
    "bzs = {bn: 0 for bn in range(14)}\n",
    "for bn, block in blocks.items():\n",
    "    z = bzs[bn]\n",
    "    wzs = test_zs(z, block)\n",
    "\n",
    "# print(test_zs(0, blocks[0]))\n",
    "# print(test_zs(16, blocks[1]))\n",
    "# print(test_zs(429, blocks[2]))\n",
    "# print(test_zs(11171, blocks[3]))\n",
    "# print(test_zs(11164, blocks[4]))\n",
    "# print(test_zs(290278, blocks[5]))\n",
    "# print(test_zs(7547251, blocks[6]))"
   ]
  },
  {
   "cell_type": "code",
   "execution_count": 150,
   "metadata": {},
   "outputs": [
    {
     "data": {
      "text/plain": [
       "{0: [('mul', ['x', '0']),\n",
       "  ('add', ['x', 'z']),\n",
       "  ('mod', ['x', '26']),\n",
       "  ('div', ['z', '1']),\n",
       "  ('add', ['x', '14']),\n",
       "  ('eql', ['x', 'w']),\n",
       "  ('eql', ['x', '0']),\n",
       "  ('mul', ['y', '0']),\n",
       "  ('add', ['y', '25']),\n",
       "  ('mul', ['y', 'x']),\n",
       "  ('add', ['y', '1']),\n",
       "  ('mul', ['z', 'y']),\n",
       "  ('mul', ['y', '0']),\n",
       "  ('add', ['y', 'w']),\n",
       "  ('add', ['y', '7']),\n",
       "  ('mul', ['y', 'x']),\n",
       "  ('add', ['z', 'y'])],\n",
       " 1: [('mul', ['x', '0']),\n",
       "  ('add', ['x', 'z']),\n",
       "  ('mod', ['x', '26']),\n",
       "  ('div', ['z', '1']),\n",
       "  ('add', ['x', '12']),\n",
       "  ('eql', ['x', 'w']),\n",
       "  ('eql', ['x', '0']),\n",
       "  ('mul', ['y', '0']),\n",
       "  ('add', ['y', '25']),\n",
       "  ('mul', ['y', 'x']),\n",
       "  ('add', ['y', '1']),\n",
       "  ('mul', ['z', 'y']),\n",
       "  ('mul', ['y', '0']),\n",
       "  ('add', ['y', 'w']),\n",
       "  ('add', ['y', '4']),\n",
       "  ('mul', ['y', 'x']),\n",
       "  ('add', ['z', 'y'])],\n",
       " 2: [('mul', ['x', '0']),\n",
       "  ('add', ['x', 'z']),\n",
       "  ('mod', ['x', '26']),\n",
       "  ('div', ['z', '1']),\n",
       "  ('add', ['x', '11']),\n",
       "  ('eql', ['x', 'w']),\n",
       "  ('eql', ['x', '0']),\n",
       "  ('mul', ['y', '0']),\n",
       "  ('add', ['y', '25']),\n",
       "  ('mul', ['y', 'x']),\n",
       "  ('add', ['y', '1']),\n",
       "  ('mul', ['z', 'y']),\n",
       "  ('mul', ['y', '0']),\n",
       "  ('add', ['y', 'w']),\n",
       "  ('add', ['y', '8']),\n",
       "  ('mul', ['y', 'x']),\n",
       "  ('add', ['z', 'y'])],\n",
       " 3: [('mul', ['x', '0']),\n",
       "  ('add', ['x', 'z']),\n",
       "  ('mod', ['x', '26']),\n",
       "  ('div', ['z', '26']),\n",
       "  ('add', ['x', '-4']),\n",
       "  ('eql', ['x', 'w']),\n",
       "  ('eql', ['x', '0']),\n",
       "  ('mul', ['y', '0']),\n",
       "  ('add', ['y', '25']),\n",
       "  ('mul', ['y', 'x']),\n",
       "  ('add', ['y', '1']),\n",
       "  ('mul', ['z', 'y']),\n",
       "  ('mul', ['y', '0']),\n",
       "  ('add', ['y', 'w']),\n",
       "  ('add', ['y', '1']),\n",
       "  ('mul', ['y', 'x']),\n",
       "  ('add', ['z', 'y'])],\n",
       " 4: [('mul', ['x', '0']),\n",
       "  ('add', ['x', 'z']),\n",
       "  ('mod', ['x', '26']),\n",
       "  ('div', ['z', '1']),\n",
       "  ('add', ['x', '10']),\n",
       "  ('eql', ['x', 'w']),\n",
       "  ('eql', ['x', '0']),\n",
       "  ('mul', ['y', '0']),\n",
       "  ('add', ['y', '25']),\n",
       "  ('mul', ['y', 'x']),\n",
       "  ('add', ['y', '1']),\n",
       "  ('mul', ['z', 'y']),\n",
       "  ('mul', ['y', '0']),\n",
       "  ('add', ['y', 'w']),\n",
       "  ('add', ['y', '5']),\n",
       "  ('mul', ['y', 'x']),\n",
       "  ('add', ['z', 'y'])],\n",
       " 5: [('mul', ['x', '0']),\n",
       "  ('add', ['x', 'z']),\n",
       "  ('mod', ['x', '26']),\n",
       "  ('div', ['z', '1']),\n",
       "  ('add', ['x', '10']),\n",
       "  ('eql', ['x', 'w']),\n",
       "  ('eql', ['x', '0']),\n",
       "  ('mul', ['y', '0']),\n",
       "  ('add', ['y', '25']),\n",
       "  ('mul', ['y', 'x']),\n",
       "  ('add', ['y', '1']),\n",
       "  ('mul', ['z', 'y']),\n",
       "  ('mul', ['y', '0']),\n",
       "  ('add', ['y', 'w']),\n",
       "  ('add', ['y', '14']),\n",
       "  ('mul', ['y', 'x']),\n",
       "  ('add', ['z', 'y'])],\n",
       " 6: [('mul', ['x', '0']),\n",
       "  ('add', ['x', 'z']),\n",
       "  ('mod', ['x', '26']),\n",
       "  ('div', ['z', '1']),\n",
       "  ('add', ['x', '15']),\n",
       "  ('eql', ['x', 'w']),\n",
       "  ('eql', ['x', '0']),\n",
       "  ('mul', ['y', '0']),\n",
       "  ('add', ['y', '25']),\n",
       "  ('mul', ['y', 'x']),\n",
       "  ('add', ['y', '1']),\n",
       "  ('mul', ['z', 'y']),\n",
       "  ('mul', ['y', '0']),\n",
       "  ('add', ['y', 'w']),\n",
       "  ('add', ['y', '12']),\n",
       "  ('mul', ['y', 'x']),\n",
       "  ('add', ['z', 'y'])],\n",
       " 7: [('mul', ['x', '0']),\n",
       "  ('add', ['x', 'z']),\n",
       "  ('mod', ['x', '26']),\n",
       "  ('div', ['z', '26']),\n",
       "  ('add', ['x', '-9']),\n",
       "  ('eql', ['x', 'w']),\n",
       "  ('eql', ['x', '0']),\n",
       "  ('mul', ['y', '0']),\n",
       "  ('add', ['y', '25']),\n",
       "  ('mul', ['y', 'x']),\n",
       "  ('add', ['y', '1']),\n",
       "  ('mul', ['z', 'y']),\n",
       "  ('mul', ['y', '0']),\n",
       "  ('add', ['y', 'w']),\n",
       "  ('add', ['y', '10']),\n",
       "  ('mul', ['y', 'x']),\n",
       "  ('add', ['z', 'y'])],\n",
       " 8: [('mul', ['x', '0']),\n",
       "  ('add', ['x', 'z']),\n",
       "  ('mod', ['x', '26']),\n",
       "  ('div', ['z', '26']),\n",
       "  ('add', ['x', '-9']),\n",
       "  ('eql', ['x', 'w']),\n",
       "  ('eql', ['x', '0']),\n",
       "  ('mul', ['y', '0']),\n",
       "  ('add', ['y', '25']),\n",
       "  ('mul', ['y', 'x']),\n",
       "  ('add', ['y', '1']),\n",
       "  ('mul', ['z', 'y']),\n",
       "  ('mul', ['y', '0']),\n",
       "  ('add', ['y', 'w']),\n",
       "  ('add', ['y', '5']),\n",
       "  ('mul', ['y', 'x']),\n",
       "  ('add', ['z', 'y'])],\n",
       " 9: [('mul', ['x', '0']),\n",
       "  ('add', ['x', 'z']),\n",
       "  ('mod', ['x', '26']),\n",
       "  ('div', ['z', '1']),\n",
       "  ('add', ['x', '12']),\n",
       "  ('eql', ['x', 'w']),\n",
       "  ('eql', ['x', '0']),\n",
       "  ('mul', ['y', '0']),\n",
       "  ('add', ['y', '25']),\n",
       "  ('mul', ['y', 'x']),\n",
       "  ('add', ['y', '1']),\n",
       "  ('mul', ['z', 'y']),\n",
       "  ('mul', ['y', '0']),\n",
       "  ('add', ['y', 'w']),\n",
       "  ('add', ['y', '7']),\n",
       "  ('mul', ['y', 'x']),\n",
       "  ('add', ['z', 'y'])],\n",
       " 10: [('mul', ['x', '0']),\n",
       "  ('add', ['x', 'z']),\n",
       "  ('mod', ['x', '26']),\n",
       "  ('div', ['z', '26']),\n",
       "  ('add', ['x', '-15']),\n",
       "  ('eql', ['x', 'w']),\n",
       "  ('eql', ['x', '0']),\n",
       "  ('mul', ['y', '0']),\n",
       "  ('add', ['y', '25']),\n",
       "  ('mul', ['y', 'x']),\n",
       "  ('add', ['y', '1']),\n",
       "  ('mul', ['z', 'y']),\n",
       "  ('mul', ['y', '0']),\n",
       "  ('add', ['y', 'w']),\n",
       "  ('add', ['y', '6']),\n",
       "  ('mul', ['y', 'x']),\n",
       "  ('add', ['z', 'y'])],\n",
       " 11: [('mul', ['x', '0']),\n",
       "  ('add', ['x', 'z']),\n",
       "  ('mod', ['x', '26']),\n",
       "  ('div', ['z', '26']),\n",
       "  ('add', ['x', '-7']),\n",
       "  ('eql', ['x', 'w']),\n",
       "  ('eql', ['x', '0']),\n",
       "  ('mul', ['y', '0']),\n",
       "  ('add', ['y', '25']),\n",
       "  ('mul', ['y', 'x']),\n",
       "  ('add', ['y', '1']),\n",
       "  ('mul', ['z', 'y']),\n",
       "  ('mul', ['y', '0']),\n",
       "  ('add', ['y', 'w']),\n",
       "  ('add', ['y', '8']),\n",
       "  ('mul', ['y', 'x']),\n",
       "  ('add', ['z', 'y'])],\n",
       " 12: [('mul', ['x', '0']),\n",
       "  ('add', ['x', 'z']),\n",
       "  ('mod', ['x', '26']),\n",
       "  ('div', ['z', '26']),\n",
       "  ('add', ['x', '-10']),\n",
       "  ('eql', ['x', 'w']),\n",
       "  ('eql', ['x', '0']),\n",
       "  ('mul', ['y', '0']),\n",
       "  ('add', ['y', '25']),\n",
       "  ('mul', ['y', 'x']),\n",
       "  ('add', ['y', '1']),\n",
       "  ('mul', ['z', 'y']),\n",
       "  ('mul', ['y', '0']),\n",
       "  ('add', ['y', 'w']),\n",
       "  ('add', ['y', '4']),\n",
       "  ('mul', ['y', 'x']),\n",
       "  ('add', ['z', 'y'])],\n",
       " 13: [('mul', ['x', '0']),\n",
       "  ('add', ['x', 'z']),\n",
       "  ('mod', ['x', '26']),\n",
       "  ('div', ['z', '26']),\n",
       "  ('add', ['x', '0']),\n",
       "  ('eql', ['x', 'w']),\n",
       "  ('eql', ['x', '0']),\n",
       "  ('mul', ['y', '0']),\n",
       "  ('add', ['y', '25']),\n",
       "  ('mul', ['y', 'x']),\n",
       "  ('add', ['y', '1']),\n",
       "  ('mul', ['z', 'y']),\n",
       "  ('mul', ['y', '0']),\n",
       "  ('add', ['y', 'w']),\n",
       "  ('add', ['y', '6']),\n",
       "  ('mul', ['y', 'x']),\n",
       "  ('add', ['z', 'y'])]}"
      ]
     },
     "execution_count": 150,
     "metadata": {},
     "output_type": "execute_result"
    }
   ],
   "source": [
    "'''\n",
    "list of ws, (string), possible zs\n",
    "'''"
   ]
  },
  {
   "cell_type": "code",
   "execution_count": 415,
   "metadata": {
    "scrolled": true
   },
   "outputs": [
    {
     "name": "stdout",
     "output_type": "stream",
     "text": [
      "z*(25*f(f(Mod(z, 26) + 14, w), 0) + 1) + (w + 7)*f(f(Mod(z, 26) + 14, w), 0)\n",
      "z*(25*f(f(Mod(z, 26) + 12, w), 0) + 1) + (w + 4)*f(f(Mod(z, 26) + 12, w), 0)\n",
      "z*(25*f(f(Mod(z, 26) + 11, w), 0) + 1) + (w + 8)*f(f(Mod(z, 26) + 11, w), 0)\n",
      "z*(25*f(f(Mod(z, 26) - 4, w), 0) + 1)/26 + (w + 1)*f(f(Mod(z, 26) - 4, w), 0)\n",
      "z*(25*f(f(Mod(z, 26) + 10, w), 0) + 1) + (w + 5)*f(f(Mod(z, 26) + 10, w), 0)\n",
      "z*(25*f(f(Mod(z, 26) + 10, w), 0) + 1) + (w + 14)*f(f(Mod(z, 26) + 10, w), 0)\n",
      "z*(25*f(f(Mod(z, 26) + 15, w), 0) + 1) + (w + 12)*f(f(Mod(z, 26) + 15, w), 0)\n",
      "z*(25*f(f(Mod(z, 26) - 9, w), 0) + 1)/26 + (w + 10)*f(f(Mod(z, 26) - 9, w), 0)\n",
      "z*(25*f(f(Mod(z, 26) - 9, w), 0) + 1)/26 + (w + 5)*f(f(Mod(z, 26) - 9, w), 0)\n",
      "z*(25*f(f(Mod(z, 26) + 12, w), 0) + 1) + (w + 7)*f(f(Mod(z, 26) + 12, w), 0)\n",
      "z*(25*f(f(Mod(z, 26) - 15, w), 0) + 1)/26 + (w + 6)*f(f(Mod(z, 26) - 15, w), 0)\n",
      "z*(25*f(f(Mod(z, 26) - 7, w), 0) + 1)/26 + (w + 8)*f(f(Mod(z, 26) - 7, w), 0)\n",
      "z*(25*f(f(Mod(z, 26) - 10, w), 0) + 1)/26 + (w + 4)*f(f(Mod(z, 26) - 10, w), 0)\n",
      "z*(25*f(f(Mod(z, 26), w), 0) + 1)/26 + (w + 6)*f(f(Mod(z, 26), w), 0)\n"
     ]
    }
   ],
   "source": [
    "day = '24'\n",
    "fn = f'../{day}/{day}.txt'\n",
    "# fn = f'../{day}/{day}_test2.txt'\n",
    "\n",
    "inst = load_input(fn)\n",
    "\n",
    "new_inst = []\n",
    "w_count = 1\n",
    "for cmd, vals in inst:\n",
    "    if cmd == 'inp':\n",
    "        new_inst.append((cmd, ['w'+str(w_count)]))\n",
    "        w_count += 1\n",
    "    else:\n",
    "        new_inst.append((cmd, vals))\n",
    "\n",
    "inst = new_inst\n",
    "b_strs = {}\n",
    "nb = -1\n",
    "ilist = []\n",
    "for i in inst:\n",
    "    if i[0] == 'inp':\n",
    "        b_strs[nb] = ilist\n",
    "        ilist = []\n",
    "        nb +=1\n",
    "    else:\n",
    "        ilist.append(i)\n",
    "    \n",
    "b_strs[nb] = ilist\n",
    "        \n",
    "for b, bi in b_strs.items():\n",
    "    s = 'z'\n",
    "    if b == -1:\n",
    "        continue\n",
    "    else:\n",
    "        bi.reverse()\n",
    "        for i in bi:\n",
    "            i = inst_to_str(i)\n",
    "            var = i[0]\n",
    "            repl = f'({i[4:]})'\n",
    "#             print(var, repl)\n",
    "            s = s.replace(var, repl)\n",
    "    s = sympify(s)\n",
    "    print(simplify(s))\n",
    "# inst.reverse()\n",
    "# inst_strs = []\n",
    "# with open('../24/24_cmds.txt', 'w') as fh:\n",
    "#     for i in inst:\n",
    "#         fh.write(inst_to_str(i)+'\\n')\n",
    "#         inst_strs.append(inst_to_str(i))"
   ]
  },
  {
   "cell_type": "code",
   "execution_count": 383,
   "metadata": {},
   "outputs": [
    {
     "name": "stdout",
     "output_type": "stream",
     "text": [
      " (z * ((((y * 0) + 25) * (f(x, 0))) + 1)) + ((((((((y * 0) + 25) * (f(x, 0))) + 1) * 0) + w) + 6) * (f(x, 0)))\n"
     ]
    }
   ],
   "source": [
    "for ind, istr in enumerate(inst_strs):\n",
    "    if ind == 0:\n",
    "        s = istr[3:]\n",
    "        continue\n",
    "    if ind > 10:\n",
    "        continue\n",
    "    var = istr[0]\n",
    "    repl = f'({istr[4:]})'\n",
    "    s = s.replace(var, repl)\n",
    "print(s)"
   ]
  },
  {
   "cell_type": "code",
   "execution_count": 402,
   "metadata": {},
   "outputs": [
    {
     "data": {
      "text/latex": [
       "$\\displaystyle \\left(\\frac{z \\left(\\left(25 \\left(f{\\left(f{\\left(\\left(z\\bmod{26}\\right) - 10,w \\right)},0 \\right)}\\right)\\right) + 1\\right)}{26}\\right) + \\left(\\left(w + 4\\right) \\left(f{\\left(f{\\left(\\left(z\\bmod{26}\\right) - 10,w \\right)},0 \\right)}\\right)\\right)$"
      ],
      "text/plain": [
       "z*(25*f(f(Mod(z, 26) - 10, w), 0) + 1)/26 + (w + 4)*f(f(Mod(z, 26) - 10, w), 0)"
      ]
     },
     "execution_count": 402,
     "metadata": {},
     "output_type": "execute_result"
    }
   ],
   "source": [
    "# x, y, z, w, w14 = symbols('x y z w w14')\n",
    "# E = Function('E')\n",
    "\n",
    "# sympify('E(x)')\n",
    "# exp = parse_expr(s)\n",
    "exp  = sympify(s)\n",
    "simplify(exp)"
   ]
  },
  {
   "cell_type": "code",
   "execution_count": 401,
   "metadata": {},
   "outputs": [
    {
     "data": {
      "text/plain": [
       "'(((z / 26) * ((((y * 0) + 25) * (f((f(((((x * 0) + z) % 26) + -10), w)), 0))) + 1)) + ((((((((y * 0) + 25) * (f((f(((((x * 0) + z) % 26) + -10), w)), 0))) + 1) * 0) + w) + 4) * (f((f(((((x * 0) + z) % 26) + -10), w)), 0))))'"
      ]
     },
     "execution_count": 401,
     "metadata": {},
     "output_type": "execute_result"
    }
   ],
   "source": [
    "s"
   ]
  },
  {
   "cell_type": "code",
   "execution_count": 80,
   "metadata": {},
   "outputs": [
    {
     "data": {
      "text/plain": [
       "'\\ninp a - Read an input value and write it to variable a.\\nadd a b - Add the value of a to the value of b, then store the result in variable a.\\nmul a b - Multiply the value of a by the value of b, then store the result in variable a.\\ndiv a b - Divide the value of a by the value of b, truncate the result to an integer, then store the result in variable a. (Here, \"truncate\" means to round the value toward zero.)\\nmod a b - Divide the value of a by the value of b, then store the remainder in variable a. (This is also called the modulo operation.)\\neql a b - If the value of a and b are equal, then store the value 1 in variable a. Otherwise, store the value 0 in variable a.\\n\\nfind largest 14 digit number accepted\\n\\n'"
      ]
     },
     "execution_count": 80,
     "metadata": {},
     "output_type": "execute_result"
    }
   ],
   "source": [
    "'''\n",
    "inp a - Read an input value and write it to variable a.\n",
    "add a b - Add the value of a to the value of b, then store the result in variable a.\n",
    "mul a b - Multiply the value of a by the value of b, then store the result in variable a.\n",
    "div a b - Divide the value of a by the value of b, truncate the result to an integer, then store the result in variable a. (Here, \"truncate\" means to round the value toward zero.)\n",
    "mod a b - Divide the value of a by the value of b, then store the remainder in variable a. (This is also called the modulo operation.)\n",
    "eql a b - If the value of a and b are equal, then store the value 1 in variable a. Otherwise, store the value 0 in variable a.\n",
    "\n",
    "find largest 14 digit number accepted\n",
    "\n",
    "'''"
   ]
  },
  {
   "cell_type": "code",
   "execution_count": 379,
   "metadata": {},
   "outputs": [
    {
     "data": {
      "text/latex": [
       "$\\displaystyle f{\\left(x,y \\right)}$"
      ],
      "text/plain": [
       "f(x, y)"
      ]
     },
     "execution_count": 379,
     "metadata": {},
     "output_type": "execute_result"
    }
   ],
   "source": [
    "sympify('f(x,y)')"
   ]
  },
  {
   "cell_type": "code",
   "execution_count": 406,
   "metadata": {},
   "outputs": [
    {
     "data": {
      "text/plain": [
       "0"
      ]
     },
     "execution_count": 406,
     "metadata": {},
     "output_type": "execute_result"
    }
   ],
   "source": [
    "1 * (1==0)"
   ]
  },
  {
   "cell_type": "code",
   "execution_count": null,
   "metadata": {},
   "outputs": [],
   "source": []
  }
 ],
 "metadata": {
  "kernelspec": {
   "display_name": "Python 3",
   "language": "python",
   "name": "python3"
  },
  "language_info": {
   "codemirror_mode": {
    "name": "ipython",
    "version": 3
   },
   "file_extension": ".py",
   "mimetype": "text/x-python",
   "name": "python",
   "nbconvert_exporter": "python",
   "pygments_lexer": "ipython3",
   "version": "3.8.5"
  }
 },
 "nbformat": 4,
 "nbformat_minor": 4
}
