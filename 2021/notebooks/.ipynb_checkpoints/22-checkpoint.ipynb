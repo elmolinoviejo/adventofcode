{
 "cells": [
  {
   "cell_type": "code",
   "execution_count": 89,
   "metadata": {},
   "outputs": [],
   "source": [
    "from collections import Counter, deque, defaultdict\n",
    "from itertools import product, count, combinations\n",
    "import numpy as np\n",
    "import matplotlib.pyplot as plt\n",
    "import networkx as nx"
   ]
  },
  {
   "cell_type": "code",
   "execution_count": 90,
   "metadata": {},
   "outputs": [],
   "source": [
    "def load_input(fn):\n",
    "    bs = {}\n",
    "    with open(fn) as fh:\n",
    "        scans = fh.read().split('\\n\\n')\n",
    "        for sc in scans:\n",
    "            blist = []\n",
    "            for ind, l in enumerate(sc.split('\\n')):\n",
    "                if ind==0:\n",
    "                    sn = l.replace('-', '').rstrip().split('scanner ')[1]\n",
    "                    sn = int(sn)\n",
    "                else:\n",
    "                    blist.append(tuple([int(x) for x in l.rstrip().split(',')]))\n",
    "            bs[sn] = blist\n",
    "    return bs\n",
    "\n",
    "\n",
    "def get_dists(blist):\n",
    "    dists = {}\n",
    "    for ind1, ind2 in combinations(range(len(blist)), 2):\n",
    "        b1 = blist[ind1]\n",
    "        b2 = blist[ind2]\n",
    "        d = tuple([x - y for x, y in zip(b1, b2)])\n",
    "        dists[(ind1, ind2)] = d\n",
    "    \n",
    "    return dists\n",
    "\n",
    "\n",
    "def get_orientations(b):\n",
    "    for dd in product((1, -1), repeat=3):\n",
    "        \n",
    "    "
   ]
  },
  {
   "cell_type": "code",
   "execution_count": 95,
   "metadata": {},
   "outputs": [],
   "source": [
    "day = '19'\n",
    "fn = f'../{day}/{day}.txt'\n",
    "fn = f'../{day}/{day}_test2.txt'\n",
    "\n",
    "bs = load_input(fn)"
   ]
  },
  {
   "cell_type": "code",
   "execution_count": 107,
   "metadata": {},
   "outputs": [],
   "source": [
    "# for k, v in get_dists(bs[0]).items():\n",
    "#     print(v)\n",
    "#     if v in get_dists(bs[1]).values():\n",
    "#         print('yes')"
   ]
  },
  {
   "cell_type": "code",
   "execution_count": 108,
   "metadata": {},
   "outputs": [],
   "source": [
    "# get_dists(bs[1]).values()"
   ]
  },
  {
   "cell_type": "code",
   "execution_count": 94,
   "metadata": {},
   "outputs": [
    {
     "name": "stdout",
     "output_type": "stream",
     "text": [
      "(1, 1, 1)\n",
      "(1, 1, -1)\n",
      "(1, -1, 1)\n",
      "(1, -1, -1)\n",
      "(-1, 1, 1)\n",
      "(-1, 1, -1)\n",
      "(-1, -1, 1)\n",
      "(-1, -1, -1)\n"
     ]
    }
   ],
   "source": [
    "for x in product((1, -1), repeat=3):\n",
    "    print(x)"
   ]
  },
  {
   "cell_type": "code",
   "execution_count": 75,
   "metadata": {},
   "outputs": [
    {
     "name": "stdout",
     "output_type": "stream",
     "text": [
      "0 1\n",
      "0 2\n",
      "0 3\n",
      "1 0\n",
      "1 2\n",
      "1 3\n",
      "2 0\n",
      "2 1\n",
      "2 3\n",
      "3 0\n",
      "3 1\n",
      "3 2\n"
     ]
    }
   ],
   "source": [
    "\n",
    "for ind1, ind2 in permutations(range(4), 2):\n",
    "    print(ind1, ind2)"
   ]
  },
  {
   "cell_type": "code",
   "execution_count": 104,
   "metadata": {},
   "outputs": [],
   "source": [
    "def test(x):\n",
    "    for i in range(2):\n",
    "        yield x+i"
   ]
  },
  {
   "cell_type": "code",
   "execution_count": 106,
   "metadata": {},
   "outputs": [
    {
     "name": "stdout",
     "output_type": "stream",
     "text": [
      "2\n",
      "3\n"
     ]
    }
   ],
   "source": [
    "for x in test(2):\n",
    "    print(x)"
   ]
  },
  {
   "cell_type": "code",
   "execution_count": 110,
   "metadata": {},
   "outputs": [
    {
     "name": "stdout",
     "output_type": "stream",
     "text": [
      "((-1, -1, -1), (-1, 1, 1))\n",
      "((-1, -1, -1), (1, -1, 1))\n",
      "((-1, -1, -1), (1, 1, -1))\n",
      "((-1, -1, 1), (-1, 1, -1))\n",
      "((-1, -1, 1), (1, -1, -1))\n",
      "((-1, -1, 1), (1, 1, 1))\n",
      "((-1, 1, -1), (-1, -1, 1))\n",
      "((-1, 1, -1), (1, -1, -1))\n",
      "((-1, 1, -1), (1, 1, 1))\n",
      "((-1, 1, 1), (-1, -1, -1))\n",
      "((-1, 1, 1), (1, -1, 1))\n",
      "((-1, 1, 1), (1, 1, -1))\n",
      "((1, -1, -1), (-1, -1, 1))\n",
      "((1, -1, -1), (-1, 1, -1))\n",
      "((1, -1, -1), (1, 1, 1))\n",
      "((1, -1, 1), (-1, -1, -1))\n",
      "((1, -1, 1), (-1, 1, 1))\n",
      "((1, -1, 1), (1, 1, -1))\n",
      "((1, 1, -1), (-1, -1, -1))\n",
      "((1, 1, -1), (-1, 1, 1))\n",
      "((1, 1, -1), (1, -1, 1))\n",
      "((1, 1, 1), (-1, -1, 1))\n",
      "((1, 1, 1), (-1, 1, -1))\n",
      "((1, 1, 1), (1, -1, -1))\n"
     ]
    }
   ],
   "source": [
    "def roll(v): return (v[0],v[2],-v[1])\n",
    "def turn(v): return (-v[1],v[0],v[2])\n",
    "def sequence (v):\n",
    "    for cycle in range(2):\n",
    "        for step in range(3):  # Yield RTTT 3 times\n",
    "            v = roll(v)\n",
    "            yield(v)           #    Yield R\n",
    "            for i in range(3): #    Yield TTT\n",
    "                v = turn(v)\n",
    "                yield(v)\n",
    "        v = roll(turn(roll(v)))  # Do RTR\n",
    "\n",
    "p = sequence(( 1, 1, 1))\n",
    "q = sequence((-1,-1, 1))\n",
    "for i in sorted(zip(p,q)):\n",
    "    print(i)"
   ]
  },
  {
   "cell_type": "code",
   "execution_count": null,
   "metadata": {},
   "outputs": [],
   "source": []
  }
 ],
 "metadata": {
  "kernelspec": {
   "display_name": "Python 3",
   "language": "python",
   "name": "python3"
  },
  "language_info": {
   "codemirror_mode": {
    "name": "ipython",
    "version": 3
   },
   "file_extension": ".py",
   "mimetype": "text/x-python",
   "name": "python",
   "nbconvert_exporter": "python",
   "pygments_lexer": "ipython3",
   "version": "3.8.5"
  }
 },
 "nbformat": 4,
 "nbformat_minor": 4
}
