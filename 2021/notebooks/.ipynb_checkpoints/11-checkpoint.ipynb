{
 "cells": [
  {
   "cell_type": "code",
   "execution_count": 2,
   "metadata": {},
   "outputs": [],
   "source": [
    "from collections import Counter, deque\n",
    "from itertools import product\n",
    "import numpy as np\n",
    "import matplotlib.pyplot as plt\n",
    "import networkx as nx"
   ]
  },
  {
   "cell_type": "code",
   "execution_count": 76,
   "metadata": {},
   "outputs": [],
   "source": [
    "day = '10'\n",
    "fn = f'../{day}/{day}.txt'\n",
    "# fn = f'../{day}/{day}_test.txt'\n",
    "\n",
    "# lines\n",
    "with open(fn) as fh:\n",
    "    lines = fh.read().split('\\n')\n",
    "#         l.rstrip()\n",
    "        "
   ]
  },
  {
   "cell_type": "code",
   "execution_count": 82,
   "metadata": {},
   "outputs": [],
   "source": [
    "def check_line(l):\n",
    "    count = Counter()\n",
    "    n_open = 0\n",
    "    open_order = []\n",
    "    for ind, s in enumerate(l):\n",
    "        if s=='(':\n",
    "            count['('] += 1\n",
    "            n_open +=1\n",
    "            open_order.append('(')\n",
    "        if s==')':\n",
    "#             if count['('] == 0:\n",
    "#                 return s, ind\n",
    "            if open_order.pop() != '(':\n",
    "                return True, s\n",
    "            count['('] -= 1\n",
    "            n_open -= 1\n",
    "            \n",
    "        if s=='[':\n",
    "            count['['] += 1\n",
    "            n_open +=1\n",
    "            open_order.append('[')\n",
    "        if s==']':\n",
    "#             if count['['] == 0:\n",
    "#                 return s, ind\n",
    "            if open_order.pop() != '[':\n",
    "                return True, s\n",
    "            count['['] -= 1\n",
    "            n_open -= 1\n",
    "            \n",
    "        if s=='{':\n",
    "            count['{'] += 1\n",
    "            n_open +=1\n",
    "            open_order.append('{')\n",
    "        if s=='}':\n",
    "#             if count['{'] == 0:\n",
    "#                 return s, ind\n",
    "            if open_order.pop() != '{':\n",
    "                return True, s\n",
    "            count['{'] -= 1\n",
    "            n_open -= 1\n",
    "            \n",
    "        if s=='<':\n",
    "            count['<'] += 1\n",
    "            n_open +=1\n",
    "            open_order.append('<')\n",
    "        if s=='>':\n",
    "#             if count['<'] == 0:\n",
    "#                 return s, ind\n",
    "            if open_order.pop() != '<':\n",
    "                return True, s\n",
    "            count['<'] -= 1\n",
    "            n_open -= 1\n",
    "    return False, open_order\n",
    "#         print(s, n_open, count)\n",
    "#         if n_open == 0:\n",
    "#             print(count)\n",
    "#     return count, n_open"
   ]
  },
  {
   "cell_type": "code",
   "execution_count": 78,
   "metadata": {},
   "outputs": [
    {
     "data": {
      "text/plain": [
       "')'"
      ]
     },
     "execution_count": 78,
     "metadata": {},
     "output_type": "execute_result"
    }
   ],
   "source": [
    "# count opens and closes\n",
    "##\n",
    "tl = '[<>({}){}[([])<>]]'\n",
    "tl = '(]'\n",
    "tl = '{([(<{}[<>[]}>{[]{[(<()>'\n",
    "# tl = '<([]){()}[{}])'\n",
    "tl = '[[<[([]))<([[{}[[()]]]'\n",
    "check_line(tl)\n",
    "    "
   ]
  },
  {
   "cell_type": "code",
   "execution_count": 88,
   "metadata": {},
   "outputs": [],
   "source": [
    "# part 1\n",
    "corrupt_score = {\n",
    "    ')': 3,\n",
    "    ']': 57,\n",
    "    '}': 1197,\n",
    "    '>': 25137\n",
    "}\n",
    "\n",
    "\n",
    "\n",
    "def calc_inscore(s):\n",
    "    in_score = {\n",
    "        '(': 1,\n",
    "        '[': 2,\n",
    "        '{': 3,\n",
    "        '<': 4\n",
    "    }\n",
    "    \n",
    "    s.reverse()\n",
    "    score = 0\n",
    "    for v in s:\n",
    "        score = score * 5\n",
    "        score = score + in_score[v]\n",
    "    return score\n",
    "\n",
    "ans = 0\n",
    "inscores = []\n",
    "for l in lines:\n",
    "    corrupt, s = check_line(l)\n",
    "    if corrupt:\n",
    "        ans += corrupt_score[s]\n",
    "    else:\n",
    "        inscores.append(calc_inscore(s))"
   ]
  },
  {
   "cell_type": "code",
   "execution_count": 84,
   "metadata": {},
   "outputs": [
    {
     "data": {
      "text/plain": [
       "311895"
      ]
     },
     "execution_count": 84,
     "metadata": {},
     "output_type": "execute_result"
    }
   ],
   "source": [
    "# part 2"
   ]
  },
  {
   "cell_type": "code",
   "execution_count": 94,
   "metadata": {},
   "outputs": [
    {
     "data": {
      "text/plain": [
       "2904180541"
      ]
     },
     "execution_count": 94,
     "metadata": {},
     "output_type": "execute_result"
    }
   ],
   "source": [
    "inscores.sort()\n",
    "inscores[23]"
   ]
  },
  {
   "cell_type": "code",
   "execution_count": 91,
   "metadata": {},
   "outputs": [
    {
     "data": {
      "text/plain": [
       "47"
      ]
     },
     "execution_count": 91,
     "metadata": {},
     "output_type": "execute_result"
    }
   ],
   "source": [
    "len(inscores)"
   ]
  },
  {
   "cell_type": "code",
   "execution_count": 96,
   "metadata": {},
   "outputs": [
    {
     "data": {
      "text/plain": [
       "{'a': 'd', 's': 's'}"
      ]
     },
     "execution_count": 96,
     "metadata": {},
     "output_type": "execute_result"
    }
   ],
   "source": [
    "dict(zip('as', 'ds'))"
   ]
  },
  {
   "cell_type": "code",
   "execution_count": 97,
   "metadata": {},
   "outputs": [],
   "source": [
    "x = 1\n",
    "x *= 4"
   ]
  },
  {
   "cell_type": "code",
   "execution_count": 98,
   "metadata": {},
   "outputs": [
    {
     "data": {
      "text/plain": [
       "4"
      ]
     },
     "execution_count": 98,
     "metadata": {},
     "output_type": "execute_result"
    }
   ],
   "source": [
    "x"
   ]
  },
  {
   "cell_type": "code",
   "execution_count": null,
   "metadata": {},
   "outputs": [],
   "source": []
  }
 ],
 "metadata": {
  "kernelspec": {
   "display_name": "Python 3",
   "language": "python",
   "name": "python3"
  },
  "language_info": {
   "codemirror_mode": {
    "name": "ipython",
    "version": 3
   },
   "file_extension": ".py",
   "mimetype": "text/x-python",
   "name": "python",
   "nbconvert_exporter": "python",
   "pygments_lexer": "ipython3",
   "version": "3.8.5"
  }
 },
 "nbformat": 4,
 "nbformat_minor": 4
}
