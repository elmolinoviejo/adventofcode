{
 "cells": [
  {
   "cell_type": "code",
   "execution_count": 7,
   "metadata": {},
   "outputs": [],
   "source": [
    "from collections import Counter, deque\n",
    "from itertools import product\n",
    "import numpy as np\n",
    "import matplotlib.pyplot as plt\n",
    "import networkx as nx"
   ]
  },
  {
   "cell_type": "code",
   "execution_count": 19,
   "metadata": {},
   "outputs": [],
   "source": [
    "def load_input(fn):\n",
    "    hs = {}\n",
    "    with open(fn) as fh:\n",
    "        lines = fh.read().split('\\n')\n",
    "\n",
    "    for y, line in enumerate(lines):\n",
    "        for x, h in enumerate(line):\n",
    "            hs[(int(x), int(y))] = int(h)\n",
    "    return hs\n",
    "\n",
    "def get_adj(loc, hs):\n",
    "    x, y = loc\n",
    "    adj = []\n",
    "    for a in [(x + 1, y),\n",
    "                (x - 1, y),\n",
    "                (x, y + 1),\n",
    "                (x, y -1)]:\n",
    "        if a in hs:\n",
    "            adj.append(a)\n",
    "    return adj\n",
    "\n",
    "\n",
    "def step(hs):\n",
    "    for loc, v in hs.items():\n",
    "        hs[loc] = v + 1\n",
    "    \n",
    "    flashed = set()\n",
    "    n_to_flash = len([v for loc, v in hs.items() if (v > 9) and (loc not in flashed)])\n",
    "    while  n_to_flash > 0:\n",
    "        for loc, v in hs.items():\n",
    "            if loc in flashed:\n",
    "                continue\n",
    "            if v > 9:\n",
    "                flashed.add(loc)\n",
    "                hs[loc] = 0\n",
    "                for adj in get_adj(loc, hs):\n",
    "                    hs[adj] += 1\n",
    "            n_to_flash = len([v for loc, v in hs.items() if (v > 9) and (loc not in flashed)])\n",
    "    return hs\n",
    "            "
   ]
  },
  {
   "cell_type": "code",
   "execution_count": 20,
   "metadata": {},
   "outputs": [],
   "source": [
    "day = '11'\n",
    "fn = f'../{day}/{day}.txt'\n",
    "fn = f'../{day}/{day}_test.txt'\n",
    "\n",
    "hs = load_input(fn)\n"
   ]
  },
  {
   "cell_type": "code",
   "execution_count": 21,
   "metadata": {},
   "outputs": [
    {
     "data": {
      "text/plain": [
       "{(0, 0): 1,\n",
       " (1, 0): 1,\n",
       " (2, 0): 1,\n",
       " (3, 0): 1,\n",
       " (4, 0): 1,\n",
       " (0, 1): 1,\n",
       " (1, 1): 9,\n",
       " (2, 1): 9,\n",
       " (3, 1): 9,\n",
       " (4, 1): 1,\n",
       " (0, 2): 1,\n",
       " (1, 2): 9,\n",
       " (2, 2): 1,\n",
       " (3, 2): 9,\n",
       " (4, 2): 1,\n",
       " (0, 3): 1,\n",
       " (1, 3): 9,\n",
       " (2, 3): 9,\n",
       " (3, 3): 9,\n",
       " (4, 3): 1,\n",
       " (0, 4): 1,\n",
       " (1, 4): 1,\n",
       " (2, 4): 1,\n",
       " (3, 4): 1,\n",
       " (4, 4): 1}"
      ]
     },
     "execution_count": 21,
     "metadata": {},
     "output_type": "execute_result"
    }
   ],
   "source": [
    "hs"
   ]
  },
  {
   "cell_type": "code",
   "execution_count": null,
   "metadata": {},
   "outputs": [],
   "source": []
  }
 ],
 "metadata": {
  "kernelspec": {
   "display_name": "Python 3",
   "language": "python",
   "name": "python3"
  },
  "language_info": {
   "codemirror_mode": {
    "name": "ipython",
    "version": 3
   },
   "file_extension": ".py",
   "mimetype": "text/x-python",
   "name": "python",
   "nbconvert_exporter": "python",
   "pygments_lexer": "ipython3",
   "version": "3.8.5"
  }
 },
 "nbformat": 4,
 "nbformat_minor": 4
}
