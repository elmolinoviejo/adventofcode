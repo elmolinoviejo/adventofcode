{
 "cells": [
  {
   "cell_type": "code",
   "execution_count": 2,
   "metadata": {},
   "outputs": [],
   "source": [
    "from collections import Counter, deque\n",
    "from itertools import product\n",
    "import numpy as np\n",
    "import matplotlib.pyplot as plt\n",
    "import networkx as nx"
   ]
  },
  {
   "cell_type": "code",
   "execution_count": 34,
   "metadata": {},
   "outputs": [],
   "source": [
    "day = '10'\n",
    "fn = f'../{day}/{day}.txt'\n",
    "fn = f'../{day}/{day}_test.txt'\n",
    "\n",
    "# lines\n",
    "with open(fn) as fh:\n",
    "    lines = fh.read().split('\\n')\n",
    "#         l.rstrip()\n",
    "        "
   ]
  },
  {
   "cell_type": "code",
   "execution_count": 53,
   "metadata": {},
   "outputs": [],
   "source": [
    "def check_line(l):\n",
    "    count = Counter()\n",
    "    n_open = 0\n",
    "    open_order = []\n",
    "    for ind, s in enumerate(l):\n",
    "        if s=='(':\n",
    "            count['('] += 1\n",
    "            n_open +=1\n",
    "            open_order.append('(')\n",
    "        if s==')':\n",
    "#             if count['('] == 0:\n",
    "#                 return s, ind\n",
    "            if open_order.pop() != '(':\n",
    "                return s\n",
    "            count['('] -= 1\n",
    "            n_open -= 1\n",
    "            \n",
    "        if s=='[':\n",
    "            count['['] += 1\n",
    "            n_open +=1\n",
    "            open_order.append('[')\n",
    "        if s==']':\n",
    "#             if count['['] == 0:\n",
    "#                 return s, ind\n",
    "            if open_order.pop() != '[':\n",
    "                return s\n",
    "            count['['] -= 1\n",
    "            n_open -= 1\n",
    "            \n",
    "        if s=='{':\n",
    "            count['{'] += 1\n",
    "            n_open +=1\n",
    "            open_order.append('{')\n",
    "        if s=='}':\n",
    "#             if count['{'] == 0:\n",
    "#                 return s, ind\n",
    "            if open_order.pop() != '{'\n",
    "            count['{'] -= 1\n",
    "            n_open -= 1\n",
    "            \n",
    "        if s=='<':\n",
    "            count['<'] += 1\n",
    "            n_open +=1\n",
    "        if s=='>':\n",
    "#             if count['<'] == 0:\n",
    "#                 return s, ind\n",
    "            count['<'] -= 1\n",
    "            n_open -= 1\n",
    "        \n",
    "        print(s, n_open, count)\n",
    "#         if n_open == 0:\n",
    "#             print(count)\n",
    "#     return count, n_open"
   ]
  },
  {
   "cell_type": "code",
   "execution_count": 54,
   "metadata": {},
   "outputs": [
    {
     "name": "stdout",
     "output_type": "stream",
     "text": [
      "< 1 Counter({'<': 1})\n",
      "( 2 Counter({'<': 1, '(': 1})\n",
      "[ 3 Counter({'<': 1, '(': 1, '[': 1})\n",
      "] 2 Counter({'<': 1, '(': 1, '[': 0})\n",
      ") 1 Counter({'<': 1, '(': 0, '[': 0})\n",
      "{ 2 Counter({'<': 1, '{': 1, '(': 0, '[': 0})\n",
      "( 3 Counter({'<': 1, '(': 1, '{': 1, '[': 0})\n",
      ") 2 Counter({'<': 1, '{': 1, '(': 0, '[': 0})\n",
      "} 1 Counter({'<': 1, '(': 0, '[': 0, '{': 0})\n",
      "[ 2 Counter({'<': 1, '[': 1, '(': 0, '{': 0})\n",
      "{ 3 Counter({'<': 1, '[': 1, '{': 1, '(': 0})\n",
      "} 2 Counter({'<': 1, '[': 1, '(': 0, '{': 0})\n",
      "] 1 Counter({'<': 1, '(': 0, '[': 0, '{': 0})\n"
     ]
    },
    {
     "data": {
      "text/plain": [
       "(')', 13)"
      ]
     },
     "execution_count": 54,
     "metadata": {},
     "output_type": "execute_result"
    }
   ],
   "source": [
    "# count opens and closes\n",
    "##\n",
    "tl = '[<>({}){}[([])<>]]'\n",
    "tl = '(]'\n",
    "tl = '{([(<{}[<>[]}>{[]{[(<()>'\n",
    "tl = '<([]){()}[{}])'\n",
    "check_line(tl)\n",
    "    "
   ]
  },
  {
   "cell_type": "code",
   "execution_count": 41,
   "metadata": {},
   "outputs": [
    {
     "name": "stdout",
     "output_type": "stream",
     "text": [
      "(Counter({'[': 3, '{': 3, '(': 2, '<': 0}), 8)\n",
      "Counter({'[': 0, '(': 0, '<': 0})\n",
      "(Counter({'(': 2, '{': 2, '[': 1, '<': 1}), 6)\n",
      "(Counter({'(': 3, '[': 3, '{': 2, '<': 0}), 8)\n",
      "(Counter({'(': 4, '{': 3, '<': 2, '[': 0}), 9)\n",
      "(Counter({'[': 4, '<': 2, '(': 0, '{': 0}), 6)\n",
      "(Counter({'[': 3, '{': 3, '(': 3}), 9)\n",
      "Counter({'{': 0, '<': 0, '[': 0})\n",
      "(Counter({'{': 4, '[': 4, '<': 1, '(': 0}), 9)\n",
      "(Counter({'<': 4, '(': 3, '[': 1, '{': 0}), 8)\n",
      "(Counter({'{': 3, '(': 3, '<': 2, '[': 2}), 10)\n",
      "(Counter({'<': 1, '{': 1, '(': 1, '[': 1}), 4)\n"
     ]
    }
   ],
   "source": [
    "for l in lines:\n",
    "    print(check_line(l))"
   ]
  },
  {
   "cell_type": "code",
   "execution_count": 56,
   "metadata": {},
   "outputs": [
    {
     "ename": "AttributeError",
     "evalue": "'str' object has no attribute 'pop'",
     "output_type": "error",
     "traceback": [
      "\u001b[0;31m---------------------------------------------------------------------------\u001b[0m",
      "\u001b[0;31mAttributeError\u001b[0m                            Traceback (most recent call last)",
      "\u001b[0;32m<ipython-input-56-bd795868196f>\u001b[0m in \u001b[0;36m<module>\u001b[0;34m\u001b[0m\n\u001b[0;32m----> 1\u001b[0;31m \u001b[0;34m'ss'\u001b[0m\u001b[0;34m.\u001b[0m\u001b[0mpop\u001b[0m\u001b[0;34m(\u001b[0m\u001b[0;34m)\u001b[0m\u001b[0;34m\u001b[0m\u001b[0;34m\u001b[0m\u001b[0m\n\u001b[0m",
      "\u001b[0;31mAttributeError\u001b[0m: 'str' object has no attribute 'pop'"
     ]
    }
   ],
   "source": [
    "'ss'.pop()"
   ]
  },
  {
   "cell_type": "code",
   "execution_count": null,
   "metadata": {},
   "outputs": [],
   "source": []
  }
 ],
 "metadata": {
  "kernelspec": {
   "display_name": "Python 3",
   "language": "python",
   "name": "python3"
  },
  "language_info": {
   "codemirror_mode": {
    "name": "ipython",
    "version": 3
   },
   "file_extension": ".py",
   "mimetype": "text/x-python",
   "name": "python",
   "nbconvert_exporter": "python",
   "pygments_lexer": "ipython3",
   "version": "3.8.5"
  }
 },
 "nbformat": 4,
 "nbformat_minor": 4
}
