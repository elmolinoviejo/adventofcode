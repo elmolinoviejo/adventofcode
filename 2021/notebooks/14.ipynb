{
 "cells": [
  {
   "cell_type": "code",
   "execution_count": 12,
   "metadata": {},
   "outputs": [],
   "source": [
    "from collections import Counter, deque\n",
    "from itertools import product\n",
    "import numpy as np\n",
    "import matplotlib.pyplot as plt\n",
    "import networkx as nx"
   ]
  },
  {
   "cell_type": "code",
   "execution_count": 22,
   "metadata": {},
   "outputs": [],
   "source": [
    "def load_input(fn):\n",
    "    pis = {}\n",
    "    with open(fn) as fh:\n",
    "        temp, plist = fh.read().split('\\n\\n')\n",
    "        for p in plist.split('\\n'):\n",
    "            p1, p2 = p.split(' -> ')\n",
    "            pis[p1] = p2\n",
    "#             pis.append(tuple(p.split(' -> ')))\n",
    "    return temp, pis\n",
    "\n",
    "\n",
    "def step(temp, pis):\n",
    "    new_temp = []\n",
    "    for ind, c in enumerate(temp):\n",
    "        if ind==len(temp) - 1:\n",
    "            continue\n",
    "        pair = c + temp[ind+1]\n",
    "        new_temp.append(c)\n",
    "        if pair in pis:\n",
    "            new_temp.append(pis[pair])\n",
    "#         print(new_temp)\n",
    "    new_temp.append(temp[-1])\n",
    "#             to_add.append(tuple([pis[pair], ind]))\n",
    "#     print(to_add)\n",
    "    \n",
    "#     new_temp = ''\n",
    "#     ind_base = 1\n",
    "#     for ind, \n",
    "    return ''.join(new_temp)"
   ]
  },
  {
   "cell_type": "code",
   "execution_count": 23,
   "metadata": {},
   "outputs": [
    {
     "data": {
      "text/plain": [
       "[('N', 2), ('C', 2), ('B', 2), ('H', 1)]"
      ]
     },
     "execution_count": 23,
     "metadata": {},
     "output_type": "execute_result"
    }
   ],
   "source": [
    "day = '14'\n",
    "fn = f'../{day}/{day}.txt'\n",
    "fn = f'../{day}/{day}_test.txt'\n",
    "# fn = f'../{day}/{day}_test2.txt'\n",
    "\n",
    "temp, pis = load_input(fn)\n",
    "\n",
    "for _ in range(1):\n",
    "    temp = step(temp, pis)\n",
    "\n",
    "x = Counter(temp)\n",
    "x.most_common()"
   ]
  },
  {
   "cell_type": "code",
   "execution_count": 24,
   "metadata": {},
   "outputs": [
    {
     "name": "stdout",
     "output_type": "stream",
     "text": [
      "NCNBCHB\n",
      "{'CH': 'B', 'HH': 'N', 'CB': 'H', 'NH': 'C', 'HB': 'C', 'HC': 'B', 'HN': 'C', 'NN': 'C', 'BH': 'H', 'NC': 'B', 'NB': 'B', 'BN': 'B', 'BB': 'N', 'BC': 'B', 'CC': 'N', 'CN': 'C'}\n"
     ]
    }
   ],
   "source": [
    "\n",
    "print(temp)\n",
    "print(pis)"
   ]
  },
  {
   "cell_type": "code",
   "execution_count": 18,
   "metadata": {},
   "outputs": [],
   "source": [
    "# # store string as list of (let, repeat) ?\n",
    "# def list_count(temp):\n",
    "#     lc = []\n",
    "#     prev = temp[0]\n",
    "#     for c in temp[1:]:\n",
    "#         count = 1\n",
    "#         if c == prev:\n",
    "#             count += 1\n",
    "#         else:\n",
    "#             lc.append(tuple([prev, count]))\n",
    "#             prev = c\n",
    "#             count = 1\n",
    "#     return lc"
   ]
  },
  {
   "cell_type": "code",
   "execution_count": 25,
   "metadata": {},
   "outputs": [
    {
     "name": "stdout",
     "output_type": "stream",
     "text": [
      "NCNBCHB\n"
     ]
    },
    {
     "data": {
      "text/plain": [
       "[('N', 1), ('C', 1), ('N', 1), ('B', 1), ('C', 1), ('H', 1)]"
      ]
     },
     "execution_count": 25,
     "metadata": {},
     "output_type": "execute_result"
    }
   ],
   "source": [
    "print(temp)\n",
    "list_count(temp)"
   ]
  },
  {
   "cell_type": "code",
   "execution_count": null,
   "metadata": {},
   "outputs": [],
   "source": []
  },
  {
   "cell_type": "code",
   "execution_count": 26,
   "metadata": {},
   "outputs": [],
   "source": [
    "def get_pcount(temp):\n",
    "    pairs = []\n",
    "    for ind, c in enumerate(temp):\n",
    "        if ind==len(temp) - 1:\n",
    "            continue\n",
    "        pairs.append(c+temp[ind+1])\n",
    "    return pairs\n",
    "    "
   ]
  },
  {
   "cell_type": "code",
   "execution_count": 93,
   "metadata": {},
   "outputs": [
    {
     "data": {
      "text/plain": [
       "[('NB', 2),\n",
       " ('BC', 2),\n",
       " ('BB', 2),\n",
       " ('CB', 2),\n",
       " ('CC', 1),\n",
       " ('CN', 1),\n",
       " ('BH', 1),\n",
       " ('HC', 1)]"
      ]
     },
     "execution_count": 93,
     "metadata": {},
     "output_type": "execute_result"
    }
   ],
   "source": [
    "day = '14'\n",
    "fn = f'../{day}/{day}.txt'\n",
    "fn = f'../{day}/{day}_test.txt'\n",
    "# fn = f'../{day}/{day}_test2.txt'\n",
    "\n",
    "temp, pis = load_input(fn)\n",
    "pcount = Counter(get_pcount(temp))\n",
    "for _ in range(2):\n",
    "    pcount = pair_step(pcount, pis)\n",
    "\n",
    "pcount.most_common()"
   ]
  },
  {
   "cell_type": "code",
   "execution_count": 88,
   "metadata": {},
   "outputs": [],
   "source": [
    "letters = set()\n",
    "for p in pcount:\n",
    "    for l in p:\n",
    "        letters.add(l)\n",
    "letters\n",
    "\n",
    "l_count = dict()\n",
    "for l in letters:\n",
    "    lettc = [0, 0]\n",
    "    for p, c in pcount.most_common():\n",
    "        if p[0] == l:\n",
    "            lettc[0] = lettc[0] + c\n",
    "        if p[1] == l:\n",
    "            lettc[1] = lettc[1] + c\n",
    "    l_count[l] = lettc"
   ]
  },
  {
   "cell_type": "code",
   "execution_count": 90,
   "metadata": {},
   "outputs": [
    {
     "data": {
      "text/plain": [
       "3243771149914"
      ]
     },
     "execution_count": 90,
     "metadata": {},
     "output_type": "execute_result"
    }
   ],
   "source": [
    "l_count\n",
    "3817793399530 - 574022249616"
   ]
  },
  {
   "cell_type": "code",
   "execution_count": 85,
   "metadata": {},
   "outputs": [
    {
     "name": "stdout",
     "output_type": "stream",
     "text": [
      "[3817793399530, 3817793399530]\n"
     ]
    }
   ],
   "source": [
    "lettc = [0, 0]\n",
    "letter = 'O'\n",
    "for p, c in pcount.most_common():\n",
    "    if p[0] == letter:\n",
    "        lettc[0] = lettc[0] + c\n",
    "    if p[1] == letter:\n",
    "        lettc[1] = lettc[1] + c\n",
    "\n",
    "print(lettc)"
   ]
  },
  {
   "cell_type": "code",
   "execution_count": 75,
   "metadata": {},
   "outputs": [
    {
     "data": {
      "text/plain": [
       "Counter({'N': 5, 'B': 11, 'C': 5, 'H': 4})"
      ]
     },
     "execution_count": 75,
     "metadata": {},
     "output_type": "execute_result"
    }
   ],
   "source": [
    "# NNCB\n",
    "Counter('NBBBCNCCNBBNBNBBCHBHHBCHB')"
   ]
  },
  {
   "cell_type": "code",
   "execution_count": 50,
   "metadata": {},
   "outputs": [],
   "source": [
    "count = False\n",
    "for p, c in pcount.most_common():\n",
    "    if 'H' in p:\n",
    "        if count == False:\n",
    "            count = c\n",
    "        else:\n",
    "            count += c"
   ]
  },
  {
   "cell_type": "code",
   "execution_count": 51,
   "metadata": {},
   "outputs": [
    {
     "data": {
      "text/plain": [
       "290"
      ]
     },
     "execution_count": 51,
     "metadata": {},
     "output_type": "execute_result"
    }
   ],
   "source": [
    "3817793399530 - "
   ]
  },
  {
   "cell_type": "code",
   "execution_count": 91,
   "metadata": {},
   "outputs": [
    {
     "data": {
      "text/plain": [
       "Counter({'SN': 435173046053,\n",
       "         'NN': 292683331296,\n",
       "         'NC': 480893935966,\n",
       "         'CN': 404656840908,\n",
       "         'NP': 649500167567,\n",
       "         'PC': 526361681250,\n",
       "         'CB': 202514801822,\n",
       "         'BN': 344302331579,\n",
       "         'NK': 470908273847,\n",
       "         'KP': 345954490119,\n",
       "         'PS': 343212233378,\n",
       "         'SC': 263527104535,\n",
       "         'CF': 141270496082,\n",
       "         'FB': 512120888084,\n",
       "         'BC': 172296121637,\n",
       "         'PK': 301486424513,\n",
       "         'KN': 293180812015,\n",
       "         'PN': 171814606880,\n",
       "         'NS': 318485069235,\n",
       "         'CH': 412019075114,\n",
       "         'HF': 266480622650,\n",
       "         'FO': 824371819824,\n",
       "         'OB': 361001806014,\n",
       "         'BV': 166412641198,\n",
       "         'VC': 86228888796,\n",
       "         'CK': 171658110451,\n",
       "         'KH': 146630422346,\n",
       "         'HN': 283428774728,\n",
       "         'PO': 1061573856165,\n",
       "         'ON': 273415589094,\n",
       "         'CS': 159303063884,\n",
       "         'HH': 537018718302,\n",
       "         'HB': 275189544601,\n",
       "         'BF': 311181649249,\n",
       "         'FP': 547448396328,\n",
       "         'OK': 180334390976,\n",
       "         'KB': 240265818423,\n",
       "         'BH': 83242098740,\n",
       "         'HV': 83242098740,\n",
       "         'VN': 86432633344,\n",
       "         'KO': 97813570503,\n",
       "         'OH': 252225824924,\n",
       "         'OO': 1139811229503,\n",
       "         'CP': 159455754514,\n",
       "         'HP': 353172430938,\n",
       "         'PH': 269080904768,\n",
       "         'BS': 310705691771,\n",
       "         'SF': 342371854625,\n",
       "         'BP': 273034814633,\n",
       "         'OS': 122466691340,\n",
       "         'SK': 90076225949,\n",
       "         'NB': 120003731418,\n",
       "         'FH': 305204082526,\n",
       "         'HK': 41640993903,\n",
       "         'KV': 83332905561,\n",
       "         'KS': 48926400672,\n",
       "         'SO': 68742870860,\n",
       "         'NH': 126199048610,\n",
       "         'OF': 1222939018813,\n",
       "         'CC': 79770625671,\n",
       "         'HO': 354706827837,\n",
       "         'OP': 176938719224,\n",
       "         'BB': 210491866609,\n",
       "         'SS': 171073766500,\n",
       "         'SP': 79364803989,\n",
       "         'HC': 20831689801,\n",
       "         'KK': 41691911658,\n",
       "         'NF': 63147912455,\n",
       "         'FC': 100738720790,\n",
       "         'OV': 88660129642,\n",
       "         'VP': 88660129642,\n",
       "         'BO': 160401575194,\n",
       "         'SH': 39658299388,\n",
       "         'NV': 63266495503,\n",
       "         'VF': 31600332650,\n",
       "         'FF': 95082155472,\n",
       "         'FV': 89107978972,\n",
       "         'VH': 44433226782,\n",
       "         'VO': 110371649644,\n",
       "         'VS': 15815055118,\n",
       "         'VB': 110480333639})"
      ]
     },
     "execution_count": 91,
     "metadata": {},
     "output_type": "execute_result"
    }
   ],
   "source": [
    "pcount"
   ]
  },
  {
   "cell_type": "code",
   "execution_count": 39,
   "metadata": {},
   "outputs": [],
   "source": [
    "# ans = 0\n",
    "# for p, c in pcount.items():\n",
    "#     if 'B' in p:\n",
    "#         ans += c"
   ]
  },
  {
   "cell_type": "code",
   "execution_count": 43,
   "metadata": {},
   "outputs": [
    {
     "name": "stdout",
     "output_type": "stream",
     "text": [
      "1644727385835.0\n"
     ]
    },
    {
     "data": {
      "text/plain": [
       "2192039569602"
      ]
     },
     "execution_count": 43,
     "metadata": {},
     "output_type": "execute_result"
    }
   ],
   "source": [
    "print(ans / 2)\n",
    "2192039569602"
   ]
  },
  {
   "cell_type": "code",
   "execution_count": 32,
   "metadata": {},
   "outputs": [],
   "source": [
    "def pair_step(pcount, pis):\n",
    "    new_count = Counter()\n",
    "    for p, count in pcount.items():\n",
    "        mid = pis[p]\n",
    "        new_count[p[0]+mid] += count\n",
    "        new_count[mid+p[1]] += count\n",
    "    return new_count"
   ]
  },
  {
   "cell_type": "code",
   "execution_count": 29,
   "metadata": {},
   "outputs": [],
   "source": [
    "x = Counter()\n"
   ]
  },
  {
   "cell_type": "code",
   "execution_count": 30,
   "metadata": {},
   "outputs": [],
   "source": [
    "x[2] += 2"
   ]
  },
  {
   "cell_type": "code",
   "execution_count": 31,
   "metadata": {},
   "outputs": [
    {
     "data": {
      "text/plain": [
       "Counter({2: 2})"
      ]
     },
     "execution_count": 31,
     "metadata": {},
     "output_type": "execute_result"
    }
   ],
   "source": [
    "x"
   ]
  },
  {
   "cell_type": "code",
   "execution_count": null,
   "metadata": {},
   "outputs": [],
   "source": []
  }
 ],
 "metadata": {
  "kernelspec": {
   "display_name": "Python 3",
   "language": "python",
   "name": "python3"
  },
  "language_info": {
   "codemirror_mode": {
    "name": "ipython",
    "version": 3
   },
   "file_extension": ".py",
   "mimetype": "text/x-python",
   "name": "python",
   "nbconvert_exporter": "python",
   "pygments_lexer": "ipython3",
   "version": "3.8.5"
  }
 },
 "nbformat": 4,
 "nbformat_minor": 4
}
